{
 "cells": [
  {
   "cell_type": "code",
   "execution_count": 2,
   "id": "36385a0d",
   "metadata": {},
   "outputs": [
    {
     "name": "stdout",
     "output_type": "stream",
     "text": [
      "Sizes...\n",
      "((60000, 28, 28), (60000,))\n",
      "((10000, 28, 28), (10000,))\n"
     ]
    }
   ],
   "source": [
    "import numpy as np\n",
    "import keras\n",
    "import keras.datasets.mnist\n",
    "import time\n",
    "\n",
    "from tensorflow.keras.datasets import mnist\n",
    "from tensorflow.keras.utils import to_categorical\n",
    "from tensorflow.keras import Sequential\n",
    "from keras.layers import Dense, Flatten\n",
    "\n",
    "\n",
    "(x_train, y_train), (x_test, y_test) = keras.datasets.mnist.load_data()\n",
    "assert x_train.shape == (60000, 28, 28)\n",
    "assert x_test.shape == (10000, 28, 28)\n",
    "assert y_train.shape == (60000,)\n",
    "assert y_test.shape == (10000,) \n",
    "\n",
    "print(\"Sizes...\")\n",
    "print((x_train.shape,y_train.shape))\n",
    "print((x_test.shape,y_test.shape))"
   ]
  },
  {
   "cell_type": "code",
   "execution_count": 2,
   "id": "4f51fe24",
   "metadata": {},
   "outputs": [],
   "source": [
    "# Convert y_train into one-hot format\n",
    "# !!! Run only once\n",
    "temp = []\n",
    "for i in range(len(y_train)):\n",
    "    temp.append(to_categorical(y_train[i], num_classes=10))\n",
    "y_train = np.array(temp)\n",
    "# Convert y_test into one-hot format\n",
    "temp = []\n",
    "for i in range(len(y_test)):    \n",
    "    temp.append(to_categorical(y_test[i], num_classes=10))\n",
    "y_test = np.array(temp)"
   ]
  },
  {
   "cell_type": "code",
   "execution_count": 3,
   "id": "43e2ae3a",
   "metadata": {},
   "outputs": [
    {
     "name": "stdout",
     "output_type": "stream",
     "text": [
      "Sizes...\n",
      "((60000, 28, 28), (60000, 10))\n",
      "((10000, 28, 28), (10000, 10))\n"
     ]
    }
   ],
   "source": [
    "print(\"Sizes...\")\n",
    "print((x_train.shape,y_train.shape))\n",
    "print((x_test.shape,y_test.shape))"
   ]
  },
  {
   "cell_type": "code",
   "execution_count": 4,
   "id": "ad7a4110",
   "metadata": {},
   "outputs": [],
   "source": [
    "n=1000\n",
    "model4 = Sequential()\n",
    "model4.add(Flatten(input_shape=(28,28)))\n",
    "model4.add(Dense(n, activation='relu'))\n",
    "model4.add(Dense(n, activation='relu'))\n",
    "model4.add(Dense(10, activation='softmax'))\n",
    "\n",
    "model4.compile(loss='categorical_crossentropy', \n",
    "              optimizer='adam',\n",
    "              metrics=['acc'])"
   ]
  },
  {
   "cell_type": "code",
   "execution_count": 5,
   "id": "0bb86f02",
   "metadata": {},
   "outputs": [
    {
     "name": "stdout",
     "output_type": "stream",
     "text": [
      "Epoch 1/10\n",
      "1875/1875 [==============================] - 15s 8ms/step - loss: 1.4693 - acc: 0.9150 - val_loss: 0.2082 - val_acc: 0.9476\n",
      "Epoch 2/10\n",
      "1875/1875 [==============================] - 15s 8ms/step - loss: 0.2031 - acc: 0.9496 - val_loss: 0.2205 - val_acc: 0.9519\n",
      "Epoch 3/10\n",
      "1875/1875 [==============================] - 14s 8ms/step - loss: 0.1878 - acc: 0.9535 - val_loss: 0.1862 - val_acc: 0.9551\n",
      "Epoch 4/10\n",
      "1875/1875 [==============================] - 16s 8ms/step - loss: 0.1682 - acc: 0.9582 - val_loss: 0.1675 - val_acc: 0.9569\n",
      "Epoch 5/10\n",
      "1875/1875 [==============================] - 15s 8ms/step - loss: 0.1428 - acc: 0.9639 - val_loss: 0.1587 - val_acc: 0.9603\n",
      "Epoch 6/10\n",
      "1875/1875 [==============================] - 15s 8ms/step - loss: 0.1282 - acc: 0.9691 - val_loss: 0.1734 - val_acc: 0.9623\n",
      "Epoch 7/10\n",
      "1875/1875 [==============================] - 16s 8ms/step - loss: 0.1162 - acc: 0.9719 - val_loss: 0.1361 - val_acc: 0.9701\n",
      "Epoch 8/10\n",
      "1875/1875 [==============================] - 16s 9ms/step - loss: 0.1141 - acc: 0.9730 - val_loss: 0.1554 - val_acc: 0.9652\n",
      "Epoch 9/10\n",
      "1875/1875 [==============================] - 17s 9ms/step - loss: 0.1026 - acc: 0.9763 - val_loss: 0.1473 - val_acc: 0.9686\n",
      "Epoch 10/10\n",
      "1875/1875 [==============================] - 18s 10ms/step - loss: 0.0991 - acc: 0.9779 - val_loss: 0.1589 - val_acc: 0.9692\n"
     ]
    }
   ],
   "source": [
    "start = time.time()\n",
    "model4.fit(x_train, y_train, epochs=10,validation_data=(x_test,y_test))\n",
    "end = time.time()"
   ]
  },
  {
   "cell_type": "code",
   "execution_count": 49,
   "id": "cc1fbe47",
   "metadata": {},
   "outputs": [],
   "source": [
    "#model4.summary()"
   ]
  },
  {
   "cell_type": "code",
   "execution_count": 66,
   "id": "1ae0f922",
   "metadata": {},
   "outputs": [
    {
     "name": "stdout",
     "output_type": "stream",
     "text": [
      "-------------------------------------------------\n",
      "Benchmark Results for this test\n",
      "\n",
      "Elapsed Time (min): 3.3826238473256427\n",
      "202.95743083953857 seconds\n",
      "-------------------------------------------------\n"
     ]
    }
   ],
   "source": [
    "print(\"-------------------------------------------------\")\n",
    "print(\"Benchmark Results for this test\")\n",
    "print()\n",
    "print(\"Elapsed Time (min):\",(end - start)/60.0)\n",
    "print(end-start, \"seconds\")\n",
    "print(\"-------------------------------------------------\")\n"
   ]
  },
  {
   "cell_type": "markdown",
   "id": "4fda865d",
   "metadata": {},
   "source": [
    "## Predictions"
   ]
  },
  {
   "cell_type": "code",
   "execution_count": 51,
   "id": "a45a68e8",
   "metadata": {},
   "outputs": [
    {
     "data": {
      "text/plain": [
       "60000"
      ]
     },
     "execution_count": 51,
     "metadata": {},
     "output_type": "execute_result"
    }
   ],
   "source": [
    "#len(x_train)"
   ]
  },
  {
   "cell_type": "code",
   "execution_count": 67,
   "id": "2942563c",
   "metadata": {},
   "outputs": [
    {
     "name": "stdout",
     "output_type": "stream",
     "text": [
      "[[0. 0. 0. ... 0. 0. 0.]\n",
      " [1. 0. 0. ... 0. 0. 0.]\n",
      " [0. 0. 0. ... 0. 0. 0.]\n",
      " ...\n",
      " [0. 0. 0. ... 0. 1. 0.]\n",
      " [0. 0. 0. ... 0. 0. 0.]\n",
      " [0. 0. 0. ... 0. 1. 0.]]\n",
      "[[0. 0. 0. ... 0. 0. 0.]\n",
      " [1. 0. 0. ... 0. 0. 0.]\n",
      " [0. 0. 0. ... 0. 0. 0.]\n",
      " ...\n",
      " [0. 0. 0. ... 0. 1. 0.]\n",
      " [0. 0. 0. ... 0. 0. 0.]\n",
      " [0. 0. 0. ... 0. 1. 0.]]\n",
      "Time to classify  50000  images :  2.503750801086426\n",
      "Average time to classify 1 image :  0.0001\n"
     ]
    }
   ],
   "source": [
    "t = 50000\n",
    "train_sample = x_train[:t]\n",
    "test_sample = y_train[:t]\n",
    "\n",
    "start = time.time()\n",
    "preds = model4.predict(train_sample)\n",
    "end = time.time()\n",
    "\n",
    "print(np.around(preds,1))\n",
    "print(test_sample)\n",
    "print('Time to classify ', t, ' images : ', end-start)\n",
    "print('Average time to classify 1 image : ', round((end-start)/t, 4 ))\n",
    "\n",
    "#np.array_equal(np.around(preds,1),test_sample)"
   ]
  },
  {
   "cell_type": "code",
   "execution_count": 10,
   "id": "287512e4",
   "metadata": {},
   "outputs": [
    {
     "name": "stdout",
     "output_type": "stream",
     "text": [
      "<tensorflow.python.keras.engine.sequential.Sequential object at 0x18429ef10>\n"
     ]
    },
    {
     "data": {
      "text/plain": [
       "48"
      ]
     },
     "execution_count": 10,
     "metadata": {},
     "output_type": "execute_result"
    }
   ],
   "source": [
    "import sys\n",
    "print(model4)\n",
    "sys.getsizeof(model4)"
   ]
  },
  {
   "cell_type": "code",
   "execution_count": 11,
   "id": "c2d8b664",
   "metadata": {},
   "outputs": [
    {
     "name": "stdout",
     "output_type": "stream",
     "text": [
      "1\n"
     ]
    }
   ],
   "source": [
    "import tensorflow as tf\n",
    "physical_devices = tf.config.list_physical_devices('CPU')\n",
    "print(len(physical_devices))"
   ]
  },
  {
   "cell_type": "markdown",
   "id": "cd8f14d5",
   "metadata": {},
   "source": [
    "## Pickle ( or csv) and plot"
   ]
  },
  {
   "cell_type": "code",
   "execution_count": 8,
   "id": "5c269022",
   "metadata": {},
   "outputs": [],
   "source": [
    "import pandas as pd"
   ]
  },
  {
   "cell_type": "code",
   "execution_count": 9,
   "id": "777c774f",
   "metadata": {},
   "outputs": [
    {
     "data": {
      "text/html": [
       "<div>\n",
       "<style scoped>\n",
       "    .dataframe tbody tr th:only-of-type {\n",
       "        vertical-align: middle;\n",
       "    }\n",
       "\n",
       "    .dataframe tbody tr th {\n",
       "        vertical-align: top;\n",
       "    }\n",
       "\n",
       "    .dataframe thead th {\n",
       "        text-align: right;\n",
       "    }\n",
       "</style>\n",
       "<table border=\"1\" class=\"dataframe\">\n",
       "  <thead>\n",
       "    <tr style=\"text-align: right;\">\n",
       "      <th></th>\n",
       "      <th>Neurons</th>\n",
       "      <th>Execution time</th>\n",
       "      <th>Prediction time</th>\n",
       "      <th>By image</th>\n",
       "    </tr>\n",
       "  </thead>\n",
       "  <tbody>\n",
       "    <tr>\n",
       "      <th>0</th>\n",
       "      <td>5</td>\n",
       "      <td>7.45</td>\n",
       "      <td>0.22</td>\n",
       "      <td>0.0000</td>\n",
       "    </tr>\n",
       "    <tr>\n",
       "      <th>1</th>\n",
       "      <td>10</td>\n",
       "      <td>8.20</td>\n",
       "      <td>0.23</td>\n",
       "      <td>0.0000</td>\n",
       "    </tr>\n",
       "    <tr>\n",
       "      <th>2</th>\n",
       "      <td>50</td>\n",
       "      <td>10.04</td>\n",
       "      <td>0.22</td>\n",
       "      <td>0.0000</td>\n",
       "    </tr>\n",
       "    <tr>\n",
       "      <th>3</th>\n",
       "      <td>128</td>\n",
       "      <td>11.75</td>\n",
       "      <td>0.31</td>\n",
       "      <td>0.0000</td>\n",
       "    </tr>\n",
       "    <tr>\n",
       "      <th>4</th>\n",
       "      <td>256</td>\n",
       "      <td>15.16</td>\n",
       "      <td>0.31</td>\n",
       "      <td>0.0000</td>\n",
       "    </tr>\n",
       "    <tr>\n",
       "      <th>5</th>\n",
       "      <td>512</td>\n",
       "      <td>27.65</td>\n",
       "      <td>0.41</td>\n",
       "      <td>0.0000</td>\n",
       "    </tr>\n",
       "    <tr>\n",
       "      <th>6</th>\n",
       "      <td>1024</td>\n",
       "      <td>97.07</td>\n",
       "      <td>0.95</td>\n",
       "      <td>0.0001</td>\n",
       "    </tr>\n",
       "    <tr>\n",
       "      <th>7</th>\n",
       "      <td>2048</td>\n",
       "      <td>226.61</td>\n",
       "      <td>4.07</td>\n",
       "      <td>0.0004</td>\n",
       "    </tr>\n",
       "    <tr>\n",
       "      <th>8</th>\n",
       "      <td>4096</td>\n",
       "      <td>518.31</td>\n",
       "      <td>3.22</td>\n",
       "      <td>0.0003</td>\n",
       "    </tr>\n",
       "  </tbody>\n",
       "</table>\n",
       "</div>"
      ],
      "text/plain": [
       "   Neurons  Execution time   Prediction time   By image\n",
       "0        5             7.45             0.22     0.0000\n",
       "1       10             8.20             0.23     0.0000\n",
       "2       50            10.04             0.22     0.0000\n",
       "3      128            11.75             0.31     0.0000\n",
       "4      256            15.16             0.31     0.0000\n",
       "5      512            27.65             0.41     0.0000\n",
       "6     1024            97.07             0.95     0.0001\n",
       "7     2048           226.61             4.07     0.0004\n",
       "8     4096           518.31             3.22     0.0003"
      ]
     },
     "execution_count": 9,
     "metadata": {},
     "output_type": "execute_result"
    }
   ],
   "source": [
    "import pandas as pd\n",
    "macdf = pd.read_csv('../saved_results/csvmaccsv')\n",
    "macdf\n"
   ]
  },
  {
   "cell_type": "code",
   "execution_count": 10,
   "id": "286c3895",
   "metadata": {},
   "outputs": [
    {
     "data": {
      "text/plain": [
       "[[5.0, 7.45, 0.22, 0.0],\n",
       " [10.0, 8.2, 0.23, 0.0],\n",
       " [50.0, 10.04, 0.22, 0.0],\n",
       " [128.0, 11.75, 0.31, 0.0],\n",
       " [256.0, 15.16, 0.31, 0.0],\n",
       " [512.0, 27.65, 0.41, 0.0],\n",
       " [1024.0, 97.07, 0.95, 0.0001],\n",
       " [2048.0, 226.61, 4.07, 0.0004],\n",
       " [4096.0, 518.31, 3.22, 0.0003]]"
      ]
     },
     "execution_count": 10,
     "metadata": {},
     "output_type": "execute_result"
    }
   ],
   "source": [
    "\n",
    "dflist = macdf.values.tolist()\n",
    "dflist"
   ]
  },
  {
   "cell_type": "code",
   "execution_count": 11,
   "id": "77075e75",
   "metadata": {},
   "outputs": [
    {
     "data": {
      "text/plain": [
       "[7.45, 8.2, 10.04, 11.75, 15.16, 27.65, 97.07, 226.61, 518.31]"
      ]
     },
     "execution_count": 11,
     "metadata": {},
     "output_type": "execute_result"
    }
   ],
   "source": [
    "times_mac = []\n",
    "for i in macdf.values.tolist():\n",
    "    times_mac.append(i[1])\n",
    "times_mac"
   ]
  },
  {
   "cell_type": "code",
   "execution_count": 12,
   "id": "f252ac62",
   "metadata": {},
   "outputs": [
    {
     "data": {
      "text/plain": [
       "[5.0, 10.0, 50.0, 128.0, 256.0, 512.0, 1024.0, 2048.0, 4096.0]"
      ]
     },
     "execution_count": 12,
     "metadata": {},
     "output_type": "execute_result"
    }
   ],
   "source": [
    "idxlist = macdf.index.tolist()\n",
    "mac_neurons = []\n",
    "for i in macdf.values.tolist():\n",
    "    mac_neurons.append(i[0])\n",
    "mac_neurons"
   ]
  },
  {
   "cell_type": "code",
   "execution_count": 13,
   "id": "1caef9fd",
   "metadata": {},
   "outputs": [
    {
     "data": {
      "text/plain": [
       "[5.0, 10.0, 50.0, 128.0, 256.0, 512.0, 1024.0, 2048.0, 4096.0]"
      ]
     },
     "execution_count": 13,
     "metadata": {},
     "output_type": "execute_result"
    }
   ],
   "source": [
    "frododf = pd.read_csv('../saved_results/csvfrodocsv')\n",
    "times_frodo = []\n",
    "for i in frododf.values.tolist():\n",
    "    times_frodo.append(i[1])\n",
    "times_frodo\n",
    "\n",
    "frodo_neurons = []\n",
    "for i in frododf.values.tolist():\n",
    "    frodo_neurons.append(i[0])\n",
    "frodo_neurons\n"
   ]
  },
  {
   "cell_type": "code",
   "execution_count": 14,
   "id": "05a158f9",
   "metadata": {},
   "outputs": [
    {
     "data": {
      "text/html": [
       "<div>\n",
       "<style scoped>\n",
       "    .dataframe tbody tr th:only-of-type {\n",
       "        vertical-align: middle;\n",
       "    }\n",
       "\n",
       "    .dataframe tbody tr th {\n",
       "        vertical-align: top;\n",
       "    }\n",
       "\n",
       "    .dataframe thead th {\n",
       "        text-align: right;\n",
       "    }\n",
       "</style>\n",
       "<table border=\"1\" class=\"dataframe\">\n",
       "  <thead>\n",
       "    <tr style=\"text-align: right;\">\n",
       "      <th></th>\n",
       "      <th>Neurons</th>\n",
       "      <th>Execution time</th>\n",
       "      <th>Prediction time</th>\n",
       "      <th>By image</th>\n",
       "    </tr>\n",
       "  </thead>\n",
       "  <tbody>\n",
       "    <tr>\n",
       "      <th>0</th>\n",
       "      <td>5</td>\n",
       "      <td>57.65</td>\n",
       "      <td>3.61</td>\n",
       "      <td>0.0004</td>\n",
       "    </tr>\n",
       "    <tr>\n",
       "      <th>1</th>\n",
       "      <td>10</td>\n",
       "      <td>55.99</td>\n",
       "      <td>0.90</td>\n",
       "      <td>0.0001</td>\n",
       "    </tr>\n",
       "    <tr>\n",
       "      <th>2</th>\n",
       "      <td>50</td>\n",
       "      <td>57.68</td>\n",
       "      <td>0.89</td>\n",
       "      <td>0.0001</td>\n",
       "    </tr>\n",
       "    <tr>\n",
       "      <th>3</th>\n",
       "      <td>128</td>\n",
       "      <td>56.11</td>\n",
       "      <td>0.89</td>\n",
       "      <td>0.0001</td>\n",
       "    </tr>\n",
       "    <tr>\n",
       "      <th>4</th>\n",
       "      <td>256</td>\n",
       "      <td>57.65</td>\n",
       "      <td>0.88</td>\n",
       "      <td>0.0001</td>\n",
       "    </tr>\n",
       "    <tr>\n",
       "      <th>5</th>\n",
       "      <td>512</td>\n",
       "      <td>57.69</td>\n",
       "      <td>0.89</td>\n",
       "      <td>0.0001</td>\n",
       "    </tr>\n",
       "    <tr>\n",
       "      <th>6</th>\n",
       "      <td>1024</td>\n",
       "      <td>58.32</td>\n",
       "      <td>0.90</td>\n",
       "      <td>0.0001</td>\n",
       "    </tr>\n",
       "    <tr>\n",
       "      <th>7</th>\n",
       "      <td>2048</td>\n",
       "      <td>58.91</td>\n",
       "      <td>0.89</td>\n",
       "      <td>0.0001</td>\n",
       "    </tr>\n",
       "    <tr>\n",
       "      <th>8</th>\n",
       "      <td>4096</td>\n",
       "      <td>63.72</td>\n",
       "      <td>0.93</td>\n",
       "      <td>0.0001</td>\n",
       "    </tr>\n",
       "  </tbody>\n",
       "</table>\n",
       "</div>"
      ],
      "text/plain": [
       "   Neurons  Execution time   Prediction time   By image\n",
       "0        5            57.65             3.61     0.0004\n",
       "1       10            55.99             0.90     0.0001\n",
       "2       50            57.68             0.89     0.0001\n",
       "3      128            56.11             0.89     0.0001\n",
       "4      256            57.65             0.88     0.0001\n",
       "5      512            57.69             0.89     0.0001\n",
       "6     1024            58.32             0.90     0.0001\n",
       "7     2048            58.91             0.89     0.0001\n",
       "8     4096            63.72             0.93     0.0001"
      ]
     },
     "execution_count": 14,
     "metadata": {},
     "output_type": "execute_result"
    }
   ],
   "source": [
    "frododf"
   ]
  },
  {
   "cell_type": "code",
   "execution_count": 15,
   "id": "f2aef072",
   "metadata": {},
   "outputs": [
    {
     "data": {
      "text/plain": [
       "[5.0, 10.0, 50.0, 128.0, 256.0, 512.0, 1024.0, 2048.0, 4096.0]"
      ]
     },
     "execution_count": 15,
     "metadata": {},
     "output_type": "execute_result"
    }
   ],
   "source": [
    "pidf = pd.read_csv('../saved_results/pi.csv')\n",
    "times_pi = []\n",
    "for i in pidf.values.tolist():\n",
    "    times_pi.append(i[1])\n",
    "times_pi\n",
    "\n",
    "pi_neurons = []\n",
    "for i in pidf.values.tolist():\n",
    "    pi_neurons.append(i[0])\n",
    "pi_neurons"
   ]
  },
  {
   "cell_type": "code",
   "execution_count": 16,
   "id": "d8e40319",
   "metadata": {},
   "outputs": [
    {
     "name": "stdout",
     "output_type": "stream",
     "text": [
      "[57.65, 55.99, 57.68, 56.11, 57.65, 57.69, 58.32, 58.91, 63.72]\n"
     ]
    },
    {
     "data": {
      "text/plain": [
       "[5.0, 10.0, 50.0, 128.0, 256.0, 512.0, 1024.0, 2048.0, 4096.0]"
      ]
     },
     "execution_count": 16,
     "metadata": {},
     "output_type": "execute_result"
    }
   ],
   "source": [
    "print(times_frodo)\n",
    "frodo_neurons"
   ]
  },
  {
   "cell_type": "code",
   "execution_count": 17,
   "id": "d5627cc5",
   "metadata": {},
   "outputs": [
    {
     "data": {
      "image/png": "[encoded data removed]",
      "text/plain": [
       "<Figure size 432x288 with 1 Axes>"
      ]
     },
     "metadata": {
      "needs_background": "light"
     },
     "output_type": "display_data"
    },
    {
     "data": {
      "image/png": "[encoded data removed]",
      "text/plain": [
       "<Figure size 432x288 with 1 Axes>"
      ]
     },
     "metadata": {
      "needs_background": "light"
     },
     "output_type": "display_data"
    },
    {
     "data": {
      "image/png": "[encoded data removed]",
      "text/plain": [
       "<Figure size 432x288 with 1 Axes>"
      ]
     },
     "metadata": {
      "needs_background": "light"
     },
     "output_type": "display_data"
    },
    {
     "data": {
      "image/png": "[encoded data removed]",
      "text/plain": [
       "<Figure size 432x288 with 1 Axes>"
      ]
     },
     "metadata": {
      "needs_background": "light"
     },
     "output_type": "display_data"
    },
    {
     "data": {
      "image/png": "[encoded data removed]",
      "text/plain": [
       "<Figure size 432x288 with 1 Axes>"
      ]
     },
     "metadata": {
      "needs_background": "light"
     },
     "output_type": "display_data"
    },
    {
     "data": {
      "image/png": "[encoded data removed]",
      "text/plain": [
       "<Figure size 432x288 with 1 Axes>"
      ]
     },
     "metadata": {
      "needs_background": "light"
     },
     "output_type": "display_data"
    }
   ],
   "source": [
    "import matplotlib.pyplot as plt \n",
    "\n",
    "for i in range(4,10):\n",
    "    plt.xlim(0,4200)\n",
    "    plt.plot(mac_neurons[:i],times_mac[:i], 'b')\n",
    "    plt.plot(frodo_neurons[:i], times_frodo[:i], 'r')\n",
    "    plt.plot(pi_neurons[:i], times_pi[:i], 'g')\n",
    "    plt.show()\n"
   ]
  },
  {
   "cell_type": "markdown",
   "id": "f94613df",
   "metadata": {},
   "source": [
    "## Animation"
   ]
  },
  {
   "cell_type": "code",
   "execution_count": 31,
   "id": "0aab2260",
   "metadata": {},
   "outputs": [
    {
     "name": "stderr",
     "output_type": "stream",
     "text": [
      "MovieWriter imagemagick unavailable; using Pillow instead.\n"
     ]
    },
    {
     "name": "stdout",
     "output_type": "stream",
     "text": [
      "done\n"
     ]
    },
    {
     "data": {
      "image/png": "[encoded data removed]",
      "text/plain": [
       "<Figure size 432x288 with 1 Axes>"
      ]
     },
     "metadata": {
      "needs_background": "light"
     },
     "output_type": "display_data"
    }
   ],
   "source": [
    "from matplotlib import pyplot as plt\n",
    "from celluloid import Camera\n",
    "\n",
    "fig = plt.figure()\n",
    "camera = Camera(fig)\n",
    "for i in range(4,10):\n",
    "    plt.xlim(0,4200)\n",
    "    plt.plot(mac_neurons[:i],times_mac[:i], 'b')\n",
    "    plt.plot(frodo_neurons[:i], times_frodo[:i], 'r')\n",
    "    plt.plot(pi_neurons[:i], times_pi[:i], 'g')\n",
    "    #plt.show()\n",
    "    camera.snap()\n",
    "animation = camera.animate(interval = 1000)#, repeat = True, repeat_delay = 5)\n",
    "print(\"done\")\n",
    "animation.save('celluloid_minimal.gif', writer = 'imagemagick')"
   ]
  },
  {
   "cell_type": "code",
   "execution_count": null,
   "id": "6ac209e5",
   "metadata": {},
   "outputs": [],
   "source": []
  }
 ],
 "metadata": {
  "interpreter": {
   "hash": "dca0ade3e726a953b501b15e8e990130d2b7799f14cfd9f4271676035ebe5511"
  },
  "kernelspec": {
   "display_name": "Python 3 (ipykernel)",
   "language": "python",
   "name": "python3"
  },
  "language_info": {
   "codemirror_mode": {
    "name": "ipython",
    "version": 3
   },
   "file_extension": ".py",
   "mimetype": "text/x-python",
   "name": "python",
   "nbconvert_exporter": "python",
   "pygments_lexer": "ipython3",
   "version": "3.8.2"
  }
 },
 "nbformat": 4,
 "nbformat_minor": 5
}
