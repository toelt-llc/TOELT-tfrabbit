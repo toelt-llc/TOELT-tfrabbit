{
 "cells": [
  {
   "cell_type": "code",
   "execution_count": 1,
   "metadata": {},
   "outputs": [],
   "source": [
    "import os\n",
    "import pandas as pd"
   ]
  },
  {
   "cell_type": "code",
   "execution_count": 2,
   "metadata": {},
   "outputs": [],
   "source": [
    "prefix = './'\n",
    "suffix = '.h5_mnist_model_quant8.tflite'\n",
    "litedir = './progressive_models_lite_kept'\n",
    "classicdir = './progressive_models'"
   ]
  },
  {
   "cell_type": "code",
   "execution_count": 3,
   "metadata": {},
   "outputs": [],
   "source": [
    "tflite_models = []\n",
    "sizes_lite = {}\n",
    "for dirname, _, filenames in os.walk(litedir):\n",
    "    for filename in sorted(filenames):\n",
    "        tflite_models.append(os.path.join(dirname, filename))\n",
    "        sizes_lite[filename[0:-len(suffix)]] = round(os.stat(os.path.join(litedir,filename)).st_size/1000000,1)"
   ]
  },
  {
   "cell_type": "code",
   "execution_count": 4,
   "metadata": {},
   "outputs": [
    {
     "data": {
      "text/plain": [
       "{'ffnn2048_10': 39.5,\n",
       " 'ffnn2048_6': 22.7,\n",
       " 'ffnn2048_8': 31.1,\n",
       " 'ffnn2500_6': 33.3,\n",
       " 'ffnn3000_4': 29.4,\n",
       " 'ffnn3500_3': 27.3,\n",
       " 'ffnn4000_3': 35.2,\n",
       " 'ffnn4500_2': 23.9,\n",
       " 'ffnn5000_2': 29.0,\n",
       " 'ffnn5500_2': 34.7}"
      ]
     },
     "execution_count": 4,
     "metadata": {},
     "output_type": "execute_result"
    }
   ],
   "source": [
    "names = [ele[31:-len(suffix)] for ele in tflite_models if ele.endswith(suffix) and ele.startswith(prefix)]\n",
    "#sizes_lite.pop('sizes.ipynb')\n",
    "sizes_lite"
   ]
  },
  {
   "cell_type": "code",
   "execution_count": 5,
   "metadata": {},
   "outputs": [
    {
     "data": {
      "text/plain": [
       "['ffnn2048_10',\n",
       " 'ffnn2048_6',\n",
       " 'ffnn2048_8',\n",
       " 'ffnn2500_6',\n",
       " 'ffnn3000_4',\n",
       " 'ffnn3500_3',\n",
       " 'ffnn4000_3',\n",
       " 'ffnn4500_2',\n",
       " 'ffnn5000_2',\n",
       " 'ffnn5500_2']"
      ]
     },
     "execution_count": 5,
     "metadata": {},
     "output_type": "execute_result"
    }
   ],
   "source": [
    "names"
   ]
  },
  {
   "cell_type": "code",
   "execution_count": 6,
   "metadata": {},
   "outputs": [
    {
     "name": "stdout",
     "output_type": "stream",
     "text": [
      "ffnn4000_3\n"
     ]
    }
   ],
   "source": [
    "for name in names:\n",
    "    if name.startswith('ffnn4000_3'):\n",
    "        print(name)"
   ]
  },
  {
   "cell_type": "code",
   "execution_count": 7,
   "metadata": {},
   "outputs": [],
   "source": [
    "tf_models = []\n",
    "sizes_classic = {}\n",
    "prefix = 'maybe'\n",
    "suffix = '.h5'\n",
    "for name in names:\n",
    "    for dirname, _, filenames in os.walk(classicdir):\n",
    "        for filename in sorted(filenames):\n",
    "            if filename.startswith(name):\n",
    "                tf_models.append(filename[:-3]+'_classic')\n",
    "                sizes_classic[filename[:-len(suffix)]] = round(os.stat(os.path.join(classicdir,filename)).st_size/1000000,1)"
   ]
  },
  {
   "cell_type": "code",
   "execution_count": 8,
   "metadata": {},
   "outputs": [
    {
     "data": {
      "text/plain": [
       "['ffnn2048_10_classic',\n",
       " 'ffnn2048_6_classic',\n",
       " 'ffnn2048_8_classic',\n",
       " 'ffnn2500_6_classic',\n",
       " 'ffnn3000_4_classic',\n",
       " 'ffnn3500_3_classic',\n",
       " 'ffnn4000_3_classic',\n",
       " 'ffnn4500_2_classic',\n",
       " 'ffnn5000_2_classic',\n",
       " 'ffnn5500_2_classic']"
      ]
     },
     "execution_count": 8,
     "metadata": {},
     "output_type": "execute_result"
    }
   ],
   "source": [
    "tf_models"
   ]
  },
  {
   "cell_type": "code",
   "execution_count": 9,
   "metadata": {},
   "outputs": [
    {
     "data": {
      "text/plain": [
       "{'ffnn2048_10': 472.8,\n",
       " 'ffnn2048_6': 271.4,\n",
       " 'ffnn2048_8': 372.1,\n",
       " 'ffnn2500_6': 399.1,\n",
       " 'ffnn3000_4': 352.8,\n",
       " 'ffnn3500_3': 327.5,\n",
       " 'ffnn4000_3': 422.3,\n",
       " 'ffnn4500_2': 286.0,\n",
       " 'ffnn5000_2': 347.8,\n",
       " 'ffnn5500_2': 415.6}"
      ]
     },
     "execution_count": 9,
     "metadata": {},
     "output_type": "execute_result"
    }
   ],
   "source": [
    "sizes_classic"
   ]
  },
  {
   "cell_type": "code",
   "execution_count": 10,
   "metadata": {},
   "outputs": [
    {
     "data": {
      "text/plain": [
       "dict_values([472.8, 271.4, 372.1, 399.1, 352.8, 327.5, 422.3, 286.0, 347.8, 415.6])"
      ]
     },
     "execution_count": 10,
     "metadata": {},
     "output_type": "execute_result"
    }
   ],
   "source": [
    "sizes_classic.values()"
   ]
  },
  {
   "cell_type": "code",
   "execution_count": 11,
   "metadata": {},
   "outputs": [],
   "source": [
    "lite = pd.DataFrame(sizes_lite, index = ['lite'])\n",
    "classic = pd.DataFrame(sizes_classic, index = ['classic'])"
   ]
  },
  {
   "cell_type": "code",
   "execution_count": 12,
   "metadata": {},
   "outputs": [],
   "source": [
    "tot = pd.concat([lite,classic])"
   ]
  },
  {
   "cell_type": "code",
   "execution_count": 13,
   "metadata": {},
   "outputs": [
    {
     "data": {
      "text/html": [
       "<div>\n",
       "<style scoped>\n",
       "    .dataframe tbody tr th:only-of-type {\n",
       "        vertical-align: middle;\n",
       "    }\n",
       "\n",
       "    .dataframe tbody tr th {\n",
       "        vertical-align: top;\n",
       "    }\n",
       "\n",
       "    .dataframe thead th {\n",
       "        text-align: right;\n",
       "    }\n",
       "</style>\n",
       "<table border=\"1\" class=\"dataframe\">\n",
       "  <thead>\n",
       "    <tr style=\"text-align: right;\">\n",
       "      <th></th>\n",
       "      <th>ffnn2048_10</th>\n",
       "      <th>ffnn2048_6</th>\n",
       "      <th>ffnn2048_8</th>\n",
       "      <th>ffnn2500_6</th>\n",
       "      <th>ffnn3000_4</th>\n",
       "      <th>ffnn3500_3</th>\n",
       "      <th>ffnn4000_3</th>\n",
       "      <th>ffnn4500_2</th>\n",
       "      <th>ffnn5000_2</th>\n",
       "      <th>ffnn5500_2</th>\n",
       "    </tr>\n",
       "  </thead>\n",
       "  <tbody>\n",
       "    <tr>\n",
       "      <th>lite</th>\n",
       "      <td>39.5</td>\n",
       "      <td>22.7</td>\n",
       "      <td>31.1</td>\n",
       "      <td>33.3</td>\n",
       "      <td>29.4</td>\n",
       "      <td>27.3</td>\n",
       "      <td>35.2</td>\n",
       "      <td>23.9</td>\n",
       "      <td>29.0</td>\n",
       "      <td>34.7</td>\n",
       "    </tr>\n",
       "    <tr>\n",
       "      <th>classic</th>\n",
       "      <td>472.8</td>\n",
       "      <td>271.4</td>\n",
       "      <td>372.1</td>\n",
       "      <td>399.1</td>\n",
       "      <td>352.8</td>\n",
       "      <td>327.5</td>\n",
       "      <td>422.3</td>\n",
       "      <td>286.0</td>\n",
       "      <td>347.8</td>\n",
       "      <td>415.6</td>\n",
       "    </tr>\n",
       "  </tbody>\n",
       "</table>\n",
       "</div>"
      ],
      "text/plain": [
       "         ffnn2048_10  ffnn2048_6  ffnn2048_8  ffnn2500_6  ffnn3000_4  \\\n",
       "lite            39.5        22.7        31.1        33.3        29.4   \n",
       "classic        472.8       271.4       372.1       399.1       352.8   \n",
       "\n",
       "         ffnn3500_3  ffnn4000_3  ffnn4500_2  ffnn5000_2  ffnn5500_2  \n",
       "lite           27.3        35.2        23.9        29.0        34.7  \n",
       "classic       327.5       422.3       286.0       347.8       415.6  "
      ]
     },
     "execution_count": 13,
     "metadata": {},
     "output_type": "execute_result"
    }
   ],
   "source": [
    "tot"
   ]
  },
  {
   "cell_type": "code",
   "execution_count": null,
   "metadata": {},
   "outputs": [],
   "source": []
  }
 ],
 "metadata": {
  "interpreter": {
   "hash": "dca0ade3e726a953b501b15e8e990130d2b7799f14cfd9f4271676035ebe5511"
  },
  "kernelspec": {
   "display_name": "Python 3 (ipykernel)",
   "language": "python",
   "name": "python3"
  },
  "language_info": {
   "codemirror_mode": {
    "name": "ipython",
    "version": 3
   },
   "file_extension": ".py",
   "mimetype": "text/x-python",
   "name": "python",
   "nbconvert_exporter": "python",
   "pygments_lexer": "ipython3",
   "version": "3.8.10"
  }
 },
 "nbformat": 4,
 "nbformat_minor": 4
}
