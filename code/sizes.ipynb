{
 "cells": [
  {
   "cell_type": "code",
   "execution_count": 29,
   "source": [
    "import os"
   ],
   "outputs": [],
   "metadata": {}
  },
  {
   "cell_type": "code",
   "execution_count": 30,
   "source": [
    "prefix = './'\n",
    "suffix = '.h5_mnist_model_quant8.tflite'\n",
    "litedir = './progressive_models_lite_kept'\n",
    "classicdir = './progressive_models'"
   ],
   "outputs": [],
   "metadata": {}
  },
  {
   "cell_type": "code",
   "execution_count": 31,
   "source": [
    "tflite_models = []\n",
    "sizes_lite = {}\n",
    "for dirname, _, filenames in os.walk(litedir):\n",
    "    for filename in sorted(filenames):\n",
    "        tflite_models.append(os.path.join(dirname, filename))\n",
    "        sizes_lite[filename[0:-len(suffix)]+'_lite'] = os.stat(os.path.join(litedir,filename)).st_size/1000"
   ],
   "outputs": [],
   "metadata": {}
  },
  {
   "cell_type": "code",
   "execution_count": 32,
   "source": [
    "names = [ele[31:-len(suffix)] for ele in tflite_models if ele.endswith(suffix) and ele.startswith(prefix)]\n",
    "#sizes_lite.pop('sizes.ipynb')\n",
    "sizes_lite"
   ],
   "outputs": [
    {
     "output_type": "execute_result",
     "data": {
      "text/plain": [
       "{'ffnn2048_10_lite': 39463.488,\n",
       " 'ffnn2048_6_lite': 22651.552,\n",
       " 'ffnn2048_8_lite': 31057.52,\n",
       " 'ffnn2500_6_lite': 33299.768,\n",
       " 'ffnn3000_4_lite': 29433.792,\n",
       " 'ffnn3500_3_lite': 27324.304,\n",
       " 'ffnn4000_3_lite': 35227.304,\n",
       " 'ffnn4500_2_lite': 23861.816,\n",
       " 'ffnn5000_2_lite': 29012.816,\n",
       " 'ffnn5500_2_lite': 34663.816}"
      ]
     },
     "metadata": {},
     "execution_count": 32
    }
   ],
   "metadata": {}
  },
  {
   "cell_type": "code",
   "execution_count": 33,
   "source": [
    "names"
   ],
   "outputs": [
    {
     "output_type": "execute_result",
     "data": {
      "text/plain": [
       "['ffnn2048_10',\n",
       " 'ffnn2048_6',\n",
       " 'ffnn2048_8',\n",
       " 'ffnn2500_6',\n",
       " 'ffnn3000_4',\n",
       " 'ffnn3500_3',\n",
       " 'ffnn4000_3',\n",
       " 'ffnn4500_2',\n",
       " 'ffnn5000_2',\n",
       " 'ffnn5500_2']"
      ]
     },
     "metadata": {},
     "execution_count": 33
    }
   ],
   "metadata": {}
  },
  {
   "cell_type": "code",
   "execution_count": 35,
   "source": [
    "for name in names:\n",
    "    if name.startswith('ffnn4000_3'):\n",
    "        print(name)"
   ],
   "outputs": [
    {
     "output_type": "stream",
     "name": "stdout",
     "text": [
      "ffnn4000_3\n"
     ]
    }
   ],
   "metadata": {}
  },
  {
   "cell_type": "code",
   "execution_count": 38,
   "source": [
    "tf_models = []\n",
    "prefix = 'maybe'\n",
    "suffix = 'tochange'\n",
    "for name in names:\n",
    "    for dirname, _, filenames in os.walk(litedir):\n",
    "        for filename in sorted(filenames):\n",
    "            if filename.startswith(name):\n",
    "                tf_models.append(filename)\n",
    "                sizes_lite[filename[0:-len(suffix)]+'_classic'] = os.stat(os.path.join(litedir,filename)).st_size/1000"
   ],
   "outputs": [],
   "metadata": {}
  },
  {
   "cell_type": "code",
   "execution_count": 39,
   "source": [
    "tf_models"
   ],
   "outputs": [
    {
     "output_type": "execute_result",
     "data": {
      "text/plain": [
       "['ffnn2048_10.h5_mnist_model_quant8.tflite',\n",
       " 'ffnn2048_6.h5_mnist_model_quant8.tflite',\n",
       " 'ffnn2048_8.h5_mnist_model_quant8.tflite',\n",
       " 'ffnn2500_6.h5_mnist_model_quant8.tflite',\n",
       " 'ffnn3000_4.h5_mnist_model_quant8.tflite',\n",
       " 'ffnn3500_3.h5_mnist_model_quant8.tflite',\n",
       " 'ffnn4000_3.h5_mnist_model_quant8.tflite',\n",
       " 'ffnn4500_2.h5_mnist_model_quant8.tflite',\n",
       " 'ffnn5000_2.h5_mnist_model_quant8.tflite',\n",
       " 'ffnn5500_2.h5_mnist_model_quant8.tflite']"
      ]
     },
     "metadata": {},
     "execution_count": 39
    }
   ],
   "metadata": {}
  },
  {
   "cell_type": "code",
   "execution_count": null,
   "source": [],
   "outputs": [],
   "metadata": {}
  }
 ],
 "metadata": {
  "orig_nbformat": 4,
  "language_info": {
   "name": "python",
   "version": "3.8.8",
   "mimetype": "text/x-python",
   "codemirror_mode": {
    "name": "ipython",
    "version": 3
   },
   "pygments_lexer": "ipython3",
   "nbconvert_exporter": "python",
   "file_extension": ".py"
  },
  "kernelspec": {
   "name": "python3",
   "display_name": "Python 3.8.8 64-bit ('base': conda)"
  },
  "interpreter": {
   "hash": "dca0ade3e726a953b501b15e8e990130d2b7799f14cfd9f4271676035ebe5511"
  }
 },
 "nbformat": 4,
 "nbformat_minor": 2
}