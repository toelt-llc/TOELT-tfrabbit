{
 "cells": [
  {
   "cell_type": "code",
   "execution_count": 1,
   "source": [
    "import pickle"
   ],
   "outputs": [],
   "metadata": {}
  },
  {
   "cell_type": "code",
   "execution_count": 7,
   "source": [
    "with open('RPI_inferences_mnist_2mac.pkl', 'rb') as f:\n",
    "    results_mnist = pickle.load(f)"
   ],
   "outputs": [],
   "metadata": {}
  },
  {
   "cell_type": "code",
   "execution_count": 8,
   "source": [
    "results_mnist[0]"
   ],
   "outputs": [
    {
     "output_type": "execute_result",
     "data": {
      "text/html": [
       "<div>\n",
       "<style scoped>\n",
       "    .dataframe tbody tr th:only-of-type {\n",
       "        vertical-align: middle;\n",
       "    }\n",
       "\n",
       "    .dataframe tbody tr th {\n",
       "        vertical-align: top;\n",
       "    }\n",
       "\n",
       "    .dataframe thead th {\n",
       "        text-align: right;\n",
       "    }\n",
       "</style>\n",
       "<table border=\"1\" class=\"dataframe\">\n",
       "  <thead>\n",
       "    <tr style=\"text-align: right;\">\n",
       "      <th></th>\n",
       "      <th>./mnist_tflite_models/CNN_mnist_model.tflite</th>\n",
       "      <th>./mnist_tflite_models/CNN_mnist_model_quant.tflite</th>\n",
       "      <th>./mnist_tflite_models/CNN_mnist_model_quant16.tflite</th>\n",
       "      <th>./mnist_tflite_models/CNN_mnist_model_quant8.tflite</th>\n",
       "      <th>./mnist_tflite_models/FFNN_mnist_model.tflite</th>\n",
       "      <th>./mnist_tflite_models/FFNN_mnist_model_quant.tflite</th>\n",
       "      <th>./mnist_tflite_models/FFNN_mnist_model_quant16.tflite</th>\n",
       "      <th>./mnist_tflite_models/FFNN_mnist_model_quant8.tflite</th>\n",
       "      <th>cnn</th>\n",
       "      <th>ffnn</th>\n",
       "    </tr>\n",
       "  </thead>\n",
       "  <tbody>\n",
       "    <tr>\n",
       "      <th>0</th>\n",
       "      <td>0.76</td>\n",
       "      <td>0.77</td>\n",
       "      <td>0.75</td>\n",
       "      <td>3.67</td>\n",
       "      <td>0.66</td>\n",
       "      <td>0.82</td>\n",
       "      <td>0.66</td>\n",
       "      <td>8.73</td>\n",
       "      <td>0.53</td>\n",
       "      <td>0.74</td>\n",
       "    </tr>\n",
       "    <tr>\n",
       "      <th>1</th>\n",
       "      <td>0.76</td>\n",
       "      <td>0.77</td>\n",
       "      <td>0.76</td>\n",
       "      <td>3.27</td>\n",
       "      <td>0.66</td>\n",
       "      <td>0.76</td>\n",
       "      <td>0.63</td>\n",
       "      <td>9.55</td>\n",
       "      <td>0.36</td>\n",
       "      <td>0.66</td>\n",
       "    </tr>\n",
       "  </tbody>\n",
       "</table>\n",
       "</div>"
      ],
      "text/plain": [
       "   ./mnist_tflite_models/CNN_mnist_model.tflite  \\\n",
       "0                                          0.76   \n",
       "1                                          0.76   \n",
       "\n",
       "   ./mnist_tflite_models/CNN_mnist_model_quant.tflite  \\\n",
       "0                                               0.77    \n",
       "1                                               0.77    \n",
       "\n",
       "   ./mnist_tflite_models/CNN_mnist_model_quant16.tflite  \\\n",
       "0                                               0.75      \n",
       "1                                               0.76      \n",
       "\n",
       "   ./mnist_tflite_models/CNN_mnist_model_quant8.tflite  \\\n",
       "0                                               3.67     \n",
       "1                                               3.27     \n",
       "\n",
       "   ./mnist_tflite_models/FFNN_mnist_model.tflite  \\\n",
       "0                                           0.66   \n",
       "1                                           0.66   \n",
       "\n",
       "   ./mnist_tflite_models/FFNN_mnist_model_quant.tflite  \\\n",
       "0                                               0.82     \n",
       "1                                               0.76     \n",
       "\n",
       "   ./mnist_tflite_models/FFNN_mnist_model_quant16.tflite  \\\n",
       "0                                               0.66       \n",
       "1                                               0.63       \n",
       "\n",
       "   ./mnist_tflite_models/FFNN_mnist_model_quant8.tflite   cnn  ffnn  \n",
       "0                                               8.73     0.53  0.74  \n",
       "1                                               9.55     0.36  0.66  "
      ]
     },
     "metadata": {},
     "execution_count": 8
    }
   ],
   "metadata": {}
  },
  {
   "cell_type": "code",
   "execution_count": null,
   "source": [],
   "outputs": [],
   "metadata": {}
  }
 ],
 "metadata": {
  "interpreter": {
   "hash": "dca0ade3e726a953b501b15e8e990130d2b7799f14cfd9f4271676035ebe5511"
  },
  "kernelspec": {
   "name": "python3",
   "display_name": "Python 3.8.8 64-bit ('base': conda)"
  },
  "language_info": {
   "codemirror_mode": {
    "name": "ipython",
    "version": 3
   },
   "file_extension": ".py",
   "mimetype": "text/x-python",
   "name": "python",
   "nbconvert_exporter": "python",
   "pygments_lexer": "ipython3",
   "version": "3.8.8"
  }
 },
 "nbformat": 4,
 "nbformat_minor": 4
}