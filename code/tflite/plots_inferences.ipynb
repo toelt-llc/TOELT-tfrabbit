{
 "cells": [
  {
   "cell_type": "code",
   "execution_count": 94,
   "source": [
    "import matplotlib.pyplot as plt \n",
    "import matplotlib as mpl\n",
    "import pandas as pd\n",
    "from scipy.optimize import curve_fit\n",
    "import numpy as np\n",
    "import os"
   ],
   "outputs": [],
   "metadata": {}
  },
  {
   "cell_type": "code",
   "execution_count": 95,
   "source": [
    "data_mac = pd.read_csv('RPI_inferences_loop_5.csv')"
   ],
   "outputs": [],
   "metadata": {}
  },
  {
   "cell_type": "code",
   "execution_count": 96,
   "source": [
    "names = ['cnn_converted', 'cnn_quant', 'cnn_quant16', 'cnn_quant8', 'ffnn_converted', 'ffnn_quant', 'ffnn_quant16', 'ffnn_quant8']\n",
    "ind = [0,1,2,3,4,5,6,7]\n",
    "old_names = data_mac.columns[ind]\n",
    "data_mac.rename(columns=dict(zip(old_names, names)),inplace=True)"
   ],
   "outputs": [],
   "metadata": {}
  },
  {
   "cell_type": "code",
   "execution_count": 97,
   "source": [
    "y = [i for i in range(0,10,1)]\n",
    "data_mac.loc['mean'] = data_mac.mean()"
   ],
   "outputs": [],
   "metadata": {}
  },
  {
   "cell_type": "code",
   "execution_count": 98,
   "source": [
    "data_mac"
   ],
   "outputs": [
    {
     "output_type": "execute_result",
     "data": {
      "text/html": [
       "<div>\n",
       "<style scoped>\n",
       "    .dataframe tbody tr th:only-of-type {\n",
       "        vertical-align: middle;\n",
       "    }\n",
       "\n",
       "    .dataframe tbody tr th {\n",
       "        vertical-align: top;\n",
       "    }\n",
       "\n",
       "    .dataframe thead th {\n",
       "        text-align: right;\n",
       "    }\n",
       "</style>\n",
       "<table border=\"1\" class=\"dataframe\">\n",
       "  <thead>\n",
       "    <tr style=\"text-align: right;\">\n",
       "      <th></th>\n",
       "      <th>cnn_converted</th>\n",
       "      <th>cnn_quant</th>\n",
       "      <th>cnn_quant16</th>\n",
       "      <th>cnn_quant8</th>\n",
       "      <th>ffnn_converted</th>\n",
       "      <th>ffnn_quant</th>\n",
       "      <th>ffnn_quant16</th>\n",
       "      <th>ffnn_quant8</th>\n",
       "      <th>cnn</th>\n",
       "      <th>ffnn_mod</th>\n",
       "    </tr>\n",
       "  </thead>\n",
       "  <tbody>\n",
       "    <tr>\n",
       "      <th>0</th>\n",
       "      <td>4.620</td>\n",
       "      <td>4.630</td>\n",
       "      <td>4.610</td>\n",
       "      <td>3.230</td>\n",
       "      <td>8.660</td>\n",
       "      <td>5.450</td>\n",
       "      <td>8.870</td>\n",
       "      <td>13.36</td>\n",
       "      <td>3.800</td>\n",
       "      <td>7.500</td>\n",
       "    </tr>\n",
       "    <tr>\n",
       "      <th>1</th>\n",
       "      <td>4.640</td>\n",
       "      <td>4.620</td>\n",
       "      <td>4.610</td>\n",
       "      <td>3.240</td>\n",
       "      <td>8.660</td>\n",
       "      <td>5.440</td>\n",
       "      <td>8.860</td>\n",
       "      <td>13.38</td>\n",
       "      <td>3.250</td>\n",
       "      <td>6.830</td>\n",
       "    </tr>\n",
       "    <tr>\n",
       "      <th>2</th>\n",
       "      <td>4.610</td>\n",
       "      <td>4.620</td>\n",
       "      <td>4.620</td>\n",
       "      <td>3.240</td>\n",
       "      <td>8.680</td>\n",
       "      <td>5.440</td>\n",
       "      <td>8.880</td>\n",
       "      <td>13.39</td>\n",
       "      <td>3.300</td>\n",
       "      <td>6.800</td>\n",
       "    </tr>\n",
       "    <tr>\n",
       "      <th>3</th>\n",
       "      <td>4.620</td>\n",
       "      <td>4.620</td>\n",
       "      <td>4.610</td>\n",
       "      <td>3.240</td>\n",
       "      <td>8.660</td>\n",
       "      <td>5.460</td>\n",
       "      <td>8.980</td>\n",
       "      <td>13.39</td>\n",
       "      <td>3.270</td>\n",
       "      <td>6.850</td>\n",
       "    </tr>\n",
       "    <tr>\n",
       "      <th>4</th>\n",
       "      <td>4.620</td>\n",
       "      <td>4.620</td>\n",
       "      <td>4.620</td>\n",
       "      <td>3.230</td>\n",
       "      <td>8.680</td>\n",
       "      <td>5.440</td>\n",
       "      <td>8.970</td>\n",
       "      <td>13.38</td>\n",
       "      <td>3.270</td>\n",
       "      <td>6.790</td>\n",
       "    </tr>\n",
       "    <tr>\n",
       "      <th>mean</th>\n",
       "      <td>4.622</td>\n",
       "      <td>4.622</td>\n",
       "      <td>4.614</td>\n",
       "      <td>3.236</td>\n",
       "      <td>8.668</td>\n",
       "      <td>5.446</td>\n",
       "      <td>8.912</td>\n",
       "      <td>13.38</td>\n",
       "      <td>3.378</td>\n",
       "      <td>6.954</td>\n",
       "    </tr>\n",
       "  </tbody>\n",
       "</table>\n",
       "</div>"
      ],
      "text/plain": [
       "      cnn_converted  cnn_quant  cnn_quant16  cnn_quant8  ffnn_converted  \\\n",
       "0             4.620      4.630        4.610       3.230           8.660   \n",
       "1             4.640      4.620        4.610       3.240           8.660   \n",
       "2             4.610      4.620        4.620       3.240           8.680   \n",
       "3             4.620      4.620        4.610       3.240           8.660   \n",
       "4             4.620      4.620        4.620       3.230           8.680   \n",
       "mean          4.622      4.622        4.614       3.236           8.668   \n",
       "\n",
       "      ffnn_quant  ffnn_quant16  ffnn_quant8    cnn  ffnn_mod  \n",
       "0          5.450         8.870        13.36  3.800     7.500  \n",
       "1          5.440         8.860        13.38  3.250     6.830  \n",
       "2          5.440         8.880        13.39  3.300     6.800  \n",
       "3          5.460         8.980        13.39  3.270     6.850  \n",
       "4          5.440         8.970        13.38  3.270     6.790  \n",
       "mean       5.446         8.912        13.38  3.378     6.954  "
      ]
     },
     "metadata": {},
     "execution_count": 98
    }
   ],
   "metadata": {}
  },
  {
   "cell_type": "code",
   "execution_count": 99,
   "source": [
    "columns = list(data_mac.columns)\n",
    "means = list(data_mac.iloc[5])"
   ],
   "outputs": [],
   "metadata": {}
  },
  {
   "cell_type": "code",
   "execution_count": 100,
   "source": [
    "mpl.rcParams['font.size'] = 7 # font\n",
    "mpl.rcParams['lines.linewidth'] = 1 # line width\n",
    "plt.figure(figsize=(10,6))\n",
    "colors = plt.cm.Greens(means)\n",
    "plt.ylim([0,15])\n",
    "plt.bar(columns, means)"
   ],
   "outputs": [
    {
     "output_type": "execute_result",
     "data": {
      "text/plain": [
       "<BarContainer object of 10 artists>"
      ]
     },
     "metadata": {},
     "execution_count": 100
    },
    {
     "output_type": "display_data",
     "data": {
      "image/png": "[encoded data removed]",
      "text/plain": [
       "<Figure size 720x432 with 1 Axes>"
      ]
     },
     "metadata": {
      "needs_background": "light"
     }
    }
   ],
   "metadata": {}
  },
  {
   "cell_type": "code",
   "execution_count": 101,
   "source": [
    "import matplotlib.pyplot as plt \n",
    "import matplotlib as mpl\n",
    "import pandas as pd\n",
    "import numpy as np\n",
    "\n",
    "data_rpi = pd.read_csv('RPI_inferences_loop_10.csv')\n",
    "names = ['cnn_converted', 'cnn_quant', 'cnn_quant16', 'cnn_quant8', 'ffnn_converted', 'ffnn_quant', 'ffnn_quant16', 'ffnn_quant8']\n",
    "ind = [0,1,2,3,4,5,6,7]\n",
    "old_names = data_rpi.columns[ind]\n",
    "data_rpi.rename(columns=dict(zip(old_names, names)),inplace=True)\n",
    "y = [i for i in range(0,10,1)]\n",
    "data_rpi.loc['mean'] = data_rpi.mean()"
   ],
   "outputs": [],
   "metadata": {}
  },
  {
   "cell_type": "code",
   "execution_count": 102,
   "source": [
    "data_rpi"
   ],
   "outputs": [
    {
     "output_type": "execute_result",
     "data": {
      "text/html": [
       "<div>\n",
       "<style scoped>\n",
       "    .dataframe tbody tr th:only-of-type {\n",
       "        vertical-align: middle;\n",
       "    }\n",
       "\n",
       "    .dataframe tbody tr th {\n",
       "        vertical-align: top;\n",
       "    }\n",
       "\n",
       "    .dataframe thead th {\n",
       "        text-align: right;\n",
       "    }\n",
       "</style>\n",
       "<table border=\"1\" class=\"dataframe\">\n",
       "  <thead>\n",
       "    <tr style=\"text-align: right;\">\n",
       "      <th></th>\n",
       "      <th>cnn_converted</th>\n",
       "      <th>cnn_quant</th>\n",
       "      <th>cnn_quant16</th>\n",
       "      <th>cnn_quant8</th>\n",
       "      <th>ffnn_converted</th>\n",
       "      <th>ffnn_quant</th>\n",
       "      <th>ffnn_quant16</th>\n",
       "      <th>ffnn_quant8</th>\n",
       "      <th>cnn</th>\n",
       "      <th>ffnn</th>\n",
       "    </tr>\n",
       "  </thead>\n",
       "  <tbody>\n",
       "    <tr>\n",
       "      <th>0</th>\n",
       "      <td>4.620</td>\n",
       "      <td>4.61</td>\n",
       "      <td>4.660</td>\n",
       "      <td>3.230</td>\n",
       "      <td>8.980</td>\n",
       "      <td>5.510</td>\n",
       "      <td>9.17</td>\n",
       "      <td>13.380</td>\n",
       "      <td>3.790</td>\n",
       "      <td>7.350</td>\n",
       "    </tr>\n",
       "    <tr>\n",
       "      <th>1</th>\n",
       "      <td>4.620</td>\n",
       "      <td>4.61</td>\n",
       "      <td>4.600</td>\n",
       "      <td>3.240</td>\n",
       "      <td>9.010</td>\n",
       "      <td>5.480</td>\n",
       "      <td>9.18</td>\n",
       "      <td>13.410</td>\n",
       "      <td>3.260</td>\n",
       "      <td>6.900</td>\n",
       "    </tr>\n",
       "    <tr>\n",
       "      <th>2</th>\n",
       "      <td>4.610</td>\n",
       "      <td>4.61</td>\n",
       "      <td>4.610</td>\n",
       "      <td>3.230</td>\n",
       "      <td>9.000</td>\n",
       "      <td>5.600</td>\n",
       "      <td>9.28</td>\n",
       "      <td>13.420</td>\n",
       "      <td>3.260</td>\n",
       "      <td>6.860</td>\n",
       "    </tr>\n",
       "    <tr>\n",
       "      <th>3</th>\n",
       "      <td>4.610</td>\n",
       "      <td>4.61</td>\n",
       "      <td>4.600</td>\n",
       "      <td>3.250</td>\n",
       "      <td>8.970</td>\n",
       "      <td>5.490</td>\n",
       "      <td>9.16</td>\n",
       "      <td>13.450</td>\n",
       "      <td>3.280</td>\n",
       "      <td>6.900</td>\n",
       "    </tr>\n",
       "    <tr>\n",
       "      <th>4</th>\n",
       "      <td>4.620</td>\n",
       "      <td>4.61</td>\n",
       "      <td>4.590</td>\n",
       "      <td>3.240</td>\n",
       "      <td>9.000</td>\n",
       "      <td>5.500</td>\n",
       "      <td>9.21</td>\n",
       "      <td>13.410</td>\n",
       "      <td>3.250</td>\n",
       "      <td>6.880</td>\n",
       "    </tr>\n",
       "    <tr>\n",
       "      <th>5</th>\n",
       "      <td>4.610</td>\n",
       "      <td>4.61</td>\n",
       "      <td>4.600</td>\n",
       "      <td>3.330</td>\n",
       "      <td>9.080</td>\n",
       "      <td>5.480</td>\n",
       "      <td>9.06</td>\n",
       "      <td>13.410</td>\n",
       "      <td>3.230</td>\n",
       "      <td>6.820</td>\n",
       "    </tr>\n",
       "    <tr>\n",
       "      <th>6</th>\n",
       "      <td>4.620</td>\n",
       "      <td>4.61</td>\n",
       "      <td>4.610</td>\n",
       "      <td>3.250</td>\n",
       "      <td>9.010</td>\n",
       "      <td>5.500</td>\n",
       "      <td>9.05</td>\n",
       "      <td>13.410</td>\n",
       "      <td>3.350</td>\n",
       "      <td>6.910</td>\n",
       "    </tr>\n",
       "    <tr>\n",
       "      <th>7</th>\n",
       "      <td>4.730</td>\n",
       "      <td>4.61</td>\n",
       "      <td>4.600</td>\n",
       "      <td>3.230</td>\n",
       "      <td>8.990</td>\n",
       "      <td>5.490</td>\n",
       "      <td>9.02</td>\n",
       "      <td>13.430</td>\n",
       "      <td>3.200</td>\n",
       "      <td>6.890</td>\n",
       "    </tr>\n",
       "    <tr>\n",
       "      <th>8</th>\n",
       "      <td>4.600</td>\n",
       "      <td>4.61</td>\n",
       "      <td>4.600</td>\n",
       "      <td>3.230</td>\n",
       "      <td>9.010</td>\n",
       "      <td>5.490</td>\n",
       "      <td>9.08</td>\n",
       "      <td>13.440</td>\n",
       "      <td>3.230</td>\n",
       "      <td>6.600</td>\n",
       "    </tr>\n",
       "    <tr>\n",
       "      <th>9</th>\n",
       "      <td>4.610</td>\n",
       "      <td>4.61</td>\n",
       "      <td>4.600</td>\n",
       "      <td>3.230</td>\n",
       "      <td>8.980</td>\n",
       "      <td>5.480</td>\n",
       "      <td>8.99</td>\n",
       "      <td>13.410</td>\n",
       "      <td>3.130</td>\n",
       "      <td>6.520</td>\n",
       "    </tr>\n",
       "    <tr>\n",
       "      <th>mean</th>\n",
       "      <td>4.625</td>\n",
       "      <td>4.61</td>\n",
       "      <td>4.607</td>\n",
       "      <td>3.246</td>\n",
       "      <td>9.003</td>\n",
       "      <td>5.502</td>\n",
       "      <td>9.12</td>\n",
       "      <td>13.417</td>\n",
       "      <td>3.298</td>\n",
       "      <td>6.863</td>\n",
       "    </tr>\n",
       "  </tbody>\n",
       "</table>\n",
       "</div>"
      ],
      "text/plain": [
       "      cnn_converted  cnn_quant  cnn_quant16  cnn_quant8  ffnn_converted  \\\n",
       "0             4.620       4.61        4.660       3.230           8.980   \n",
       "1             4.620       4.61        4.600       3.240           9.010   \n",
       "2             4.610       4.61        4.610       3.230           9.000   \n",
       "3             4.610       4.61        4.600       3.250           8.970   \n",
       "4             4.620       4.61        4.590       3.240           9.000   \n",
       "5             4.610       4.61        4.600       3.330           9.080   \n",
       "6             4.620       4.61        4.610       3.250           9.010   \n",
       "7             4.730       4.61        4.600       3.230           8.990   \n",
       "8             4.600       4.61        4.600       3.230           9.010   \n",
       "9             4.610       4.61        4.600       3.230           8.980   \n",
       "mean          4.625       4.61        4.607       3.246           9.003   \n",
       "\n",
       "      ffnn_quant  ffnn_quant16  ffnn_quant8    cnn   ffnn  \n",
       "0          5.510          9.17       13.380  3.790  7.350  \n",
       "1          5.480          9.18       13.410  3.260  6.900  \n",
       "2          5.600          9.28       13.420  3.260  6.860  \n",
       "3          5.490          9.16       13.450  3.280  6.900  \n",
       "4          5.500          9.21       13.410  3.250  6.880  \n",
       "5          5.480          9.06       13.410  3.230  6.820  \n",
       "6          5.500          9.05       13.410  3.350  6.910  \n",
       "7          5.490          9.02       13.430  3.200  6.890  \n",
       "8          5.490          9.08       13.440  3.230  6.600  \n",
       "9          5.480          8.99       13.410  3.130  6.520  \n",
       "mean       5.502          9.12       13.417  3.298  6.863  "
      ]
     },
     "metadata": {},
     "execution_count": 102
    }
   ],
   "metadata": {}
  },
  {
   "cell_type": "code",
   "execution_count": 103,
   "source": [
    "columns = list(data_rpi.columns)\n",
    "means = list(data_rpi.iloc[5])\n",
    "mpl.rcParams['font.size'] = 7 # font\n",
    "mpl.rcParams['lines.linewidth'] = 1 # line width\n",
    "plt.figure(figsize=(10,6))\n",
    "#colors = plt.cm.Greens(np.linspace(0, 0.5, len(means)))\n",
    "plt.ylim([0,15])\n",
    "plt.bar(columns, means)"
   ],
   "outputs": [
    {
     "output_type": "execute_result",
     "data": {
      "text/plain": [
       "<BarContainer object of 10 artists>"
      ]
     },
     "metadata": {},
     "execution_count": 103
    },
    {
     "output_type": "display_data",
     "data": {
      "image/png": "[encoded data removed]",
      "text/plain": [
       "<Figure size 720x432 with 1 Axes>"
      ]
     },
     "metadata": {
      "needs_background": "light"
     }
    }
   ],
   "metadata": {}
  },
  {
   "cell_type": "code",
   "execution_count": 104,
   "source": [
    "data_mac = pd.read_csv('RPI_inferences_loop_5.csv')"
   ],
   "outputs": [],
   "metadata": {}
  },
  {
   "cell_type": "code",
   "execution_count": 105,
   "source": [
    "names = ['cnn_converted', 'cnn_quant', 'cnn_quant16', 'cnn_quant8', 'ffnn_converted', 'ffnn_quant', 'ffnn_quant16', 'ffnn_quant8']\n",
    "ind = [0,1,2,3,4,5,6,7]\n",
    "old_names = data_mac.columns[ind]\n",
    "data_mac.rename(columns=dict(zip(old_names, names)),inplace=True)"
   ],
   "outputs": [],
   "metadata": {}
  },
  {
   "cell_type": "code",
   "execution_count": 106,
   "source": [
    "y = [i for i in range(0,10,1)]\n",
    "data_mac.loc['mean'] = data_mac.mean()"
   ],
   "outputs": [],
   "metadata": {}
  },
  {
   "cell_type": "code",
   "execution_count": 107,
   "source": [
    "data_mac"
   ],
   "outputs": [
    {
     "output_type": "execute_result",
     "data": {
      "text/html": [
       "<div>\n",
       "<style scoped>\n",
       "    .dataframe tbody tr th:only-of-type {\n",
       "        vertical-align: middle;\n",
       "    }\n",
       "\n",
       "    .dataframe tbody tr th {\n",
       "        vertical-align: top;\n",
       "    }\n",
       "\n",
       "    .dataframe thead th {\n",
       "        text-align: right;\n",
       "    }\n",
       "</style>\n",
       "<table border=\"1\" class=\"dataframe\">\n",
       "  <thead>\n",
       "    <tr style=\"text-align: right;\">\n",
       "      <th></th>\n",
       "      <th>cnn_converted</th>\n",
       "      <th>cnn_quant</th>\n",
       "      <th>cnn_quant16</th>\n",
       "      <th>cnn_quant8</th>\n",
       "      <th>ffnn_converted</th>\n",
       "      <th>ffnn_quant</th>\n",
       "      <th>ffnn_quant16</th>\n",
       "      <th>ffnn_quant8</th>\n",
       "      <th>cnn</th>\n",
       "      <th>ffnn_mod</th>\n",
       "    </tr>\n",
       "  </thead>\n",
       "  <tbody>\n",
       "    <tr>\n",
       "      <th>0</th>\n",
       "      <td>4.620</td>\n",
       "      <td>4.630</td>\n",
       "      <td>4.610</td>\n",
       "      <td>3.230</td>\n",
       "      <td>8.660</td>\n",
       "      <td>5.450</td>\n",
       "      <td>8.870</td>\n",
       "      <td>13.36</td>\n",
       "      <td>3.800</td>\n",
       "      <td>7.500</td>\n",
       "    </tr>\n",
       "    <tr>\n",
       "      <th>1</th>\n",
       "      <td>4.640</td>\n",
       "      <td>4.620</td>\n",
       "      <td>4.610</td>\n",
       "      <td>3.240</td>\n",
       "      <td>8.660</td>\n",
       "      <td>5.440</td>\n",
       "      <td>8.860</td>\n",
       "      <td>13.38</td>\n",
       "      <td>3.250</td>\n",
       "      <td>6.830</td>\n",
       "    </tr>\n",
       "    <tr>\n",
       "      <th>2</th>\n",
       "      <td>4.610</td>\n",
       "      <td>4.620</td>\n",
       "      <td>4.620</td>\n",
       "      <td>3.240</td>\n",
       "      <td>8.680</td>\n",
       "      <td>5.440</td>\n",
       "      <td>8.880</td>\n",
       "      <td>13.39</td>\n",
       "      <td>3.300</td>\n",
       "      <td>6.800</td>\n",
       "    </tr>\n",
       "    <tr>\n",
       "      <th>3</th>\n",
       "      <td>4.620</td>\n",
       "      <td>4.620</td>\n",
       "      <td>4.610</td>\n",
       "      <td>3.240</td>\n",
       "      <td>8.660</td>\n",
       "      <td>5.460</td>\n",
       "      <td>8.980</td>\n",
       "      <td>13.39</td>\n",
       "      <td>3.270</td>\n",
       "      <td>6.850</td>\n",
       "    </tr>\n",
       "    <tr>\n",
       "      <th>4</th>\n",
       "      <td>4.620</td>\n",
       "      <td>4.620</td>\n",
       "      <td>4.620</td>\n",
       "      <td>3.230</td>\n",
       "      <td>8.680</td>\n",
       "      <td>5.440</td>\n",
       "      <td>8.970</td>\n",
       "      <td>13.38</td>\n",
       "      <td>3.270</td>\n",
       "      <td>6.790</td>\n",
       "    </tr>\n",
       "    <tr>\n",
       "      <th>mean</th>\n",
       "      <td>4.622</td>\n",
       "      <td>4.622</td>\n",
       "      <td>4.614</td>\n",
       "      <td>3.236</td>\n",
       "      <td>8.668</td>\n",
       "      <td>5.446</td>\n",
       "      <td>8.912</td>\n",
       "      <td>13.38</td>\n",
       "      <td>3.378</td>\n",
       "      <td>6.954</td>\n",
       "    </tr>\n",
       "  </tbody>\n",
       "</table>\n",
       "</div>"
      ],
      "text/plain": [
       "      cnn_converted  cnn_quant  cnn_quant16  cnn_quant8  ffnn_converted  \\\n",
       "0             4.620      4.630        4.610       3.230           8.660   \n",
       "1             4.640      4.620        4.610       3.240           8.660   \n",
       "2             4.610      4.620        4.620       3.240           8.680   \n",
       "3             4.620      4.620        4.610       3.240           8.660   \n",
       "4             4.620      4.620        4.620       3.230           8.680   \n",
       "mean          4.622      4.622        4.614       3.236           8.668   \n",
       "\n",
       "      ffnn_quant  ffnn_quant16  ffnn_quant8    cnn  ffnn_mod  \n",
       "0          5.450         8.870        13.36  3.800     7.500  \n",
       "1          5.440         8.860        13.38  3.250     6.830  \n",
       "2          5.440         8.880        13.39  3.300     6.800  \n",
       "3          5.460         8.980        13.39  3.270     6.850  \n",
       "4          5.440         8.970        13.38  3.270     6.790  \n",
       "mean       5.446         8.912        13.38  3.378     6.954  "
      ]
     },
     "metadata": {},
     "execution_count": 107
    }
   ],
   "metadata": {}
  },
  {
   "cell_type": "code",
   "execution_count": 108,
   "source": [
    "columns = list(data_mac.columns)\n",
    "means = list(data_mac.iloc[5])"
   ],
   "outputs": [],
   "metadata": {}
  },
  {
   "cell_type": "code",
   "execution_count": 109,
   "source": [
    "mpl.rcParams['font.size'] = 7 # font\n",
    "mpl.rcParams['lines.linewidth'] = 1 # line width\n",
    "plt.figure(figsize=(10,6))\n",
    "colors = plt.cm.Greens(means)\n",
    "plt.ylim([0,15])\n",
    "plt.bar(columns, means)"
   ],
   "outputs": [
    {
     "output_type": "execute_result",
     "data": {
      "text/plain": [
       "<BarContainer object of 10 artists>"
      ]
     },
     "metadata": {},
     "execution_count": 109
    },
    {
     "output_type": "display_data",
     "data": {
      "image/png": "[encoded data removed]",
      "text/plain": [
       "<Figure size 720x432 with 1 Axes>"
      ]
     },
     "metadata": {
      "needs_background": "light"
     }
    }
   ],
   "metadata": {}
  },
  {
   "cell_type": "code",
   "execution_count": 110,
   "source": [
    "def disk_usage(dir):\n",
    "    sizes_kb = {}\n",
    "    print('Models sizes : ')\n",
    "    for _,_,filenames in os.walk(dir):\n",
    "        #print(filenames)\n",
    "        for file in sorted(filenames):\n",
    "            print(file, ':', os.stat(os.path.join(dir,file)).st_size/1000, 'kb')\n",
    "            sizes_kb[file] = os.stat(os.path.join(dir,file)).st_size/1000\n",
    "    return sizes_kb"
   ],
   "outputs": [],
   "metadata": {}
  },
  {
   "cell_type": "code",
   "execution_count": 111,
   "source": [
    "model_dir = './mnist_models/'\n",
    "lite_dir = './mnist_tflite_models/'\n",
    "\n",
    "models_size = disk_usage(model_dir)\n",
    "litemodels_size = disk_usage(lite_dir)"
   ],
   "outputs": [
    {
     "output_type": "stream",
     "name": "stdout",
     "text": [
      "Models sizes : \n",
      "CNN_classic.h5 : 271.416 kb\n",
      "FFNN_classic.h5 : 3790.408 kb\n",
      "Models sizes : \n",
      "CNN_mnist_model.tflite : 84.356 kb\n",
      "CNN_mnist_model_quant.tflite : 23.76 kb\n",
      "CNN_mnist_model_quant16.tflite : 44.256 kb\n",
      "CNN_mnist_model_quant8.tflite : 24.136 kb\n",
      "FFNN_mnist_model.tflite : 1259.028 kb\n",
      "FFNN_mnist_model_quant.tflite : 318.576 kb\n",
      "FFNN_mnist_model_quant16.tflite : 632.48 kb\n",
      "FFNN_mnist_model_quant8.tflite : 318.744 kb\n"
     ]
    }
   ],
   "metadata": {}
  },
  {
   "cell_type": "code",
   "execution_count": 112,
   "source": [
    "list_sizes_cls = list(models_size.values())\n",
    "list_sizes_tfl = list(litemodels_size.values())"
   ],
   "outputs": [],
   "metadata": {}
  },
  {
   "cell_type": "code",
   "execution_count": 113,
   "source": [
    "list_sizes = list_sizes_tfl + list_sizes_cls\n",
    "len(list_sizes_tfl + list_sizes_cls) == len(means)"
   ],
   "outputs": [
    {
     "output_type": "execute_result",
     "data": {
      "text/plain": [
       "True"
      ]
     },
     "metadata": {},
     "execution_count": 113
    }
   ],
   "metadata": {}
  },
  {
   "cell_type": "code",
   "execution_count": 114,
   "source": [
    "plt.plot(list_sizes, means)"
   ],
   "outputs": [
    {
     "output_type": "execute_result",
     "data": {
      "text/plain": [
       "[<matplotlib.lines.Line2D at 0x7f8720ab14c0>]"
      ]
     },
     "metadata": {},
     "execution_count": 114
    },
    {
     "output_type": "display_data",
     "data": {
      "image/png": "[encoded data removed]",
      "text/plain": [
       "<Figure size 432x288 with 1 Axes>"
      ]
     },
     "metadata": {
      "needs_background": "light"
     }
    }
   ],
   "metadata": {}
  },
  {
   "cell_type": "code",
   "execution_count": 116,
   "source": [
    "import pickle\n",
    "with open('./disk_maco.pkl', 'rb') as f:\n",
    "    rpi_disk_usage = pickle.load(f)"
   ],
   "outputs": [],
   "metadata": {}
  },
  {
   "cell_type": "code",
   "execution_count": 119,
   "source": [
    "rpi_disk_usage == list_sizes"
   ],
   "outputs": [
    {
     "output_type": "execute_result",
     "data": {
      "text/plain": [
       "False"
      ]
     },
     "metadata": {},
     "execution_count": 119
    }
   ],
   "metadata": {}
  },
  {
   "cell_type": "code",
   "execution_count": 118,
   "source": [
    "list_sizes"
   ],
   "outputs": [
    {
     "output_type": "execute_result",
     "data": {
      "text/plain": [
       "[84.356,\n",
       " 23.76,\n",
       " 44.256,\n",
       " 24.136,\n",
       " 1259.028,\n",
       " 318.576,\n",
       " 632.48,\n",
       " 318.744,\n",
       " 271.416,\n",
       " 3790.408]"
      ]
     },
     "metadata": {},
     "execution_count": 118
    }
   ],
   "metadata": {}
  },
  {
   "cell_type": "code",
   "execution_count": 120,
   "source": [
    "rpi_disk_usage"
   ],
   "outputs": [
    {
     "output_type": "execute_result",
     "data": {
      "text/plain": [
       "[84.356, 23.76, 44.256, 24.136, 1259.028, 318.576, 632.48, 318.744]"
      ]
     },
     "metadata": {},
     "execution_count": 120
    }
   ],
   "metadata": {}
  },
  {
   "cell_type": "code",
   "execution_count": null,
   "source": [],
   "outputs": [],
   "metadata": {}
  }
 ],
 "metadata": {
  "interpreter": {
   "hash": "dca0ade3e726a953b501b15e8e990130d2b7799f14cfd9f4271676035ebe5511"
  },
  "kernelspec": {
   "name": "python3",
   "display_name": "Python 3.8.8 64-bit ('base': conda)"
  },
  "language_info": {
   "codemirror_mode": {
    "name": "ipython",
    "version": 3
   },
   "file_extension": ".py",
   "mimetype": "text/x-python",
   "name": "python",
   "nbconvert_exporter": "python",
   "pygments_lexer": "ipython3",
   "version": "3.8.8"
  }
 },
 "nbformat": 4,
 "nbformat_minor": 4
}