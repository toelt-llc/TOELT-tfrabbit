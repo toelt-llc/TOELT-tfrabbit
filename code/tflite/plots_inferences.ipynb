{
 "cells": [
  {
   "cell_type": "code",
   "execution_count": 94,
   "source": [
    "import matplotlib.pyplot as plt \n",
    "import matplotlib as mpl\n",
    "import pandas as pd\n",
    "from scipy.optimize import curve_fit\n",
    "import numpy as np\n",
    "import os"
   ],
   "outputs": [],
   "metadata": {}
  },
  {
   "cell_type": "code",
   "execution_count": 95,
   "source": [
    "data_mac = pd.read_csv('RPI_inferences_loop_5.csv')"
   ],
   "outputs": [],
   "metadata": {}
  },
  {
   "cell_type": "code",
   "execution_count": 96,
   "source": [
    "names = ['cnn_converted', 'cnn_quant', 'cnn_quant16', 'cnn_quant8', 'ffnn_converted', 'ffnn_quant', 'ffnn_quant16', 'ffnn_quant8']\n",
    "ind = [0,1,2,3,4,5,6,7]\n",
    "old_names = data_mac.columns[ind]\n",
    "data_mac.rename(columns=dict(zip(old_names, names)),inplace=True)"
   ],
   "outputs": [],
   "metadata": {}
  },
  {
   "cell_type": "code",
   "execution_count": 97,
   "source": [
    "y = [i for i in range(0,10,1)]\n",
    "data_mac.loc['mean'] = data_mac.mean()"
   ],
   "outputs": [],
   "metadata": {}
  },
  {
   "cell_type": "code",
   "execution_count": 98,
   "source": [
    "data_mac"
   ],
   "outputs": [
    {
     "output_type": "execute_result",
     "data": {
      "text/html": [
       "<div>\n",
       "<style scoped>\n",
       "    .dataframe tbody tr th:only-of-type {\n",
       "        vertical-align: middle;\n",
       "    }\n",
       "\n",
       "    .dataframe tbody tr th {\n",
       "        vertical-align: top;\n",
       "    }\n",
       "\n",
       "    .dataframe thead th {\n",
       "        text-align: right;\n",
       "    }\n",
       "</style>\n",
       "<table border=\"1\" class=\"dataframe\">\n",
       "  <thead>\n",
       "    <tr style=\"text-align: right;\">\n",
       "      <th></th>\n",
       "      <th>cnn_converted</th>\n",
       "      <th>cnn_quant</th>\n",
       "      <th>cnn_quant16</th>\n",
       "      <th>cnn_quant8</th>\n",
       "      <th>ffnn_converted</th>\n",
       "      <th>ffnn_quant</th>\n",
       "      <th>ffnn_quant16</th>\n",
       "      <th>ffnn_quant8</th>\n",
       "      <th>cnn</th>\n",
       "      <th>ffnn_mod</th>\n",
       "    </tr>\n",
       "  </thead>\n",
       "  <tbody>\n",
       "    <tr>\n",
       "      <th>0</th>\n",
       "      <td>4.620</td>\n",
       "      <td>4.630</td>\n",
       "      <td>4.610</td>\n",
       "      <td>3.230</td>\n",
       "      <td>8.660</td>\n",
       "      <td>5.450</td>\n",
       "      <td>8.870</td>\n",
       "      <td>13.36</td>\n",
       "      <td>3.800</td>\n",
       "      <td>7.500</td>\n",
       "    </tr>\n",
       "    <tr>\n",
       "      <th>1</th>\n",
       "      <td>4.640</td>\n",
       "      <td>4.620</td>\n",
       "      <td>4.610</td>\n",
       "      <td>3.240</td>\n",
       "      <td>8.660</td>\n",
       "      <td>5.440</td>\n",
       "      <td>8.860</td>\n",
       "      <td>13.38</td>\n",
       "      <td>3.250</td>\n",
       "      <td>6.830</td>\n",
       "    </tr>\n",
       "    <tr>\n",
       "      <th>2</th>\n",
       "      <td>4.610</td>\n",
       "      <td>4.620</td>\n",
       "      <td>4.620</td>\n",
       "      <td>3.240</td>\n",
       "      <td>8.680</td>\n",
       "      <td>5.440</td>\n",
       "      <td>8.880</td>\n",
       "      <td>13.39</td>\n",
       "      <td>3.300</td>\n",
       "      <td>6.800</td>\n",
       "    </tr>\n",
       "    <tr>\n",
       "      <th>3</th>\n",
       "      <td>4.620</td>\n",
       "      <td>4.620</td>\n",
       "      <td>4.610</td>\n",
       "      <td>3.240</td>\n",
       "      <td>8.660</td>\n",
       "      <td>5.460</td>\n",
       "      <td>8.980</td>\n",
       "      <td>13.39</td>\n",
       "      <td>3.270</td>\n",
       "      <td>6.850</td>\n",
       "    </tr>\n",
       "    <tr>\n",
       "      <th>4</th>\n",
       "      <td>4.620</td>\n",
       "      <td>4.620</td>\n",
       "      <td>4.620</td>\n",
       "      <td>3.230</td>\n",
       "      <td>8.680</td>\n",
       "      <td>5.440</td>\n",
       "      <td>8.970</td>\n",
       "      <td>13.38</td>\n",
       "      <td>3.270</td>\n",
       "      <td>6.790</td>\n",
       "    </tr>\n",
       "    <tr>\n",
       "      <th>mean</th>\n",
       "      <td>4.622</td>\n",
       "      <td>4.622</td>\n",
       "      <td>4.614</td>\n",
       "      <td>3.236</td>\n",
       "      <td>8.668</td>\n",
       "      <td>5.446</td>\n",
       "      <td>8.912</td>\n",
       "      <td>13.38</td>\n",
       "      <td>3.378</td>\n",
       "      <td>6.954</td>\n",
       "    </tr>\n",
       "  </tbody>\n",
       "</table>\n",
       "</div>"
      ],
      "text/plain": [
       "      cnn_converted  cnn_quant  cnn_quant16  cnn_quant8  ffnn_converted  \\\n",
       "0             4.620      4.630        4.610       3.230           8.660   \n",
       "1             4.640      4.620        4.610       3.240           8.660   \n",
       "2             4.610      4.620        4.620       3.240           8.680   \n",
       "3             4.620      4.620        4.610       3.240           8.660   \n",
       "4             4.620      4.620        4.620       3.230           8.680   \n",
       "mean          4.622      4.622        4.614       3.236           8.668   \n",
       "\n",
       "      ffnn_quant  ffnn_quant16  ffnn_quant8    cnn  ffnn_mod  \n",
       "0          5.450         8.870        13.36  3.800     7.500  \n",
       "1          5.440         8.860        13.38  3.250     6.830  \n",
       "2          5.440         8.880        13.39  3.300     6.800  \n",
       "3          5.460         8.980        13.39  3.270     6.850  \n",
       "4          5.440         8.970        13.38  3.270     6.790  \n",
       "mean       5.446         8.912        13.38  3.378     6.954  "
      ]
     },
     "metadata": {},
     "execution_count": 98
    }
   ],
   "metadata": {}
  },
  {
   "cell_type": "code",
   "execution_count": 99,
   "source": [
    "columns = list(data_mac.columns)\n",
    "means = list(data_mac.iloc[5])"
   ],
   "outputs": [],
   "metadata": {}
  },
  {
   "cell_type": "code",
   "execution_count": 100,
   "source": [
    "mpl.rcParams['font.size'] = 7 # font\n",
    "mpl.rcParams['lines.linewidth'] = 1 # line width\n",
    "plt.figure(figsize=(10,6))\n",
    "colors = plt.cm.Greens(means)\n",
    "plt.ylim([0,15])\n",
    "plt.bar(columns, means)"
   ],
   "outputs": [
    {
     "output_type": "execute_result",
     "data": {
      "text/plain": [
       "<BarContainer object of 10 artists>"
      ]
     },
     "metadata": {},
     "execution_count": 100
    },
    {
     "output_type": "display_data",
     "data": {
      "image/png": "[encoded data removed]",
      "text/plain": [
       "<Figure size 720x432 with 1 Axes>"
      ]
     },
     "metadata": {
      "needs_background": "light"
     }
    }
   ],
   "metadata": {}
  },
  {
   "cell_type": "code",
   "execution_count": 130,
   "source": [
    "import matplotlib.pyplot as plt \n",
    "import matplotlib as mpl\n",
    "import pandas as pd\n",
    "import numpy as np\n",
    "\n",
    "data_rpi = pd.read_csv('RPI_inferences_loop_10rpi.csv')\n",
    "names = ['cnn_converted', 'cnn_quant', 'cnn_quant16', 'cnn_quant8', 'ffnn_converted', 'ffnn_quant', 'ffnn_quant16', 'ffnn_quant8']\n",
    "ind = [0,1,2,3,4,5,6,7]\n",
    "old_names = data_rpi.columns[ind]\n",
    "data_rpi.rename(columns=dict(zip(old_names, names)),inplace=True)\n",
    "y = [i for i in range(0,10,1)]\n",
    "data_rpi.loc['mean'] = data_rpi.mean()"
   ],
   "outputs": [],
   "metadata": {}
  },
  {
   "cell_type": "code",
   "execution_count": 131,
   "source": [
    "data_rpi"
   ],
   "outputs": [
    {
     "output_type": "execute_result",
     "data": {
      "text/html": [
       "<div>\n",
       "<style scoped>\n",
       "    .dataframe tbody tr th:only-of-type {\n",
       "        vertical-align: middle;\n",
       "    }\n",
       "\n",
       "    .dataframe tbody tr th {\n",
       "        vertical-align: top;\n",
       "    }\n",
       "\n",
       "    .dataframe thead th {\n",
       "        text-align: right;\n",
       "    }\n",
       "</style>\n",
       "<table border=\"1\" class=\"dataframe\">\n",
       "  <thead>\n",
       "    <tr style=\"text-align: right;\">\n",
       "      <th></th>\n",
       "      <th>cnn_converted</th>\n",
       "      <th>cnn_quant</th>\n",
       "      <th>cnn_quant16</th>\n",
       "      <th>cnn_quant8</th>\n",
       "      <th>ffnn_converted</th>\n",
       "      <th>ffnn_quant</th>\n",
       "      <th>ffnn_quant16</th>\n",
       "      <th>ffnn_quant8</th>\n",
       "      <th>cnn</th>\n",
       "      <th>ffnn</th>\n",
       "    </tr>\n",
       "  </thead>\n",
       "  <tbody>\n",
       "    <tr>\n",
       "      <th>0</th>\n",
       "      <td>4.630</td>\n",
       "      <td>4.630</td>\n",
       "      <td>4.620</td>\n",
       "      <td>3.240</td>\n",
       "      <td>8.960</td>\n",
       "      <td>5.540</td>\n",
       "      <td>9.250</td>\n",
       "      <td>13.360</td>\n",
       "      <td>3.770</td>\n",
       "      <td>7.270</td>\n",
       "    </tr>\n",
       "    <tr>\n",
       "      <th>1</th>\n",
       "      <td>4.630</td>\n",
       "      <td>4.630</td>\n",
       "      <td>4.620</td>\n",
       "      <td>3.300</td>\n",
       "      <td>8.970</td>\n",
       "      <td>5.450</td>\n",
       "      <td>9.190</td>\n",
       "      <td>13.370</td>\n",
       "      <td>3.260</td>\n",
       "      <td>6.860</td>\n",
       "    </tr>\n",
       "    <tr>\n",
       "      <th>2</th>\n",
       "      <td>4.620</td>\n",
       "      <td>4.630</td>\n",
       "      <td>4.610</td>\n",
       "      <td>3.240</td>\n",
       "      <td>8.960</td>\n",
       "      <td>5.440</td>\n",
       "      <td>9.140</td>\n",
       "      <td>13.470</td>\n",
       "      <td>3.300</td>\n",
       "      <td>6.780</td>\n",
       "    </tr>\n",
       "    <tr>\n",
       "      <th>3</th>\n",
       "      <td>4.620</td>\n",
       "      <td>4.630</td>\n",
       "      <td>4.610</td>\n",
       "      <td>3.230</td>\n",
       "      <td>9.050</td>\n",
       "      <td>5.430</td>\n",
       "      <td>9.050</td>\n",
       "      <td>13.390</td>\n",
       "      <td>3.270</td>\n",
       "      <td>6.880</td>\n",
       "    </tr>\n",
       "    <tr>\n",
       "      <th>4</th>\n",
       "      <td>4.690</td>\n",
       "      <td>4.630</td>\n",
       "      <td>4.610</td>\n",
       "      <td>3.240</td>\n",
       "      <td>8.970</td>\n",
       "      <td>5.460</td>\n",
       "      <td>9.000</td>\n",
       "      <td>13.410</td>\n",
       "      <td>3.280</td>\n",
       "      <td>6.830</td>\n",
       "    </tr>\n",
       "    <tr>\n",
       "      <th>5</th>\n",
       "      <td>4.630</td>\n",
       "      <td>4.620</td>\n",
       "      <td>4.600</td>\n",
       "      <td>3.230</td>\n",
       "      <td>8.970</td>\n",
       "      <td>5.430</td>\n",
       "      <td>8.970</td>\n",
       "      <td>13.380</td>\n",
       "      <td>3.280</td>\n",
       "      <td>6.790</td>\n",
       "    </tr>\n",
       "    <tr>\n",
       "      <th>6</th>\n",
       "      <td>4.630</td>\n",
       "      <td>4.630</td>\n",
       "      <td>4.610</td>\n",
       "      <td>3.240</td>\n",
       "      <td>8.960</td>\n",
       "      <td>5.420</td>\n",
       "      <td>9.040</td>\n",
       "      <td>13.380</td>\n",
       "      <td>3.520</td>\n",
       "      <td>6.860</td>\n",
       "    </tr>\n",
       "    <tr>\n",
       "      <th>7</th>\n",
       "      <td>4.620</td>\n",
       "      <td>4.690</td>\n",
       "      <td>4.610</td>\n",
       "      <td>3.240</td>\n",
       "      <td>8.970</td>\n",
       "      <td>5.450</td>\n",
       "      <td>9.090</td>\n",
       "      <td>13.390</td>\n",
       "      <td>3.270</td>\n",
       "      <td>6.890</td>\n",
       "    </tr>\n",
       "    <tr>\n",
       "      <th>8</th>\n",
       "      <td>4.630</td>\n",
       "      <td>4.620</td>\n",
       "      <td>4.610</td>\n",
       "      <td>3.240</td>\n",
       "      <td>8.970</td>\n",
       "      <td>5.440</td>\n",
       "      <td>9.130</td>\n",
       "      <td>13.380</td>\n",
       "      <td>3.240</td>\n",
       "      <td>6.520</td>\n",
       "    </tr>\n",
       "    <tr>\n",
       "      <th>9</th>\n",
       "      <td>4.620</td>\n",
       "      <td>4.630</td>\n",
       "      <td>4.610</td>\n",
       "      <td>3.230</td>\n",
       "      <td>8.970</td>\n",
       "      <td>5.430</td>\n",
       "      <td>9.110</td>\n",
       "      <td>13.380</td>\n",
       "      <td>3.300</td>\n",
       "      <td>6.470</td>\n",
       "    </tr>\n",
       "    <tr>\n",
       "      <th>mean</th>\n",
       "      <td>4.632</td>\n",
       "      <td>4.634</td>\n",
       "      <td>4.611</td>\n",
       "      <td>3.243</td>\n",
       "      <td>8.975</td>\n",
       "      <td>5.449</td>\n",
       "      <td>9.097</td>\n",
       "      <td>13.391</td>\n",
       "      <td>3.349</td>\n",
       "      <td>6.815</td>\n",
       "    </tr>\n",
       "  </tbody>\n",
       "</table>\n",
       "</div>"
      ],
      "text/plain": [
       "      cnn_converted  cnn_quant  cnn_quant16  cnn_quant8  ffnn_converted  \\\n",
       "0             4.630      4.630        4.620       3.240           8.960   \n",
       "1             4.630      4.630        4.620       3.300           8.970   \n",
       "2             4.620      4.630        4.610       3.240           8.960   \n",
       "3             4.620      4.630        4.610       3.230           9.050   \n",
       "4             4.690      4.630        4.610       3.240           8.970   \n",
       "5             4.630      4.620        4.600       3.230           8.970   \n",
       "6             4.630      4.630        4.610       3.240           8.960   \n",
       "7             4.620      4.690        4.610       3.240           8.970   \n",
       "8             4.630      4.620        4.610       3.240           8.970   \n",
       "9             4.620      4.630        4.610       3.230           8.970   \n",
       "mean          4.632      4.634        4.611       3.243           8.975   \n",
       "\n",
       "      ffnn_quant  ffnn_quant16  ffnn_quant8    cnn   ffnn  \n",
       "0          5.540         9.250       13.360  3.770  7.270  \n",
       "1          5.450         9.190       13.370  3.260  6.860  \n",
       "2          5.440         9.140       13.470  3.300  6.780  \n",
       "3          5.430         9.050       13.390  3.270  6.880  \n",
       "4          5.460         9.000       13.410  3.280  6.830  \n",
       "5          5.430         8.970       13.380  3.280  6.790  \n",
       "6          5.420         9.040       13.380  3.520  6.860  \n",
       "7          5.450         9.090       13.390  3.270  6.890  \n",
       "8          5.440         9.130       13.380  3.240  6.520  \n",
       "9          5.430         9.110       13.380  3.300  6.470  \n",
       "mean       5.449         9.097       13.391  3.349  6.815  "
      ]
     },
     "metadata": {},
     "execution_count": 131
    }
   ],
   "metadata": {}
  },
  {
   "cell_type": "code",
   "execution_count": 132,
   "source": [
    "columns = list(data_rpi.columns)\n",
    "means = list(data_rpi.iloc[5])\n",
    "mpl.rcParams['font.size'] = 7 # font\n",
    "mpl.rcParams['lines.linewidth'] = 1 # line width\n",
    "plt.figure(figsize=(10,6))\n",
    "#colors = plt.cm.Greens(np.linspace(0, 0.5, len(means)))\n",
    "plt.ylim([0,15])\n",
    "plt.bar(columns, means)"
   ],
   "outputs": [
    {
     "output_type": "execute_result",
     "data": {
      "text/plain": [
       "<BarContainer object of 10 artists>"
      ]
     },
     "metadata": {},
     "execution_count": 132
    },
    {
     "output_type": "display_data",
     "data": {
      "image/png": "[encoded data removed]",
      "text/plain": [
       "<Figure size 720x432 with 1 Axes>"
      ]
     },
     "metadata": {
      "needs_background": "light"
     }
    }
   ],
   "metadata": {}
  },
  {
   "cell_type": "code",
   "execution_count": 104,
   "source": [
    "data_mac = pd.read_csv('RPI_inferences_loop_5.csv')"
   ],
   "outputs": [],
   "metadata": {}
  },
  {
   "cell_type": "code",
   "execution_count": 105,
   "source": [
    "names = ['cnn_converted', 'cnn_quant', 'cnn_quant16', 'cnn_quant8', 'ffnn_converted', 'ffnn_quant', 'ffnn_quant16', 'ffnn_quant8']\n",
    "ind = [0,1,2,3,4,5,6,7]\n",
    "old_names = data_mac.columns[ind]\n",
    "data_mac.rename(columns=dict(zip(old_names, names)),inplace=True)"
   ],
   "outputs": [],
   "metadata": {}
  },
  {
   "cell_type": "code",
   "execution_count": 106,
   "source": [
    "y = [i for i in range(0,10,1)]\n",
    "data_mac.loc['mean'] = data_mac.mean()"
   ],
   "outputs": [],
   "metadata": {}
  },
  {
   "cell_type": "code",
   "execution_count": 107,
   "source": [
    "data_mac"
   ],
   "outputs": [
    {
     "output_type": "execute_result",
     "data": {
      "text/html": [
       "<div>\n",
       "<style scoped>\n",
       "    .dataframe tbody tr th:only-of-type {\n",
       "        vertical-align: middle;\n",
       "    }\n",
       "\n",
       "    .dataframe tbody tr th {\n",
       "        vertical-align: top;\n",
       "    }\n",
       "\n",
       "    .dataframe thead th {\n",
       "        text-align: right;\n",
       "    }\n",
       "</style>\n",
       "<table border=\"1\" class=\"dataframe\">\n",
       "  <thead>\n",
       "    <tr style=\"text-align: right;\">\n",
       "      <th></th>\n",
       "      <th>cnn_converted</th>\n",
       "      <th>cnn_quant</th>\n",
       "      <th>cnn_quant16</th>\n",
       "      <th>cnn_quant8</th>\n",
       "      <th>ffnn_converted</th>\n",
       "      <th>ffnn_quant</th>\n",
       "      <th>ffnn_quant16</th>\n",
       "      <th>ffnn_quant8</th>\n",
       "      <th>cnn</th>\n",
       "      <th>ffnn_mod</th>\n",
       "    </tr>\n",
       "  </thead>\n",
       "  <tbody>\n",
       "    <tr>\n",
       "      <th>0</th>\n",
       "      <td>4.620</td>\n",
       "      <td>4.630</td>\n",
       "      <td>4.610</td>\n",
       "      <td>3.230</td>\n",
       "      <td>8.660</td>\n",
       "      <td>5.450</td>\n",
       "      <td>8.870</td>\n",
       "      <td>13.36</td>\n",
       "      <td>3.800</td>\n",
       "      <td>7.500</td>\n",
       "    </tr>\n",
       "    <tr>\n",
       "      <th>1</th>\n",
       "      <td>4.640</td>\n",
       "      <td>4.620</td>\n",
       "      <td>4.610</td>\n",
       "      <td>3.240</td>\n",
       "      <td>8.660</td>\n",
       "      <td>5.440</td>\n",
       "      <td>8.860</td>\n",
       "      <td>13.38</td>\n",
       "      <td>3.250</td>\n",
       "      <td>6.830</td>\n",
       "    </tr>\n",
       "    <tr>\n",
       "      <th>2</th>\n",
       "      <td>4.610</td>\n",
       "      <td>4.620</td>\n",
       "      <td>4.620</td>\n",
       "      <td>3.240</td>\n",
       "      <td>8.680</td>\n",
       "      <td>5.440</td>\n",
       "      <td>8.880</td>\n",
       "      <td>13.39</td>\n",
       "      <td>3.300</td>\n",
       "      <td>6.800</td>\n",
       "    </tr>\n",
       "    <tr>\n",
       "      <th>3</th>\n",
       "      <td>4.620</td>\n",
       "      <td>4.620</td>\n",
       "      <td>4.610</td>\n",
       "      <td>3.240</td>\n",
       "      <td>8.660</td>\n",
       "      <td>5.460</td>\n",
       "      <td>8.980</td>\n",
       "      <td>13.39</td>\n",
       "      <td>3.270</td>\n",
       "      <td>6.850</td>\n",
       "    </tr>\n",
       "    <tr>\n",
       "      <th>4</th>\n",
       "      <td>4.620</td>\n",
       "      <td>4.620</td>\n",
       "      <td>4.620</td>\n",
       "      <td>3.230</td>\n",
       "      <td>8.680</td>\n",
       "      <td>5.440</td>\n",
       "      <td>8.970</td>\n",
       "      <td>13.38</td>\n",
       "      <td>3.270</td>\n",
       "      <td>6.790</td>\n",
       "    </tr>\n",
       "    <tr>\n",
       "      <th>mean</th>\n",
       "      <td>4.622</td>\n",
       "      <td>4.622</td>\n",
       "      <td>4.614</td>\n",
       "      <td>3.236</td>\n",
       "      <td>8.668</td>\n",
       "      <td>5.446</td>\n",
       "      <td>8.912</td>\n",
       "      <td>13.38</td>\n",
       "      <td>3.378</td>\n",
       "      <td>6.954</td>\n",
       "    </tr>\n",
       "  </tbody>\n",
       "</table>\n",
       "</div>"
      ],
      "text/plain": [
       "      cnn_converted  cnn_quant  cnn_quant16  cnn_quant8  ffnn_converted  \\\n",
       "0             4.620      4.630        4.610       3.230           8.660   \n",
       "1             4.640      4.620        4.610       3.240           8.660   \n",
       "2             4.610      4.620        4.620       3.240           8.680   \n",
       "3             4.620      4.620        4.610       3.240           8.660   \n",
       "4             4.620      4.620        4.620       3.230           8.680   \n",
       "mean          4.622      4.622        4.614       3.236           8.668   \n",
       "\n",
       "      ffnn_quant  ffnn_quant16  ffnn_quant8    cnn  ffnn_mod  \n",
       "0          5.450         8.870        13.36  3.800     7.500  \n",
       "1          5.440         8.860        13.38  3.250     6.830  \n",
       "2          5.440         8.880        13.39  3.300     6.800  \n",
       "3          5.460         8.980        13.39  3.270     6.850  \n",
       "4          5.440         8.970        13.38  3.270     6.790  \n",
       "mean       5.446         8.912        13.38  3.378     6.954  "
      ]
     },
     "metadata": {},
     "execution_count": 107
    }
   ],
   "metadata": {}
  },
  {
   "cell_type": "code",
   "execution_count": 108,
   "source": [
    "columns = list(data_mac.columns)\n",
    "means = list(data_mac.iloc[5])"
   ],
   "outputs": [],
   "metadata": {}
  },
  {
   "cell_type": "code",
   "execution_count": 109,
   "source": [
    "mpl.rcParams['font.size'] = 7 # font\n",
    "mpl.rcParams['lines.linewidth'] = 1 # line width\n",
    "plt.figure(figsize=(10,6))\n",
    "colors = plt.cm.Greens(means)\n",
    "plt.ylim([0,15])\n",
    "plt.bar(columns, means)"
   ],
   "outputs": [
    {
     "output_type": "execute_result",
     "data": {
      "text/plain": [
       "<BarContainer object of 10 artists>"
      ]
     },
     "metadata": {},
     "execution_count": 109
    },
    {
     "output_type": "display_data",
     "data": {
      "image/png": "[encoded data removed]",
      "text/plain": [
       "<Figure size 720x432 with 1 Axes>"
      ]
     },
     "metadata": {
      "needs_background": "light"
     }
    }
   ],
   "metadata": {}
  },
  {
   "cell_type": "code",
   "execution_count": 110,
   "source": [
    "def disk_usage(dir):\n",
    "    sizes_kb = {}\n",
    "    print('Models sizes : ')\n",
    "    for _,_,filenames in os.walk(dir):\n",
    "        #print(filenames)\n",
    "        for file in sorted(filenames):\n",
    "            print(file, ':', os.stat(os.path.join(dir,file)).st_size/1000, 'kb')\n",
    "            sizes_kb[file] = os.stat(os.path.join(dir,file)).st_size/1000\n",
    "    return sizes_kb"
   ],
   "outputs": [],
   "metadata": {}
  },
  {
   "cell_type": "code",
   "execution_count": 111,
   "source": [
    "model_dir = './mnist_models/'\n",
    "lite_dir = './mnist_tflite_models/'\n",
    "\n",
    "models_size = disk_usage(model_dir)\n",
    "litemodels_size = disk_usage(lite_dir)"
   ],
   "outputs": [
    {
     "output_type": "stream",
     "name": "stdout",
     "text": [
      "Models sizes : \n",
      "CNN_classic.h5 : 271.416 kb\n",
      "FFNN_classic.h5 : 3790.408 kb\n",
      "Models sizes : \n",
      "CNN_mnist_model.tflite : 84.356 kb\n",
      "CNN_mnist_model_quant.tflite : 23.76 kb\n",
      "CNN_mnist_model_quant16.tflite : 44.256 kb\n",
      "CNN_mnist_model_quant8.tflite : 24.136 kb\n",
      "FFNN_mnist_model.tflite : 1259.028 kb\n",
      "FFNN_mnist_model_quant.tflite : 318.576 kb\n",
      "FFNN_mnist_model_quant16.tflite : 632.48 kb\n",
      "FFNN_mnist_model_quant8.tflite : 318.744 kb\n"
     ]
    }
   ],
   "metadata": {}
  },
  {
   "cell_type": "code",
   "execution_count": 112,
   "source": [
    "list_sizes_cls = list(models_size.values())\n",
    "list_sizes_tfl = list(litemodels_size.values())"
   ],
   "outputs": [],
   "metadata": {}
  },
  {
   "cell_type": "code",
   "execution_count": 113,
   "source": [
    "list_sizes = list_sizes_tfl + list_sizes_cls\n",
    "len(list_sizes_tfl + list_sizes_cls) == len(means)"
   ],
   "outputs": [
    {
     "output_type": "execute_result",
     "data": {
      "text/plain": [
       "True"
      ]
     },
     "metadata": {},
     "execution_count": 113
    }
   ],
   "metadata": {}
  },
  {
   "cell_type": "code",
   "execution_count": 124,
   "source": [
    "import pickle\n",
    "with open('./disk_rpi.pkl', 'rb') as f:\n",
    "    rpi_disk_usage = pickle.load(f)"
   ],
   "outputs": [],
   "metadata": {}
  },
  {
   "cell_type": "code",
   "execution_count": 125,
   "source": [
    "rpi_disk_usage == list_sizes"
   ],
   "outputs": [
    {
     "output_type": "execute_result",
     "data": {
      "text/plain": [
       "True"
      ]
     },
     "metadata": {},
     "execution_count": 125
    }
   ],
   "metadata": {}
  },
  {
   "cell_type": "markdown",
   "source": [
    "## Cifar dataset"
   ],
   "metadata": {}
  },
  {
   "cell_type": "code",
   "execution_count": 133,
   "source": [
    "cifar_model_dir = './cifar_models/'\n",
    "cifar_lite_dir = './cifar_tflite_models/'\n",
    "\n",
    "models_size = disk_usage(cifar_model_dir)\n",
    "litemodels_size = disk_usage(cifar_lite_dir)"
   ],
   "outputs": [
    {
     "output_type": "stream",
     "name": "stdout",
     "text": [
      "Models sizes : \n",
      "CNN_classic.h5 : 3273.008 kb\n",
      "FFNN_classic.h5 : 49182.12 kb\n",
      "Models sizes : \n",
      "CNN_cifar_model.tflite : 1083.476 kb\n",
      "CNN_cifar_model_quant.tflite : 273.648 kb\n",
      "CNN_cifar_model_quant16.tflite : 543.28 kb\n",
      "CNN_cifar_model_quant8.tflite : 273.416 kb\n",
      "FFNN_cifar_model.tflite : 16388.388 kb\n",
      "FFNN_cifar_model_quant.tflite : 4100.688 kb\n",
      "FFNN_cifar_model_quant16.tflite : 8196.688 kb\n",
      "FFNN_cifar_model_quant8.tflite : 4100.648 kb\n"
     ]
    }
   ],
   "metadata": {}
  },
  {
   "cell_type": "code",
   "execution_count": null,
   "source": [],
   "outputs": [],
   "metadata": {}
  }
 ],
 "metadata": {
  "interpreter": {
   "hash": "dca0ade3e726a953b501b15e8e990130d2b7799f14cfd9f4271676035ebe5511"
  },
  "kernelspec": {
   "name": "python3",
   "display_name": "Python 3.8.8 64-bit ('base': conda)"
  },
  "language_info": {
   "codemirror_mode": {
    "name": "ipython",
    "version": 3
   },
   "file_extension": ".py",
   "mimetype": "text/x-python",
   "name": "python",
   "nbconvert_exporter": "python",
   "pygments_lexer": "ipython3",
   "version": "3.8.8"
  }
 },
 "nbformat": 4,
 "nbformat_minor": 4
}