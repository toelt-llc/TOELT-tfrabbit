{
 "cells": [
  {
   "cell_type": "code",
   "execution_count": 26,
   "source": [
    "import matplotlib.pyplot as plt \n",
    "import pandas as pd\n",
    "from scipy.optimize import curve_fit\n",
    "import numpy as np"
   ],
   "outputs": [],
   "metadata": {}
  },
  {
   "cell_type": "code",
   "execution_count": 27,
   "source": [
    "data = pd.read_csv('RPI_inferences_loop_5.csv')"
   ],
   "outputs": [],
   "metadata": {}
  },
  {
   "cell_type": "code",
   "execution_count": 28,
   "source": [
    "names = ['cnn_converted', 'cnn_quant', 'cnn_quant16', 'cnn_quant8', 'ffnn_converted', 'ffnn_quant', 'ffnn_quant16', 'ffnn_quant8']\n",
    "ind = [0,1,2,3,4,5,6,7]\n",
    "old_names = data.columns[ind]\n",
    "data.rename(columns=dict(zip(old_names, names)),inplace=True)"
   ],
   "outputs": [],
   "metadata": {}
  },
  {
   "cell_type": "code",
   "execution_count": 29,
   "source": [
    "data"
   ],
   "outputs": [
    {
     "output_type": "execute_result",
     "data": {
      "text/html": [
       "<div>\n",
       "<style scoped>\n",
       "    .dataframe tbody tr th:only-of-type {\n",
       "        vertical-align: middle;\n",
       "    }\n",
       "\n",
       "    .dataframe tbody tr th {\n",
       "        vertical-align: top;\n",
       "    }\n",
       "\n",
       "    .dataframe thead th {\n",
       "        text-align: right;\n",
       "    }\n",
       "</style>\n",
       "<table border=\"1\" class=\"dataframe\">\n",
       "  <thead>\n",
       "    <tr style=\"text-align: right;\">\n",
       "      <th></th>\n",
       "      <th>cnn_converted</th>\n",
       "      <th>cnn_quant</th>\n",
       "      <th>cnn_quant16</th>\n",
       "      <th>cnn_quant8</th>\n",
       "      <th>ffnn_converted</th>\n",
       "      <th>ffnn_quant</th>\n",
       "      <th>ffnn_quant16</th>\n",
       "      <th>ffnn_quant8</th>\n",
       "      <th>cnn</th>\n",
       "      <th>ffnn_mod</th>\n",
       "    </tr>\n",
       "  </thead>\n",
       "  <tbody>\n",
       "    <tr>\n",
       "      <th>0</th>\n",
       "      <td>4.62</td>\n",
       "      <td>4.63</td>\n",
       "      <td>4.61</td>\n",
       "      <td>3.23</td>\n",
       "      <td>8.66</td>\n",
       "      <td>5.45</td>\n",
       "      <td>8.87</td>\n",
       "      <td>13.36</td>\n",
       "      <td>3.80</td>\n",
       "      <td>7.50</td>\n",
       "    </tr>\n",
       "    <tr>\n",
       "      <th>1</th>\n",
       "      <td>4.64</td>\n",
       "      <td>4.62</td>\n",
       "      <td>4.61</td>\n",
       "      <td>3.24</td>\n",
       "      <td>8.66</td>\n",
       "      <td>5.44</td>\n",
       "      <td>8.86</td>\n",
       "      <td>13.38</td>\n",
       "      <td>3.25</td>\n",
       "      <td>6.83</td>\n",
       "    </tr>\n",
       "    <tr>\n",
       "      <th>2</th>\n",
       "      <td>4.61</td>\n",
       "      <td>4.62</td>\n",
       "      <td>4.62</td>\n",
       "      <td>3.24</td>\n",
       "      <td>8.68</td>\n",
       "      <td>5.44</td>\n",
       "      <td>8.88</td>\n",
       "      <td>13.39</td>\n",
       "      <td>3.30</td>\n",
       "      <td>6.80</td>\n",
       "    </tr>\n",
       "    <tr>\n",
       "      <th>3</th>\n",
       "      <td>4.62</td>\n",
       "      <td>4.62</td>\n",
       "      <td>4.61</td>\n",
       "      <td>3.24</td>\n",
       "      <td>8.66</td>\n",
       "      <td>5.46</td>\n",
       "      <td>8.98</td>\n",
       "      <td>13.39</td>\n",
       "      <td>3.27</td>\n",
       "      <td>6.85</td>\n",
       "    </tr>\n",
       "    <tr>\n",
       "      <th>4</th>\n",
       "      <td>4.62</td>\n",
       "      <td>4.62</td>\n",
       "      <td>4.62</td>\n",
       "      <td>3.23</td>\n",
       "      <td>8.68</td>\n",
       "      <td>5.44</td>\n",
       "      <td>8.97</td>\n",
       "      <td>13.38</td>\n",
       "      <td>3.27</td>\n",
       "      <td>6.79</td>\n",
       "    </tr>\n",
       "  </tbody>\n",
       "</table>\n",
       "</div>"
      ],
      "text/plain": [
       "   cnn_converted  cnn_quant  cnn_quant16  cnn_quant8  ffnn_converted  \\\n",
       "0           4.62       4.63         4.61        3.23            8.66   \n",
       "1           4.64       4.62         4.61        3.24            8.66   \n",
       "2           4.61       4.62         4.62        3.24            8.68   \n",
       "3           4.62       4.62         4.61        3.24            8.66   \n",
       "4           4.62       4.62         4.62        3.23            8.68   \n",
       "\n",
       "   ffnn_quant  ffnn_quant16  ffnn_quant8   cnn  ffnn_mod  \n",
       "0        5.45          8.87        13.36  3.80      7.50  \n",
       "1        5.44          8.86        13.38  3.25      6.83  \n",
       "2        5.44          8.88        13.39  3.30      6.80  \n",
       "3        5.46          8.98        13.39  3.27      6.85  \n",
       "4        5.44          8.97        13.38  3.27      6.79  "
      ]
     },
     "metadata": {},
     "execution_count": 29
    }
   ],
   "metadata": {}
  },
  {
   "cell_type": "code",
   "execution_count": null,
   "source": [],
   "outputs": [],
   "metadata": {}
  }
 ],
 "metadata": {
  "interpreter": {
   "hash": "dca0ade3e726a953b501b15e8e990130d2b7799f14cfd9f4271676035ebe5511"
  },
  "kernelspec": {
   "name": "python3",
   "display_name": "Python 3.8.8 64-bit ('base': conda)"
  },
  "language_info": {
   "codemirror_mode": {
    "name": "ipython",
    "version": 3
   },
   "file_extension": ".py",
   "mimetype": "text/x-python",
   "name": "python",
   "nbconvert_exporter": "python",
   "pygments_lexer": "ipython3",
   "version": "3.8.8"
  }
 },
 "nbformat": 4,
 "nbformat_minor": 4
}