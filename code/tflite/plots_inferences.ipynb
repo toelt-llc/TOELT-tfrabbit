{
 "cells": [
  {
   "cell_type": "code",
   "execution_count": 202,
   "source": [
    "import matplotlib.pyplot as plt \n",
    "import matplotlib as mpl\n",
    "import pandas as pd\n",
    "from scipy.optimize import curve_fit\n",
    "import numpy as np\n",
    "import os"
   ],
   "outputs": [],
   "metadata": {}
  },
  {
   "cell_type": "code",
   "execution_count": 203,
   "source": [
    "def disk_usage(dir):\n",
    "    sizes_kb = {}\n",
    "    print('Models sizes : ')\n",
    "    for _,_,filenames in os.walk(dir):\n",
    "        #print(filenames)\n",
    "        for file in sorted(filenames):\n",
    "            print(file, ':', os.stat(os.path.join(dir,file)).st_size/1000, 'kb')\n",
    "            sizes_kb[file] = os.stat(os.path.join(dir,file)).st_size/1000\n",
    "    return sizes_kb"
   ],
   "outputs": [],
   "metadata": {}
  },
  {
   "cell_type": "code",
   "execution_count": 204,
   "source": [
    "model_dir = './mnist_models/'\n",
    "lite_dir = './mnist_tflite_models/'\n",
    "\n",
    "models_size = disk_usage(model_dir)\n",
    "litemodels_size = disk_usage(lite_dir)"
   ],
   "outputs": [
    {
     "output_type": "stream",
     "name": "stdout",
     "text": [
      "Models sizes : \n",
      "CNN_classic.h5 : 271.416 kb\n",
      "FFNN_classic.h5 : 3790.408 kb\n",
      "Models sizes : \n",
      "CNN_mnist_model.tflite : 84.356 kb\n",
      "CNN_mnist_model_quant.tflite : 23.76 kb\n",
      "CNN_mnist_model_quant16.tflite : 44.256 kb\n",
      "CNN_mnist_model_quant8.tflite : 24.136 kb\n",
      "FFNN_mnist_model.tflite : 1259.028 kb\n",
      "FFNN_mnist_model_quant.tflite : 318.576 kb\n",
      "FFNN_mnist_model_quant16.tflite : 632.48 kb\n",
      "FFNN_mnist_model_quant8.tflite : 318.744 kb\n"
     ]
    }
   ],
   "metadata": {}
  },
  {
   "cell_type": "code",
   "execution_count": 205,
   "source": [
    "list_sizes_cls = list(models_size.values())\n",
    "list_sizes_tfl = list(litemodels_size.values())\n",
    "list_sizes = list_sizes_tfl + list_sizes_cls"
   ],
   "outputs": [],
   "metadata": {}
  },
  {
   "cell_type": "markdown",
   "source": [
    "## First Mac dataset"
   ],
   "metadata": {}
  },
  {
   "cell_type": "code",
   "execution_count": 206,
   "source": [
    "data_mac = pd.read_csv('RPI_inferences_loop_5.csv')"
   ],
   "outputs": [],
   "metadata": {}
  },
  {
   "cell_type": "code",
   "execution_count": 207,
   "source": [
    "names = ['cnn_converted', 'cnn_quant', 'cnn_quant16', 'cnn_quant8', 'ffnn_converted', 'ffnn_quant', 'ffnn_quant16', 'ffnn_quant8']\n",
    "ind = [0,1,2,3,4,5,6,7]\n",
    "old_names = data_mac.columns[ind]\n",
    "data_mac.rename(columns=dict(zip(old_names, names)),inplace=True)"
   ],
   "outputs": [],
   "metadata": {}
  },
  {
   "cell_type": "code",
   "execution_count": 208,
   "source": [
    "y = [i for i in range(0,10,1)]\n",
    "data_mac.loc['mean'] = data_mac.mean()"
   ],
   "outputs": [],
   "metadata": {}
  },
  {
   "cell_type": "code",
   "execution_count": 209,
   "source": [
    "data_mac"
   ],
   "outputs": [
    {
     "output_type": "execute_result",
     "data": {
      "text/html": [
       "<div>\n",
       "<style scoped>\n",
       "    .dataframe tbody tr th:only-of-type {\n",
       "        vertical-align: middle;\n",
       "    }\n",
       "\n",
       "    .dataframe tbody tr th {\n",
       "        vertical-align: top;\n",
       "    }\n",
       "\n",
       "    .dataframe thead th {\n",
       "        text-align: right;\n",
       "    }\n",
       "</style>\n",
       "<table border=\"1\" class=\"dataframe\">\n",
       "  <thead>\n",
       "    <tr style=\"text-align: right;\">\n",
       "      <th></th>\n",
       "      <th>cnn_converted</th>\n",
       "      <th>cnn_quant</th>\n",
       "      <th>cnn_quant16</th>\n",
       "      <th>cnn_quant8</th>\n",
       "      <th>ffnn_converted</th>\n",
       "      <th>ffnn_quant</th>\n",
       "      <th>ffnn_quant16</th>\n",
       "      <th>ffnn_quant8</th>\n",
       "      <th>cnn</th>\n",
       "      <th>ffnn_mod</th>\n",
       "    </tr>\n",
       "  </thead>\n",
       "  <tbody>\n",
       "    <tr>\n",
       "      <th>0</th>\n",
       "      <td>4.620</td>\n",
       "      <td>4.630</td>\n",
       "      <td>4.610</td>\n",
       "      <td>3.230</td>\n",
       "      <td>8.660</td>\n",
       "      <td>5.450</td>\n",
       "      <td>8.870</td>\n",
       "      <td>13.36</td>\n",
       "      <td>3.800</td>\n",
       "      <td>7.500</td>\n",
       "    </tr>\n",
       "    <tr>\n",
       "      <th>1</th>\n",
       "      <td>4.640</td>\n",
       "      <td>4.620</td>\n",
       "      <td>4.610</td>\n",
       "      <td>3.240</td>\n",
       "      <td>8.660</td>\n",
       "      <td>5.440</td>\n",
       "      <td>8.860</td>\n",
       "      <td>13.38</td>\n",
       "      <td>3.250</td>\n",
       "      <td>6.830</td>\n",
       "    </tr>\n",
       "    <tr>\n",
       "      <th>2</th>\n",
       "      <td>4.610</td>\n",
       "      <td>4.620</td>\n",
       "      <td>4.620</td>\n",
       "      <td>3.240</td>\n",
       "      <td>8.680</td>\n",
       "      <td>5.440</td>\n",
       "      <td>8.880</td>\n",
       "      <td>13.39</td>\n",
       "      <td>3.300</td>\n",
       "      <td>6.800</td>\n",
       "    </tr>\n",
       "    <tr>\n",
       "      <th>3</th>\n",
       "      <td>4.620</td>\n",
       "      <td>4.620</td>\n",
       "      <td>4.610</td>\n",
       "      <td>3.240</td>\n",
       "      <td>8.660</td>\n",
       "      <td>5.460</td>\n",
       "      <td>8.980</td>\n",
       "      <td>13.39</td>\n",
       "      <td>3.270</td>\n",
       "      <td>6.850</td>\n",
       "    </tr>\n",
       "    <tr>\n",
       "      <th>4</th>\n",
       "      <td>4.620</td>\n",
       "      <td>4.620</td>\n",
       "      <td>4.620</td>\n",
       "      <td>3.230</td>\n",
       "      <td>8.680</td>\n",
       "      <td>5.440</td>\n",
       "      <td>8.970</td>\n",
       "      <td>13.38</td>\n",
       "      <td>3.270</td>\n",
       "      <td>6.790</td>\n",
       "    </tr>\n",
       "    <tr>\n",
       "      <th>mean</th>\n",
       "      <td>4.622</td>\n",
       "      <td>4.622</td>\n",
       "      <td>4.614</td>\n",
       "      <td>3.236</td>\n",
       "      <td>8.668</td>\n",
       "      <td>5.446</td>\n",
       "      <td>8.912</td>\n",
       "      <td>13.38</td>\n",
       "      <td>3.378</td>\n",
       "      <td>6.954</td>\n",
       "    </tr>\n",
       "  </tbody>\n",
       "</table>\n",
       "</div>"
      ],
      "text/plain": [
       "      cnn_converted  cnn_quant  cnn_quant16  cnn_quant8  ffnn_converted  \\\n",
       "0             4.620      4.630        4.610       3.230           8.660   \n",
       "1             4.640      4.620        4.610       3.240           8.660   \n",
       "2             4.610      4.620        4.620       3.240           8.680   \n",
       "3             4.620      4.620        4.610       3.240           8.660   \n",
       "4             4.620      4.620        4.620       3.230           8.680   \n",
       "mean          4.622      4.622        4.614       3.236           8.668   \n",
       "\n",
       "      ffnn_quant  ffnn_quant16  ffnn_quant8    cnn  ffnn_mod  \n",
       "0          5.450         8.870        13.36  3.800     7.500  \n",
       "1          5.440         8.860        13.38  3.250     6.830  \n",
       "2          5.440         8.880        13.39  3.300     6.800  \n",
       "3          5.460         8.980        13.39  3.270     6.850  \n",
       "4          5.440         8.970        13.38  3.270     6.790  \n",
       "mean       5.446         8.912        13.38  3.378     6.954  "
      ]
     },
     "metadata": {},
     "execution_count": 209
    }
   ],
   "metadata": {}
  },
  {
   "cell_type": "code",
   "execution_count": 210,
   "source": [
    "columns = list(data_mac.columns)\n",
    "means = list(data_mac.iloc[5])"
   ],
   "outputs": [],
   "metadata": {}
  },
  {
   "cell_type": "code",
   "execution_count": 211,
   "source": [
    "mpl.rcParams['font.size'] = 7 # font\n",
    "mpl.rcParams['lines.linewidth'] = 1 # line width\n",
    "plt.figure(figsize=(10,6))\n",
    "colors = plt.cm.Greens(means)\n",
    "plt.ylim([0,30])\n",
    "plt.bar(columns, means)"
   ],
   "outputs": [
    {
     "output_type": "execute_result",
     "data": {
      "text/plain": [
       "<BarContainer object of 10 artists>"
      ]
     },
     "metadata": {},
     "execution_count": 211
    },
    {
     "output_type": "display_data",
     "data": {
      "image/png": "[encoded data removed]",
      "text/plain": [
       "<Figure size 720x432 with 1 Axes>"
      ]
     },
     "metadata": {
      "needs_background": "light"
     }
    }
   ],
   "metadata": {}
  },
  {
   "cell_type": "markdown",
   "source": [
    "## RPI dataset"
   ],
   "metadata": {}
  },
  {
   "cell_type": "code",
   "execution_count": 212,
   "source": [
    "import matplotlib.pyplot as plt \n",
    "import matplotlib as mpl\n",
    "import pandas as pd\n",
    "import numpy as np\n",
    "\n",
    "data_rpi = pd.read_csv('RPI_inferences_loop_10rpi.csv')\n",
    "names = ['cnn_converted', 'cnn_quant', 'cnn_quant16', 'cnn_quant8', 'ffnn_converted', 'ffnn_quant', 'ffnn_quant16', 'ffnn_quant8']\n",
    "ind = [0,1,2,3,4,5,6,7]\n",
    "old_names = data_rpi.columns[ind]\n",
    "data_rpi.rename(columns=dict(zip(old_names, names)),inplace=True)\n",
    "y = [i for i in range(0,10,1)]\n",
    "data_rpi.loc['mean'] = data_rpi.mean()"
   ],
   "outputs": [],
   "metadata": {}
  },
  {
   "cell_type": "code",
   "execution_count": 213,
   "source": [
    "data_rpi"
   ],
   "outputs": [
    {
     "output_type": "execute_result",
     "data": {
      "text/html": [
       "<div>\n",
       "<style scoped>\n",
       "    .dataframe tbody tr th:only-of-type {\n",
       "        vertical-align: middle;\n",
       "    }\n",
       "\n",
       "    .dataframe tbody tr th {\n",
       "        vertical-align: top;\n",
       "    }\n",
       "\n",
       "    .dataframe thead th {\n",
       "        text-align: right;\n",
       "    }\n",
       "</style>\n",
       "<table border=\"1\" class=\"dataframe\">\n",
       "  <thead>\n",
       "    <tr style=\"text-align: right;\">\n",
       "      <th></th>\n",
       "      <th>cnn_converted</th>\n",
       "      <th>cnn_quant</th>\n",
       "      <th>cnn_quant16</th>\n",
       "      <th>cnn_quant8</th>\n",
       "      <th>ffnn_converted</th>\n",
       "      <th>ffnn_quant</th>\n",
       "      <th>ffnn_quant16</th>\n",
       "      <th>ffnn_quant8</th>\n",
       "      <th>cnn</th>\n",
       "      <th>ffnn</th>\n",
       "    </tr>\n",
       "  </thead>\n",
       "  <tbody>\n",
       "    <tr>\n",
       "      <th>0</th>\n",
       "      <td>4.630</td>\n",
       "      <td>4.630</td>\n",
       "      <td>4.620</td>\n",
       "      <td>3.240</td>\n",
       "      <td>8.960</td>\n",
       "      <td>5.540</td>\n",
       "      <td>9.250</td>\n",
       "      <td>13.360</td>\n",
       "      <td>3.770</td>\n",
       "      <td>7.270</td>\n",
       "    </tr>\n",
       "    <tr>\n",
       "      <th>1</th>\n",
       "      <td>4.630</td>\n",
       "      <td>4.630</td>\n",
       "      <td>4.620</td>\n",
       "      <td>3.300</td>\n",
       "      <td>8.970</td>\n",
       "      <td>5.450</td>\n",
       "      <td>9.190</td>\n",
       "      <td>13.370</td>\n",
       "      <td>3.260</td>\n",
       "      <td>6.860</td>\n",
       "    </tr>\n",
       "    <tr>\n",
       "      <th>2</th>\n",
       "      <td>4.620</td>\n",
       "      <td>4.630</td>\n",
       "      <td>4.610</td>\n",
       "      <td>3.240</td>\n",
       "      <td>8.960</td>\n",
       "      <td>5.440</td>\n",
       "      <td>9.140</td>\n",
       "      <td>13.470</td>\n",
       "      <td>3.300</td>\n",
       "      <td>6.780</td>\n",
       "    </tr>\n",
       "    <tr>\n",
       "      <th>3</th>\n",
       "      <td>4.620</td>\n",
       "      <td>4.630</td>\n",
       "      <td>4.610</td>\n",
       "      <td>3.230</td>\n",
       "      <td>9.050</td>\n",
       "      <td>5.430</td>\n",
       "      <td>9.050</td>\n",
       "      <td>13.390</td>\n",
       "      <td>3.270</td>\n",
       "      <td>6.880</td>\n",
       "    </tr>\n",
       "    <tr>\n",
       "      <th>4</th>\n",
       "      <td>4.690</td>\n",
       "      <td>4.630</td>\n",
       "      <td>4.610</td>\n",
       "      <td>3.240</td>\n",
       "      <td>8.970</td>\n",
       "      <td>5.460</td>\n",
       "      <td>9.000</td>\n",
       "      <td>13.410</td>\n",
       "      <td>3.280</td>\n",
       "      <td>6.830</td>\n",
       "    </tr>\n",
       "    <tr>\n",
       "      <th>5</th>\n",
       "      <td>4.630</td>\n",
       "      <td>4.620</td>\n",
       "      <td>4.600</td>\n",
       "      <td>3.230</td>\n",
       "      <td>8.970</td>\n",
       "      <td>5.430</td>\n",
       "      <td>8.970</td>\n",
       "      <td>13.380</td>\n",
       "      <td>3.280</td>\n",
       "      <td>6.790</td>\n",
       "    </tr>\n",
       "    <tr>\n",
       "      <th>6</th>\n",
       "      <td>4.630</td>\n",
       "      <td>4.630</td>\n",
       "      <td>4.610</td>\n",
       "      <td>3.240</td>\n",
       "      <td>8.960</td>\n",
       "      <td>5.420</td>\n",
       "      <td>9.040</td>\n",
       "      <td>13.380</td>\n",
       "      <td>3.520</td>\n",
       "      <td>6.860</td>\n",
       "    </tr>\n",
       "    <tr>\n",
       "      <th>7</th>\n",
       "      <td>4.620</td>\n",
       "      <td>4.690</td>\n",
       "      <td>4.610</td>\n",
       "      <td>3.240</td>\n",
       "      <td>8.970</td>\n",
       "      <td>5.450</td>\n",
       "      <td>9.090</td>\n",
       "      <td>13.390</td>\n",
       "      <td>3.270</td>\n",
       "      <td>6.890</td>\n",
       "    </tr>\n",
       "    <tr>\n",
       "      <th>8</th>\n",
       "      <td>4.630</td>\n",
       "      <td>4.620</td>\n",
       "      <td>4.610</td>\n",
       "      <td>3.240</td>\n",
       "      <td>8.970</td>\n",
       "      <td>5.440</td>\n",
       "      <td>9.130</td>\n",
       "      <td>13.380</td>\n",
       "      <td>3.240</td>\n",
       "      <td>6.520</td>\n",
       "    </tr>\n",
       "    <tr>\n",
       "      <th>9</th>\n",
       "      <td>4.620</td>\n",
       "      <td>4.630</td>\n",
       "      <td>4.610</td>\n",
       "      <td>3.230</td>\n",
       "      <td>8.970</td>\n",
       "      <td>5.430</td>\n",
       "      <td>9.110</td>\n",
       "      <td>13.380</td>\n",
       "      <td>3.300</td>\n",
       "      <td>6.470</td>\n",
       "    </tr>\n",
       "    <tr>\n",
       "      <th>mean</th>\n",
       "      <td>4.632</td>\n",
       "      <td>4.634</td>\n",
       "      <td>4.611</td>\n",
       "      <td>3.243</td>\n",
       "      <td>8.975</td>\n",
       "      <td>5.449</td>\n",
       "      <td>9.097</td>\n",
       "      <td>13.391</td>\n",
       "      <td>3.349</td>\n",
       "      <td>6.815</td>\n",
       "    </tr>\n",
       "  </tbody>\n",
       "</table>\n",
       "</div>"
      ],
      "text/plain": [
       "      cnn_converted  cnn_quant  cnn_quant16  cnn_quant8  ffnn_converted  \\\n",
       "0             4.630      4.630        4.620       3.240           8.960   \n",
       "1             4.630      4.630        4.620       3.300           8.970   \n",
       "2             4.620      4.630        4.610       3.240           8.960   \n",
       "3             4.620      4.630        4.610       3.230           9.050   \n",
       "4             4.690      4.630        4.610       3.240           8.970   \n",
       "5             4.630      4.620        4.600       3.230           8.970   \n",
       "6             4.630      4.630        4.610       3.240           8.960   \n",
       "7             4.620      4.690        4.610       3.240           8.970   \n",
       "8             4.630      4.620        4.610       3.240           8.970   \n",
       "9             4.620      4.630        4.610       3.230           8.970   \n",
       "mean          4.632      4.634        4.611       3.243           8.975   \n",
       "\n",
       "      ffnn_quant  ffnn_quant16  ffnn_quant8    cnn   ffnn  \n",
       "0          5.540         9.250       13.360  3.770  7.270  \n",
       "1          5.450         9.190       13.370  3.260  6.860  \n",
       "2          5.440         9.140       13.470  3.300  6.780  \n",
       "3          5.430         9.050       13.390  3.270  6.880  \n",
       "4          5.460         9.000       13.410  3.280  6.830  \n",
       "5          5.430         8.970       13.380  3.280  6.790  \n",
       "6          5.420         9.040       13.380  3.520  6.860  \n",
       "7          5.450         9.090       13.390  3.270  6.890  \n",
       "8          5.440         9.130       13.380  3.240  6.520  \n",
       "9          5.430         9.110       13.380  3.300  6.470  \n",
       "mean       5.449         9.097       13.391  3.349  6.815  "
      ]
     },
     "metadata": {},
     "execution_count": 213
    }
   ],
   "metadata": {}
  },
  {
   "cell_type": "code",
   "execution_count": 214,
   "source": [
    "columns = list(data_rpi.columns)\n",
    "means = list(data_rpi.iloc[5])\n",
    "mpl.rcParams['font.size'] = 7 # font\n",
    "mpl.rcParams['lines.linewidth'] = 1 # line width\n",
    "plt.figure(figsize=(10,6))\n",
    "#colors = plt.cm.Greens(np.linspace(0, 0.5, len(means)))\n",
    "plt.ylim([0,30])\n",
    "plt.bar(columns, means)"
   ],
   "outputs": [
    {
     "output_type": "execute_result",
     "data": {
      "text/plain": [
       "<BarContainer object of 10 artists>"
      ]
     },
     "metadata": {},
     "execution_count": 214
    },
    {
     "output_type": "display_data",
     "data": {
      "image/png": "[encoded data removed]",
      "text/plain": [
       "<Figure size 720x432 with 1 Axes>"
      ]
     },
     "metadata": {
      "needs_background": "light"
     }
    }
   ],
   "metadata": {}
  },
  {
   "cell_type": "code",
   "execution_count": 215,
   "source": [
    "means"
   ],
   "outputs": [
    {
     "output_type": "execute_result",
     "data": {
      "text/plain": [
       "[4.63, 4.62, 4.6, 3.23, 8.97, 5.43, 8.97, 13.38, 3.28, 6.79]"
      ]
     },
     "metadata": {},
     "execution_count": 215
    }
   ],
   "metadata": {}
  },
  {
   "cell_type": "code",
   "execution_count": 216,
   "source": [
    "plt.figure(figsize=(20,10))\n",
    "plt.bar(columns, list_sizes)"
   ],
   "outputs": [
    {
     "output_type": "execute_result",
     "data": {
      "text/plain": [
       "<BarContainer object of 10 artists>"
      ]
     },
     "metadata": {},
     "execution_count": 216
    },
    {
     "output_type": "display_data",
     "data": {
      "image/png": "[encoded data removed]",
      "text/plain": [
       "<Figure size 1440x720 with 1 Axes>"
      ]
     },
     "metadata": {
      "needs_background": "light"
     }
    }
   ],
   "metadata": {}
  },
  {
   "cell_type": "code",
   "execution_count": 217,
   "source": [
    "import pickle\n",
    "with open('./disk_rpi.pkl', 'rb') as f:\n",
    "    rpi_disk_usage = pickle.load(f)"
   ],
   "outputs": [],
   "metadata": {}
  },
  {
   "cell_type": "code",
   "execution_count": 218,
   "source": [
    "rpi_disk_usage == list_sizes"
   ],
   "outputs": [
    {
     "output_type": "execute_result",
     "data": {
      "text/plain": [
       "True"
      ]
     },
     "metadata": {},
     "execution_count": 218
    }
   ],
   "metadata": {}
  },
  {
   "cell_type": "code",
   "execution_count": 219,
   "source": [
    "rpi_disk_usage"
   ],
   "outputs": [
    {
     "output_type": "execute_result",
     "data": {
      "text/plain": [
       "[84.356,\n",
       " 23.76,\n",
       " 44.256,\n",
       " 24.136,\n",
       " 1259.028,\n",
       " 318.576,\n",
       " 632.48,\n",
       " 318.744,\n",
       " 271.416,\n",
       " 3790.408]"
      ]
     },
     "metadata": {},
     "execution_count": 219
    }
   ],
   "metadata": {}
  },
  {
   "cell_type": "markdown",
   "source": [
    "## Cifar100 dataset"
   ],
   "metadata": {}
  },
  {
   "cell_type": "code",
   "execution_count": 220,
   "source": [
    "cifar_model_dir = './cifar_models/'\n",
    "cifar_lite_dir = './cifar_tflite_models/'\n",
    "\n",
    "models_size = disk_usage(cifar_model_dir)\n",
    "litemodels_size = disk_usage(cifar_lite_dir)"
   ],
   "outputs": [
    {
     "output_type": "stream",
     "name": "stdout",
     "text": [
      "Models sizes : \n",
      "CNN_classic.h5 : 3273.008 kb\n",
      "FFNN_classic.h5 : 49182.12 kb\n",
      "Models sizes : \n"
     ]
    }
   ],
   "metadata": {}
  },
  {
   "cell_type": "code",
   "execution_count": 221,
   "source": [
    "list_sizes_cls = list(models_size.values())\n",
    "list_sizes_tfl = list(litemodels_size.values())\n",
    "list_sizes_cifar = list_sizes_tfl + list_sizes_cls"
   ],
   "outputs": [],
   "metadata": {}
  },
  {
   "cell_type": "code",
   "execution_count": 222,
   "source": [
    "list_sizes_cifar"
   ],
   "outputs": [
    {
     "output_type": "execute_result",
     "data": {
      "text/plain": [
       "[3273.008, 49182.12]"
      ]
     },
     "metadata": {},
     "execution_count": 222
    }
   ],
   "metadata": {}
  },
  {
   "cell_type": "code",
   "execution_count": 223,
   "source": [
    "cifar_data_mac = pd.read_csv('RPI_inferences_loop_5cifarmac.csv')\n",
    "names = ['cnn_converted', 'cnn_quant', 'cnn_quant16', 'cnn_quant8', 'ffnn_converted', 'ffnn_quant', 'ffnn_quant16', 'ffnn_quant8']\n",
    "ind = [0,1,2,3,4,5,6,7]\n",
    "old_names = cifar_data_mac.columns[ind]\n",
    "cifar_data_mac.rename(columns=dict(zip(old_names, names)),inplace=True)\n",
    "y = [i for i in range(0,10,1)]\n",
    "cifar_data_mac.loc['mean'] = cifar_data_mac.mean()"
   ],
   "outputs": [],
   "metadata": {}
  },
  {
   "cell_type": "code",
   "execution_count": 224,
   "source": [
    "columns = list(cifar_data_mac.columns)\n",
    "means = list(cifar_data_mac.iloc[5])\n",
    "mpl.rcParams['font.size'] = 7 # font\n",
    "mpl.rcParams['lines.linewidth'] = 1 # line width\n",
    "plt.figure(figsize=(10,6))\n",
    "#colors = plt.cm.Greens(np.linspace(0, 0.5, len(means)))\n",
    "plt.ylim([0,30])\n",
    "plt.bar(columns, means)"
   ],
   "outputs": [
    {
     "output_type": "execute_result",
     "data": {
      "text/plain": [
       "<BarContainer object of 10 artists>"
      ]
     },
     "metadata": {},
     "execution_count": 224
    },
    {
     "output_type": "display_data",
     "data": {
      "image/png": "[encoded data removed]",
      "text/plain": [
       "<Figure size 720x432 with 1 Axes>"
      ]
     },
     "metadata": {
      "needs_background": "light"
     }
    }
   ],
   "metadata": {}
  },
  {
   "cell_type": "code",
   "execution_count": 225,
   "source": [
    "plt.bar(columns, list_sizes_cifar)"
   ],
   "outputs": [
    {
     "output_type": "error",
     "ename": "ValueError",
     "evalue": "shape mismatch: objects cannot be broadcast to a single shape",
     "traceback": [
      "\u001b[0;31m---------------------------------------------------------------------------\u001b[0m",
      "\u001b[0;31mValueError\u001b[0m                                Traceback (most recent call last)",
      "\u001b[0;32m/var/folders/pj/_64wh_0d44z5f2y6mk2zml0w0000gn/T/ipykernel_8839/3962089535.py\u001b[0m in \u001b[0;36m<module>\u001b[0;34m\u001b[0m\n\u001b[0;32m----> 1\u001b[0;31m \u001b[0mplt\u001b[0m\u001b[0;34m.\u001b[0m\u001b[0mbar\u001b[0m\u001b[0;34m(\u001b[0m\u001b[0mcolumns\u001b[0m\u001b[0;34m,\u001b[0m \u001b[0mlist_sizes_cifar\u001b[0m\u001b[0;34m)\u001b[0m\u001b[0;34m\u001b[0m\u001b[0;34m\u001b[0m\u001b[0m\n\u001b[0m",
      "\u001b[0;32m/opt/anaconda3/lib/python3.8/site-packages/matplotlib/pyplot.py\u001b[0m in \u001b[0;36mbar\u001b[0;34m(x, height, width, bottom, align, data, **kwargs)\u001b[0m\n\u001b[1;32m   2485\u001b[0m         \u001b[0mx\u001b[0m\u001b[0;34m,\u001b[0m \u001b[0mheight\u001b[0m\u001b[0;34m,\u001b[0m \u001b[0mwidth\u001b[0m\u001b[0;34m=\u001b[0m\u001b[0;36m0.8\u001b[0m\u001b[0;34m,\u001b[0m \u001b[0mbottom\u001b[0m\u001b[0;34m=\u001b[0m\u001b[0;32mNone\u001b[0m\u001b[0;34m,\u001b[0m \u001b[0;34m*\u001b[0m\u001b[0;34m,\u001b[0m \u001b[0malign\u001b[0m\u001b[0;34m=\u001b[0m\u001b[0;34m'center'\u001b[0m\u001b[0;34m,\u001b[0m\u001b[0;34m\u001b[0m\u001b[0;34m\u001b[0m\u001b[0m\n\u001b[1;32m   2486\u001b[0m         data=None, **kwargs):\n\u001b[0;32m-> 2487\u001b[0;31m     return gca().bar(\n\u001b[0m\u001b[1;32m   2488\u001b[0m         \u001b[0mx\u001b[0m\u001b[0;34m,\u001b[0m \u001b[0mheight\u001b[0m\u001b[0;34m,\u001b[0m \u001b[0mwidth\u001b[0m\u001b[0;34m=\u001b[0m\u001b[0mwidth\u001b[0m\u001b[0;34m,\u001b[0m \u001b[0mbottom\u001b[0m\u001b[0;34m=\u001b[0m\u001b[0mbottom\u001b[0m\u001b[0;34m,\u001b[0m \u001b[0malign\u001b[0m\u001b[0;34m=\u001b[0m\u001b[0malign\u001b[0m\u001b[0;34m,\u001b[0m\u001b[0;34m\u001b[0m\u001b[0;34m\u001b[0m\u001b[0m\n\u001b[1;32m   2489\u001b[0m         **({\"data\": data} if data is not None else {}), **kwargs)\n",
      "\u001b[0;32m/opt/anaconda3/lib/python3.8/site-packages/matplotlib/__init__.py\u001b[0m in \u001b[0;36minner\u001b[0;34m(ax, data, *args, **kwargs)\u001b[0m\n\u001b[1;32m   1445\u001b[0m     \u001b[0;32mdef\u001b[0m \u001b[0minner\u001b[0m\u001b[0;34m(\u001b[0m\u001b[0max\u001b[0m\u001b[0;34m,\u001b[0m \u001b[0;34m*\u001b[0m\u001b[0margs\u001b[0m\u001b[0;34m,\u001b[0m \u001b[0mdata\u001b[0m\u001b[0;34m=\u001b[0m\u001b[0;32mNone\u001b[0m\u001b[0;34m,\u001b[0m \u001b[0;34m**\u001b[0m\u001b[0mkwargs\u001b[0m\u001b[0;34m)\u001b[0m\u001b[0;34m:\u001b[0m\u001b[0;34m\u001b[0m\u001b[0;34m\u001b[0m\u001b[0m\n\u001b[1;32m   1446\u001b[0m         \u001b[0;32mif\u001b[0m \u001b[0mdata\u001b[0m \u001b[0;32mis\u001b[0m \u001b[0;32mNone\u001b[0m\u001b[0;34m:\u001b[0m\u001b[0;34m\u001b[0m\u001b[0;34m\u001b[0m\u001b[0m\n\u001b[0;32m-> 1447\u001b[0;31m             \u001b[0;32mreturn\u001b[0m \u001b[0mfunc\u001b[0m\u001b[0;34m(\u001b[0m\u001b[0max\u001b[0m\u001b[0;34m,\u001b[0m \u001b[0;34m*\u001b[0m\u001b[0mmap\u001b[0m\u001b[0;34m(\u001b[0m\u001b[0msanitize_sequence\u001b[0m\u001b[0;34m,\u001b[0m \u001b[0margs\u001b[0m\u001b[0;34m)\u001b[0m\u001b[0;34m,\u001b[0m \u001b[0;34m**\u001b[0m\u001b[0mkwargs\u001b[0m\u001b[0;34m)\u001b[0m\u001b[0;34m\u001b[0m\u001b[0;34m\u001b[0m\u001b[0m\n\u001b[0m\u001b[1;32m   1448\u001b[0m \u001b[0;34m\u001b[0m\u001b[0m\n\u001b[1;32m   1449\u001b[0m         \u001b[0mbound\u001b[0m \u001b[0;34m=\u001b[0m \u001b[0mnew_sig\u001b[0m\u001b[0;34m.\u001b[0m\u001b[0mbind\u001b[0m\u001b[0;34m(\u001b[0m\u001b[0max\u001b[0m\u001b[0;34m,\u001b[0m \u001b[0;34m*\u001b[0m\u001b[0margs\u001b[0m\u001b[0;34m,\u001b[0m \u001b[0;34m**\u001b[0m\u001b[0mkwargs\u001b[0m\u001b[0;34m)\u001b[0m\u001b[0;34m\u001b[0m\u001b[0;34m\u001b[0m\u001b[0m\n",
      "\u001b[0;32m/opt/anaconda3/lib/python3.8/site-packages/matplotlib/axes/_axes.py\u001b[0m in \u001b[0;36mbar\u001b[0;34m(self, x, height, width, bottom, align, **kwargs)\u001b[0m\n\u001b[1;32m   2428\u001b[0m                 \u001b[0myerr\u001b[0m \u001b[0;34m=\u001b[0m \u001b[0mself\u001b[0m\u001b[0;34m.\u001b[0m\u001b[0m_convert_dx\u001b[0m\u001b[0;34m(\u001b[0m\u001b[0myerr\u001b[0m\u001b[0;34m,\u001b[0m \u001b[0my0\u001b[0m\u001b[0;34m,\u001b[0m \u001b[0my\u001b[0m\u001b[0;34m,\u001b[0m \u001b[0mself\u001b[0m\u001b[0;34m.\u001b[0m\u001b[0mconvert_yunits\u001b[0m\u001b[0;34m)\u001b[0m\u001b[0;34m\u001b[0m\u001b[0;34m\u001b[0m\u001b[0m\n\u001b[1;32m   2429\u001b[0m \u001b[0;34m\u001b[0m\u001b[0m\n\u001b[0;32m-> 2430\u001b[0;31m         x, height, width, y, linewidth = np.broadcast_arrays(\n\u001b[0m\u001b[1;32m   2431\u001b[0m             \u001b[0;31m# Make args iterable too.\u001b[0m\u001b[0;34m\u001b[0m\u001b[0;34m\u001b[0m\u001b[0;34m\u001b[0m\u001b[0m\n\u001b[1;32m   2432\u001b[0m             np.atleast_1d(x), height, width, y, linewidth)\n",
      "\u001b[0;32m<__array_function__ internals>\u001b[0m in \u001b[0;36mbroadcast_arrays\u001b[0;34m(*args, **kwargs)\u001b[0m\n",
      "\u001b[0;32m/opt/anaconda3/lib/python3.8/site-packages/numpy/lib/stride_tricks.py\u001b[0m in \u001b[0;36mbroadcast_arrays\u001b[0;34m(subok, *args)\u001b[0m\n\u001b[1;32m    256\u001b[0m     \u001b[0margs\u001b[0m \u001b[0;34m=\u001b[0m \u001b[0;34m[\u001b[0m\u001b[0mnp\u001b[0m\u001b[0;34m.\u001b[0m\u001b[0marray\u001b[0m\u001b[0;34m(\u001b[0m\u001b[0m_m\u001b[0m\u001b[0;34m,\u001b[0m \u001b[0mcopy\u001b[0m\u001b[0;34m=\u001b[0m\u001b[0;32mFalse\u001b[0m\u001b[0;34m,\u001b[0m \u001b[0msubok\u001b[0m\u001b[0;34m=\u001b[0m\u001b[0msubok\u001b[0m\u001b[0;34m)\u001b[0m \u001b[0;32mfor\u001b[0m \u001b[0m_m\u001b[0m \u001b[0;32min\u001b[0m \u001b[0margs\u001b[0m\u001b[0;34m]\u001b[0m\u001b[0;34m\u001b[0m\u001b[0;34m\u001b[0m\u001b[0m\n\u001b[1;32m    257\u001b[0m \u001b[0;34m\u001b[0m\u001b[0m\n\u001b[0;32m--> 258\u001b[0;31m     \u001b[0mshape\u001b[0m \u001b[0;34m=\u001b[0m \u001b[0m_broadcast_shape\u001b[0m\u001b[0;34m(\u001b[0m\u001b[0;34m*\u001b[0m\u001b[0margs\u001b[0m\u001b[0;34m)\u001b[0m\u001b[0;34m\u001b[0m\u001b[0;34m\u001b[0m\u001b[0m\n\u001b[0m\u001b[1;32m    259\u001b[0m \u001b[0;34m\u001b[0m\u001b[0m\n\u001b[1;32m    260\u001b[0m     \u001b[0;32mif\u001b[0m \u001b[0mall\u001b[0m\u001b[0;34m(\u001b[0m\u001b[0marray\u001b[0m\u001b[0;34m.\u001b[0m\u001b[0mshape\u001b[0m \u001b[0;34m==\u001b[0m \u001b[0mshape\u001b[0m \u001b[0;32mfor\u001b[0m \u001b[0marray\u001b[0m \u001b[0;32min\u001b[0m \u001b[0margs\u001b[0m\u001b[0;34m)\u001b[0m\u001b[0;34m:\u001b[0m\u001b[0;34m\u001b[0m\u001b[0;34m\u001b[0m\u001b[0m\n",
      "\u001b[0;32m/opt/anaconda3/lib/python3.8/site-packages/numpy/lib/stride_tricks.py\u001b[0m in \u001b[0;36m_broadcast_shape\u001b[0;34m(*args)\u001b[0m\n\u001b[1;32m    187\u001b[0m     \u001b[0;31m# use the old-iterator because np.nditer does not handle size 0 arrays\u001b[0m\u001b[0;34m\u001b[0m\u001b[0;34m\u001b[0m\u001b[0;34m\u001b[0m\u001b[0m\n\u001b[1;32m    188\u001b[0m     \u001b[0;31m# consistently\u001b[0m\u001b[0;34m\u001b[0m\u001b[0;34m\u001b[0m\u001b[0;34m\u001b[0m\u001b[0m\n\u001b[0;32m--> 189\u001b[0;31m     \u001b[0mb\u001b[0m \u001b[0;34m=\u001b[0m \u001b[0mnp\u001b[0m\u001b[0;34m.\u001b[0m\u001b[0mbroadcast\u001b[0m\u001b[0;34m(\u001b[0m\u001b[0;34m*\u001b[0m\u001b[0margs\u001b[0m\u001b[0;34m[\u001b[0m\u001b[0;34m:\u001b[0m\u001b[0;36m32\u001b[0m\u001b[0;34m]\u001b[0m\u001b[0;34m)\u001b[0m\u001b[0;34m\u001b[0m\u001b[0;34m\u001b[0m\u001b[0m\n\u001b[0m\u001b[1;32m    190\u001b[0m     \u001b[0;31m# unfortunately, it cannot handle 32 or more arguments directly\u001b[0m\u001b[0;34m\u001b[0m\u001b[0;34m\u001b[0m\u001b[0;34m\u001b[0m\u001b[0m\n\u001b[1;32m    191\u001b[0m     \u001b[0;32mfor\u001b[0m \u001b[0mpos\u001b[0m \u001b[0;32min\u001b[0m \u001b[0mrange\u001b[0m\u001b[0;34m(\u001b[0m\u001b[0;36m32\u001b[0m\u001b[0;34m,\u001b[0m \u001b[0mlen\u001b[0m\u001b[0;34m(\u001b[0m\u001b[0margs\u001b[0m\u001b[0;34m)\u001b[0m\u001b[0;34m,\u001b[0m \u001b[0;36m31\u001b[0m\u001b[0;34m)\u001b[0m\u001b[0;34m:\u001b[0m\u001b[0;34m\u001b[0m\u001b[0;34m\u001b[0m\u001b[0m\n",
      "\u001b[0;31mValueError\u001b[0m: shape mismatch: objects cannot be broadcast to a single shape"
     ]
    },
    {
     "output_type": "display_data",
     "data": {
      "image/png": "[encoded data removed]",
      "text/plain": [
       "<Figure size 432x288 with 1 Axes>"
      ]
     },
     "metadata": {
      "needs_background": "light"
     }
    }
   ],
   "metadata": {}
  },
  {
   "cell_type": "code",
   "execution_count": null,
   "source": [
    "plt.bar(columns, list_sizes)\n",
    "plt.ylim([0,50000])"
   ],
   "outputs": [
    {
     "output_type": "execute_result",
     "data": {
      "text/plain": [
       "(0.0, 50000.0)"
      ]
     },
     "metadata": {},
     "execution_count": 193
    },
    {
     "output_type": "display_data",
     "data": {
      "image/png": "[encoded data removed]",
      "text/plain": [
       "<Figure size 432x288 with 1 Axes>"
      ]
     },
     "metadata": {
      "needs_background": "light"
     }
    }
   ],
   "metadata": {}
  },
  {
   "cell_type": "code",
   "execution_count": null,
   "source": [],
   "outputs": [],
   "metadata": {}
  }
 ],
 "metadata": {
  "interpreter": {
   "hash": "dca0ade3e726a953b501b15e8e990130d2b7799f14cfd9f4271676035ebe5511"
  },
  "kernelspec": {
   "name": "python3",
   "display_name": "Python 3.8.8 64-bit ('base': conda)"
  },
  "language_info": {
   "codemirror_mode": {
    "name": "ipython",
    "version": 3
   },
   "file_extension": ".py",
   "mimetype": "text/x-python",
   "name": "python",
   "nbconvert_exporter": "python",
   "pygments_lexer": "ipython3",
   "version": "3.8.8"
  }
 },
 "nbformat": 4,
 "nbformat_minor": 4
}