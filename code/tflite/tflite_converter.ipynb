{
 "cells": [
  {
   "cell_type": "markdown",
   "source": [
    "# Tensorflow to Tensorflow Lite"
   ],
   "metadata": {}
  },
  {
   "cell_type": "markdown",
   "source": [
    "In this notebook, I try to create a simple image recognition network in order to then covert it to TF Lite to compare results.\n",
    "The original network is tested and saved, with tf.saved_model.save. It is recommended to use this rather than the Keras API when trying to convert the model to TF Lite.\n",
    "So far, the model is very accurate in the classical version, it works and predicts with the Lite version too. \n",
    "\n",
    "\n",
    "Currently it uses a loop to predict the every img of the test set 1 by 1, there must be a more efficient way to do so."
   ],
   "metadata": {}
  },
  {
   "cell_type": "markdown",
   "source": [
    "## 1. Tensorflow normal model"
   ],
   "metadata": {}
  },
  {
   "cell_type": "code",
   "execution_count": 1,
   "source": [
    "import pandas as pd\n",
    "import matplotlib.pyplot as plt\n",
    "import tensorflow as tf\n",
    "import numpy as np\n",
    "import time\n",
    "\n",
    "from keras.models import Sequential\n",
    "from keras.layers import Dense, Flatten"
   ],
   "outputs": [],
   "metadata": {}
  },
  {
   "cell_type": "markdown",
   "source": [
    "#### Model definition"
   ],
   "metadata": {}
  },
  {
   "cell_type": "code",
   "execution_count": 2,
   "source": [
    "model1 = Sequential([\n",
    "    Flatten(input_shape=(784,)),\n",
    "    Dense(320, activation='relu'),\n",
    "    Dense(160, activation='relu'),\n",
    "    Dense(10, activation='softmax')\n",
    "])\n",
    "\n",
    "optimizer = tf.keras.optimizers.Adam()\n",
    "model1.compile(loss = 'sparse_categorical_crossentropy',\n",
    "                optimizer = 'sgd',\n",
    "                metrics = 'acc')"
   ],
   "outputs": [],
   "metadata": {}
  },
  {
   "cell_type": "markdown",
   "source": [
    "#### Data \n",
    "The data only uses one original 'train' data set from MNIST Kaggle because the test set was an exercise one and had no labels given so it is not usable for the accuracy results we want here"
   ],
   "metadata": {}
  },
  {
   "cell_type": "code",
   "execution_count": 3,
   "source": [
    "df = pd.read_csv('./mnist_data/train.csv')\n",
    "df_train = df.iloc[:35000] # 35000/42000\n",
    "df_test2 = df.iloc[35000:] # the 7000 left\n",
    "df_test= df_test2.drop('label', axis = 1)\n",
    "\n",
    "# Has the label column\n",
    "print('test shape : ', df_test.shape)\n",
    "\n",
    "\n",
    "X = df_train.drop('label', axis = 1)\n",
    "X /= 255.0 # Normalize\n",
    "#print(X.loc[0].shape)\n",
    "\n",
    "# Label of all the images\n",
    "y = df_train['label']"
   ],
   "outputs": [
    {
     "output_type": "stream",
     "name": "stdout",
     "text": [
      "test shape :  (7000, 784)\n"
     ]
    }
   ],
   "metadata": {}
  },
  {
   "cell_type": "markdown",
   "source": [
    "#### Model fit"
   ],
   "metadata": {}
  },
  {
   "cell_type": "code",
   "execution_count": 4,
   "source": [
    "# The nb of epochs doesn't matter much at the moment, at 30 accuracy is at 99% \n",
    "model1.fit(X, y, epochs=30)\n"
   ],
   "outputs": [
    {
     "output_type": "stream",
     "name": "stdout",
     "text": [
      "Epoch 1/30\n",
      "1094/1094 [==============================] - 2s 2ms/step - loss: 0.7425 - acc: 0.8145\n",
      "Epoch 2/30\n",
      "1094/1094 [==============================] - 2s 2ms/step - loss: 0.3300 - acc: 0.9070\n",
      "Epoch 3/30\n",
      "1094/1094 [==============================] - 2s 2ms/step - loss: 0.2733 - acc: 0.9221\n",
      "Epoch 4/30\n",
      "1094/1094 [==============================] - 1s 1ms/step - loss: 0.2390 - acc: 0.9305\n",
      "Epoch 5/30\n",
      "1094/1094 [==============================] - 1s 1ms/step - loss: 0.2125 - acc: 0.9388\n",
      "Epoch 6/30\n",
      "1094/1094 [==============================] - 1s 1ms/step - loss: 0.1915 - acc: 0.9449\n",
      "Epoch 7/30\n",
      "1094/1094 [==============================] - 1s 1ms/step - loss: 0.1735 - acc: 0.9504\n",
      "Epoch 8/30\n",
      "1094/1094 [==============================] - 1s 1ms/step - loss: 0.1585 - acc: 0.9555\n",
      "Epoch 9/30\n",
      "1094/1094 [==============================] - 1s 1ms/step - loss: 0.1453 - acc: 0.9592\n",
      "Epoch 10/30\n",
      "1094/1094 [==============================] - 2s 1ms/step - loss: 0.1336 - acc: 0.9624\n",
      "Epoch 11/30\n",
      "1094/1094 [==============================] - 1s 1ms/step - loss: 0.1241 - acc: 0.9653\n",
      "Epoch 12/30\n",
      "1094/1094 [==============================] - 1s 1ms/step - loss: 0.1151 - acc: 0.9683\n",
      "Epoch 13/30\n",
      "1094/1094 [==============================] - 1s 1ms/step - loss: 0.1068 - acc: 0.9711\n",
      "Epoch 14/30\n",
      "1094/1094 [==============================] - 1s 1ms/step - loss: 0.1006 - acc: 0.9723\n",
      "Epoch 15/30\n",
      "1094/1094 [==============================] - 1s 1ms/step - loss: 0.0934 - acc: 0.9748\n",
      "Epoch 16/30\n",
      "1094/1094 [==============================] - 1s 1ms/step - loss: 0.0878 - acc: 0.9766\n",
      "Epoch 17/30\n",
      "1094/1094 [==============================] - 1s 1ms/step - loss: 0.0824 - acc: 0.9775\n",
      "Epoch 18/30\n",
      "1094/1094 [==============================] - 1s 1ms/step - loss: 0.0773 - acc: 0.9790\n",
      "Epoch 19/30\n",
      "1094/1094 [==============================] - 1s 1ms/step - loss: 0.0727 - acc: 0.9806\n",
      "Epoch 20/30\n",
      "1094/1094 [==============================] - 1s 1ms/step - loss: 0.0687 - acc: 0.9814\n",
      "Epoch 21/30\n",
      "1094/1094 [==============================] - 1s 1ms/step - loss: 0.0646 - acc: 0.9829\n",
      "Epoch 22/30\n",
      "1094/1094 [==============================] - 1s 1ms/step - loss: 0.0608 - acc: 0.9837\n",
      "Epoch 23/30\n",
      "1094/1094 [==============================] - 1s 1ms/step - loss: 0.0575 - acc: 0.9848\n",
      "Epoch 24/30\n",
      "1094/1094 [==============================] - 1s 1ms/step - loss: 0.0545 - acc: 0.9860\n",
      "Epoch 25/30\n",
      "1094/1094 [==============================] - 1s 1ms/step - loss: 0.0514 - acc: 0.9867\n",
      "Epoch 26/30\n",
      "1094/1094 [==============================] - 1s 1ms/step - loss: 0.0485 - acc: 0.9877\n",
      "Epoch 27/30\n",
      "1094/1094 [==============================] - 1s 1ms/step - loss: 0.0459 - acc: 0.9885\n",
      "Epoch 28/30\n",
      "1094/1094 [==============================] - 1s 1ms/step - loss: 0.0431 - acc: 0.9890\n",
      "Epoch 29/30\n",
      "1094/1094 [==============================] - 1s 1ms/step - loss: 0.0409 - acc: 0.9905\n",
      "Epoch 30/30\n",
      "1094/1094 [==============================] - 1s 1ms/step - loss: 0.0385 - acc: 0.9913\n"
     ]
    },
    {
     "output_type": "execute_result",
     "data": {
      "text/plain": [
       "<keras.callbacks.History at 0x7ff869caedf0>"
      ]
     },
     "metadata": {},
     "execution_count": 4
    }
   ],
   "metadata": {}
  },
  {
   "cell_type": "code",
   "execution_count": 5,
   "source": [
    "ypreds = model1.predict(df_test)\n",
    "print('ypreds shape :', ypreds.shape)\n",
    "# ypreds is the prediction result over the test set, using the model1 (normal TF)\n",
    "# in one-hot format\n",
    "ypreds"
   ],
   "outputs": [
    {
     "output_type": "stream",
     "name": "stdout",
     "text": [
      "ypreds shape : (7000, 10)\n"
     ]
    },
    {
     "output_type": "execute_result",
     "data": {
      "text/plain": [
       "array([[0., 0., 1., ..., 0., 0., 0.],\n",
       "       [0., 0., 1., ..., 0., 0., 0.],\n",
       "       [0., 0., 0., ..., 0., 0., 0.],\n",
       "       ...,\n",
       "       [0., 0., 0., ..., 1., 0., 0.],\n",
       "       [0., 0., 0., ..., 0., 0., 0.],\n",
       "       [0., 0., 0., ..., 0., 0., 1.]], dtype=float32)"
      ]
     },
     "metadata": {},
     "execution_count": 5
    }
   ],
   "metadata": {}
  },
  {
   "cell_type": "markdown",
   "source": [
    "#### Example plot/verification"
   ],
   "metadata": {}
  },
  {
   "cell_type": "code",
   "execution_count": 6,
   "source": [
    "number = df_test.loc[35002].values\n",
    "number = number.reshape(28,28)\n",
    "plt.imshow(number)\n",
    "# a way of returning the only 1 in the 0s array : np.argsort(ypreds[2])[9]\n",
    "# a much better way\n",
    "np.argmax(ypreds[2])\n",
    "# the prediction is correct"
   ],
   "outputs": [
    {
     "output_type": "execute_result",
     "data": {
      "text/plain": [
       "5"
      ]
     },
     "metadata": {},
     "execution_count": 6
    },
    {
     "output_type": "display_data",
     "data": {
      "image/png": "[encoded data removed]",
      "text/plain": [
       "<Figure size 432x288 with 1 Axes>"
      ]
     },
     "metadata": {
      "needs_background": "light"
     }
    }
   ],
   "metadata": {}
  },
  {
   "cell_type": "markdown",
   "source": [
    "### Saving the model\n",
    "It is saved here because it then easier to see how it re-usable for tflite use, and because the first conversion attempt is with tf.lite.TFLiteConverter.from_saved_model"
   ],
   "metadata": {}
  },
  {
   "cell_type": "code",
   "execution_count": 7,
   "source": [
    "path = './model1_mnist/'\n",
    "tf.saved_model.save(model1, path)"
   ],
   "outputs": [
    {
     "output_type": "stream",
     "name": "stdout",
     "text": [
      "INFO:tensorflow:Assets written to: ./model1_mnist/assets\n"
     ]
    }
   ],
   "metadata": {}
  },
  {
   "cell_type": "markdown",
   "source": [
    "## 2. TFLite model"
   ],
   "metadata": {}
  },
  {
   "cell_type": "markdown",
   "source": [
    "### First we convert it "
   ],
   "metadata": {}
  },
  {
   "cell_type": "code",
   "execution_count": 8,
   "source": [
    "# could use from_keras_model, may not be so much differences\n",
    "converter = tf.lite.TFLiteConverter.from_saved_model(path)\n",
    "converter.target_spec.supported_ops = [\n",
    "    tf.lite.OpsSet.TFLITE_BUILTINS,  # enable TensorFlow Lite ops.\n",
    "    tf.lite.OpsSet.SELECT_TF_OPS  # enable TensorFlow ops.\n",
    "]\n",
    "tflite_model = converter.convert()\n",
    "\n",
    "interpreter = tf.lite.Interpreter(model_content=tflite_model)\n",
    "signatures = interpreter.get_signature_list()\n",
    "print(signatures)"
   ],
   "outputs": [
    {
     "output_type": "stream",
     "name": "stdout",
     "text": [
      "{'serving_default': {'inputs': ['flatten_input'], 'outputs': ['dense_2']}}\n"
     ]
    }
   ],
   "metadata": {}
  },
  {
   "cell_type": "markdown",
   "source": [
    "### Then we set up the interpreter\n",
    "(See TFLite site)"
   ],
   "metadata": {}
  },
  {
   "cell_type": "code",
   "execution_count": 9,
   "source": [
    "interpreter.allocate_tensors()\n",
    "# Get input and output tensors.\n",
    "input_details = interpreter.get_input_details()\n",
    "output_details = interpreter.get_output_details()"
   ],
   "outputs": [],
   "metadata": {}
  },
  {
   "cell_type": "markdown",
   "source": [
    "#### Attempt to test with the same image as tested with the model network, to compare predictions.\n",
    "\n",
    "Careful on the input/output shape. As I didn't specify the model signatures, the converter understood the input shape as [1, 784]\n",
    "\n",
    "Note : the data type 'float32' also come from the signature, and could possibly be changed for optimization. "
   ],
   "metadata": {}
  },
  {
   "cell_type": "code",
   "execution_count": 10,
   "source": [
    "print(input_details)\n",
    "signatures = interpreter.get_signature_list()\n",
    "print('Signatures =>', signatures)"
   ],
   "outputs": [
    {
     "output_type": "stream",
     "name": "stdout",
     "text": [
      "[{'name': 'serving_default_flatten_input:0', 'index': 0, 'shape': array([  1, 784], dtype=int32), 'shape_signature': array([ -1, 784], dtype=int32), 'dtype': <class 'numpy.float32'>, 'quantization': (0.0, 0), 'quantization_parameters': {'scales': array([], dtype=float32), 'zero_points': array([], dtype=int32), 'quantized_dimension': 0}, 'sparsity_parameters': {}}]\n",
      "Signatures => {'serving_default': {'inputs': ['flatten_input'], 'outputs': ['dense_2']}}\n"
     ]
    }
   ],
   "metadata": {}
  },
  {
   "cell_type": "code",
   "execution_count": 11,
   "source": [
    "input_shape = input_details[0]['shape']\n",
    "print(input_shape)\n",
    "\n",
    "# Is set to 0 at the beginning\n",
    "print(interpreter.get_tensor(output_details[0]['index']))\n",
    "\n",
    "test_img = df_test.loc[35008].values # is a 9 \n",
    "input_data = np.array(test_img, dtype=np.float32)\n",
    "interpreter.set_tensor(input_details[0]['index'], input_data.reshape(1,784))\n",
    "\n",
    "interpreter.invoke()\n",
    "\n",
    "output_data = interpreter.get_tensor(output_details[0]['index'])\n",
    "print(output_data) # predicts a 9 too \n"
   ],
   "outputs": [
    {
     "output_type": "stream",
     "name": "stdout",
     "text": [
      "[  1 784]\n",
      "[[nan nan  0.  0.  0.  0. nan nan  0.  0.]]\n",
      "[[0. 0. 0. 0. 0. 0. 0. 0. 0. 1.]]\n"
     ]
    }
   ],
   "metadata": {}
  },
  {
   "cell_type": "markdown",
   "source": [
    "#### Optional : "
   ],
   "metadata": {}
  },
  {
   "cell_type": "code",
   "execution_count": 12,
   "source": [
    "# Deprecated \n",
    "# Is a 'slow' way to invoke the interpreter on every test image and then create a new result list. \n",
    "# Was needed when I didn't know how to change the input shape of the input tensor.\n",
    "litepreds = []\n",
    "for j in range(df_test.shape[0]):\n",
    "    row = df_test.loc[35000+j].values\n",
    "    inputimg = np.array(row, dtype=np.float32)\n",
    "    interpreter.set_tensor(input_details[0]['index'], inputimg.reshape(1,784))\n",
    "    interpreter.invoke()\n",
    "    output_data = interpreter.get_tensor(output_details[0]['index'])\n",
    "    litepreds.append(output_data)\n",
    "\n",
    "print(litepreds[5])\n",
    "print(ypreds[5])\n",
    "truth = np.array(litepreds == ypreds)"
   ],
   "outputs": [
    {
     "output_type": "stream",
     "name": "stdout",
     "text": [
      "[[0. 0. 0. 0. 0. 0. 1. 0. 0. 0.]]\n",
      "[0. 0. 0. 0. 0. 0. 1. 0. 0. 0.]\n"
     ]
    }
   ],
   "metadata": {}
  },
  {
   "cell_type": "code",
   "execution_count": 13,
   "source": [
    "input_details[0]['index']"
   ],
   "outputs": [
    {
     "output_type": "execute_result",
     "data": {
      "text/plain": [
       "0"
      ]
     },
     "metadata": {},
     "execution_count": 13
    }
   ],
   "metadata": {}
  },
  {
   "cell_type": "markdown",
   "source": [
    "#### Now I want to run the inference on the whole trainining set and not just one image at each interpreter 'invoke'.\n",
    "The first step is converting the df to an array of the right data type in order to input it to the tensor"
   ],
   "metadata": {}
  },
  {
   "cell_type": "code",
   "execution_count": 14,
   "source": [
    "testarray = df_test.to_numpy()\n",
    "#np.shape(testarray)\n",
    "testarray = np.array(testarray, dtype=np.float32)"
   ],
   "outputs": [],
   "metadata": {}
  },
  {
   "cell_type": "markdown",
   "source": [
    "Then I run the predictions on the whole set, efter resizing the input tensor, allocating and loading the new 'testarray' into the the input tensor"
   ],
   "metadata": {}
  },
  {
   "cell_type": "code",
   "execution_count": 15,
   "source": [
    "interpreter.resize_tensor_input(input_index = input_details[0]['index'],tensor_size=(7000,784))\n",
    "interpreter.allocate_tensors()\n",
    "\n",
    "interpreter.set_tensor(input_details[0]['index'], testarray)\n",
    "\n",
    "interpreter.invoke()\n",
    "\n",
    "tflite_predictions = interpreter.get_tensor(output_details[0]['index'])"
   ],
   "outputs": [],
   "metadata": {}
  },
  {
   "cell_type": "markdown",
   "source": [
    "#### Results obtained"
   ],
   "metadata": {}
  },
  {
   "cell_type": "code",
   "execution_count": 16,
   "source": [
    "#check\n",
    "np.shape(tflite_predictions)"
   ],
   "outputs": [
    {
     "output_type": "execute_result",
     "data": {
      "text/plain": [
       "(7000, 10)"
      ]
     },
     "metadata": {},
     "execution_count": 16
    }
   ],
   "metadata": {}
  },
  {
   "cell_type": "code",
   "execution_count": 17,
   "source": [
    "a = np.argmax(tflite_predictions, axis=1)\n",
    "b = np.argmax(ypreds, axis=1)\n",
    "\n",
    "# correct labels are on the last column from the df_test2 set, df_test had it dropped for size issues\n",
    "labels = df_test2.iloc[:,0].values"
   ],
   "outputs": [],
   "metadata": {}
  },
  {
   "cell_type": "code",
   "execution_count": 18,
   "source": [
    "assert np.shape(a) == np.shape(b) == (7000,) "
   ],
   "outputs": [],
   "metadata": {}
  },
  {
   "cell_type": "markdown",
   "source": [
    "Accuracy"
   ],
   "metadata": {}
  },
  {
   "cell_type": "code",
   "execution_count": 19,
   "source": [
    "(b==labels).mean()"
   ],
   "outputs": [
    {
     "output_type": "execute_result",
     "data": {
      "text/plain": [
       "0.9694285714285714"
      ]
     },
     "metadata": {},
     "execution_count": 19
    }
   ],
   "metadata": {}
  },
  {
   "cell_type": "markdown",
   "source": [
    "Classical vs lite accuracy, will be 1 if no changes to the data type, meaning we juste have the same model"
   ],
   "metadata": {}
  },
  {
   "cell_type": "code",
   "execution_count": 20,
   "source": [
    "(a==b).mean()"
   ],
   "outputs": [
    {
     "output_type": "execute_result",
     "data": {
      "text/plain": [
       "1.0"
      ]
     },
     "metadata": {},
     "execution_count": 20
    }
   ],
   "metadata": {}
  },
  {
   "cell_type": "code",
   "execution_count": 21,
   "source": [
    "interpreter.tensor(output_details[0]['index'])"
   ],
   "outputs": [
    {
     "output_type": "execute_result",
     "data": {
      "text/plain": [
       "<function tensorflow.lite.python.interpreter.Interpreter.tensor.<locals>.<lambda>()>"
      ]
     },
     "metadata": {},
     "execution_count": 21
    }
   ],
   "metadata": {}
  },
  {
   "cell_type": "markdown",
   "source": [
    "## 3. Quantization\n",
    "Starting with Post-training integer quantization"
   ],
   "metadata": {}
  },
  {
   "cell_type": "code",
   "execution_count": 22,
   "source": [
    "# converter2 = tf.lite.TFLiteConverter.from_keras_model(model1)\n",
    "# converter2.optimizations = [tf.lite.Optimize.DEFAULT]\n",
    "\n",
    "# tflite_model_quant = converter2.convert()"
   ],
   "outputs": [],
   "metadata": {}
  },
  {
   "cell_type": "markdown",
   "source": [
    "The model is now a bit smaller with quantized weights, but other variable data is still in float format.\n",
    "To quantize the variable data (such as model input/output and intermediates between layers), you need to provide a RepresentativeDatase, a generator function that provides a set of input data that's large enough to represent typical values. It allows the converter to estimate a dynamic range for all the variable data. (The dataset does not need to be unique compared to the training or evaluation dataset.) To support multiple inputs, each representative data point is a list and elements in the list are fed to the model according to their indices."
   ],
   "metadata": {}
  },
  {
   "cell_type": "code",
   "execution_count": 53,
   "source": [
    "# Normalize the input image so that each pixel value is between 0 to 1. (was done earlier in the first model fit)\n",
    "df_train2 = df_train.astype(np.float32) / 255.0\n",
    "df_train2 = df_train2.drop('label', axis = 1, errors='ignore')\n",
    "df_train2 = df_train2.astype(np.float32)\n",
    "df_test2 = df_test2.astype(np.float32) / 255.0\n",
    "df_train2.dtypes\n",
    "df_train2"
   ],
   "outputs": [
    {
     "output_type": "execute_result",
     "data": {
      "text/html": [
       "<div>\n",
       "<style scoped>\n",
       "    .dataframe tbody tr th:only-of-type {\n",
       "        vertical-align: middle;\n",
       "    }\n",
       "\n",
       "    .dataframe tbody tr th {\n",
       "        vertical-align: top;\n",
       "    }\n",
       "\n",
       "    .dataframe thead th {\n",
       "        text-align: right;\n",
       "    }\n",
       "</style>\n",
       "<table border=\"1\" class=\"dataframe\">\n",
       "  <thead>\n",
       "    <tr style=\"text-align: right;\">\n",
       "      <th></th>\n",
       "      <th>pixel0</th>\n",
       "      <th>pixel1</th>\n",
       "      <th>pixel2</th>\n",
       "      <th>pixel3</th>\n",
       "      <th>pixel4</th>\n",
       "      <th>pixel5</th>\n",
       "      <th>pixel6</th>\n",
       "      <th>pixel7</th>\n",
       "      <th>pixel8</th>\n",
       "      <th>pixel9</th>\n",
       "      <th>...</th>\n",
       "      <th>pixel774</th>\n",
       "      <th>pixel775</th>\n",
       "      <th>pixel776</th>\n",
       "      <th>pixel777</th>\n",
       "      <th>pixel778</th>\n",
       "      <th>pixel779</th>\n",
       "      <th>pixel780</th>\n",
       "      <th>pixel781</th>\n",
       "      <th>pixel782</th>\n",
       "      <th>pixel783</th>\n",
       "    </tr>\n",
       "  </thead>\n",
       "  <tbody>\n",
       "    <tr>\n",
       "      <th>0</th>\n",
       "      <td>0.0</td>\n",
       "      <td>0.0</td>\n",
       "      <td>0.0</td>\n",
       "      <td>0.0</td>\n",
       "      <td>0.0</td>\n",
       "      <td>0.0</td>\n",
       "      <td>0.0</td>\n",
       "      <td>0.0</td>\n",
       "      <td>0.0</td>\n",
       "      <td>0.0</td>\n",
       "      <td>...</td>\n",
       "      <td>0.0</td>\n",
       "      <td>0.0</td>\n",
       "      <td>0.0</td>\n",
       "      <td>0.0</td>\n",
       "      <td>0.0</td>\n",
       "      <td>0.0</td>\n",
       "      <td>0.0</td>\n",
       "      <td>0.0</td>\n",
       "      <td>0.0</td>\n",
       "      <td>0.0</td>\n",
       "    </tr>\n",
       "    <tr>\n",
       "      <th>1</th>\n",
       "      <td>0.0</td>\n",
       "      <td>0.0</td>\n",
       "      <td>0.0</td>\n",
       "      <td>0.0</td>\n",
       "      <td>0.0</td>\n",
       "      <td>0.0</td>\n",
       "      <td>0.0</td>\n",
       "      <td>0.0</td>\n",
       "      <td>0.0</td>\n",
       "      <td>0.0</td>\n",
       "      <td>...</td>\n",
       "      <td>0.0</td>\n",
       "      <td>0.0</td>\n",
       "      <td>0.0</td>\n",
       "      <td>0.0</td>\n",
       "      <td>0.0</td>\n",
       "      <td>0.0</td>\n",
       "      <td>0.0</td>\n",
       "      <td>0.0</td>\n",
       "      <td>0.0</td>\n",
       "      <td>0.0</td>\n",
       "    </tr>\n",
       "    <tr>\n",
       "      <th>2</th>\n",
       "      <td>0.0</td>\n",
       "      <td>0.0</td>\n",
       "      <td>0.0</td>\n",
       "      <td>0.0</td>\n",
       "      <td>0.0</td>\n",
       "      <td>0.0</td>\n",
       "      <td>0.0</td>\n",
       "      <td>0.0</td>\n",
       "      <td>0.0</td>\n",
       "      <td>0.0</td>\n",
       "      <td>...</td>\n",
       "      <td>0.0</td>\n",
       "      <td>0.0</td>\n",
       "      <td>0.0</td>\n",
       "      <td>0.0</td>\n",
       "      <td>0.0</td>\n",
       "      <td>0.0</td>\n",
       "      <td>0.0</td>\n",
       "      <td>0.0</td>\n",
       "      <td>0.0</td>\n",
       "      <td>0.0</td>\n",
       "    </tr>\n",
       "    <tr>\n",
       "      <th>3</th>\n",
       "      <td>0.0</td>\n",
       "      <td>0.0</td>\n",
       "      <td>0.0</td>\n",
       "      <td>0.0</td>\n",
       "      <td>0.0</td>\n",
       "      <td>0.0</td>\n",
       "      <td>0.0</td>\n",
       "      <td>0.0</td>\n",
       "      <td>0.0</td>\n",
       "      <td>0.0</td>\n",
       "      <td>...</td>\n",
       "      <td>0.0</td>\n",
       "      <td>0.0</td>\n",
       "      <td>0.0</td>\n",
       "      <td>0.0</td>\n",
       "      <td>0.0</td>\n",
       "      <td>0.0</td>\n",
       "      <td>0.0</td>\n",
       "      <td>0.0</td>\n",
       "      <td>0.0</td>\n",
       "      <td>0.0</td>\n",
       "    </tr>\n",
       "    <tr>\n",
       "      <th>4</th>\n",
       "      <td>0.0</td>\n",
       "      <td>0.0</td>\n",
       "      <td>0.0</td>\n",
       "      <td>0.0</td>\n",
       "      <td>0.0</td>\n",
       "      <td>0.0</td>\n",
       "      <td>0.0</td>\n",
       "      <td>0.0</td>\n",
       "      <td>0.0</td>\n",
       "      <td>0.0</td>\n",
       "      <td>...</td>\n",
       "      <td>0.0</td>\n",
       "      <td>0.0</td>\n",
       "      <td>0.0</td>\n",
       "      <td>0.0</td>\n",
       "      <td>0.0</td>\n",
       "      <td>0.0</td>\n",
       "      <td>0.0</td>\n",
       "      <td>0.0</td>\n",
       "      <td>0.0</td>\n",
       "      <td>0.0</td>\n",
       "    </tr>\n",
       "    <tr>\n",
       "      <th>...</th>\n",
       "      <td>...</td>\n",
       "      <td>...</td>\n",
       "      <td>...</td>\n",
       "      <td>...</td>\n",
       "      <td>...</td>\n",
       "      <td>...</td>\n",
       "      <td>...</td>\n",
       "      <td>...</td>\n",
       "      <td>...</td>\n",
       "      <td>...</td>\n",
       "      <td>...</td>\n",
       "      <td>...</td>\n",
       "      <td>...</td>\n",
       "      <td>...</td>\n",
       "      <td>...</td>\n",
       "      <td>...</td>\n",
       "      <td>...</td>\n",
       "      <td>...</td>\n",
       "      <td>...</td>\n",
       "      <td>...</td>\n",
       "      <td>...</td>\n",
       "    </tr>\n",
       "    <tr>\n",
       "      <th>34995</th>\n",
       "      <td>0.0</td>\n",
       "      <td>0.0</td>\n",
       "      <td>0.0</td>\n",
       "      <td>0.0</td>\n",
       "      <td>0.0</td>\n",
       "      <td>0.0</td>\n",
       "      <td>0.0</td>\n",
       "      <td>0.0</td>\n",
       "      <td>0.0</td>\n",
       "      <td>0.0</td>\n",
       "      <td>...</td>\n",
       "      <td>0.0</td>\n",
       "      <td>0.0</td>\n",
       "      <td>0.0</td>\n",
       "      <td>0.0</td>\n",
       "      <td>0.0</td>\n",
       "      <td>0.0</td>\n",
       "      <td>0.0</td>\n",
       "      <td>0.0</td>\n",
       "      <td>0.0</td>\n",
       "      <td>0.0</td>\n",
       "    </tr>\n",
       "    <tr>\n",
       "      <th>34996</th>\n",
       "      <td>0.0</td>\n",
       "      <td>0.0</td>\n",
       "      <td>0.0</td>\n",
       "      <td>0.0</td>\n",
       "      <td>0.0</td>\n",
       "      <td>0.0</td>\n",
       "      <td>0.0</td>\n",
       "      <td>0.0</td>\n",
       "      <td>0.0</td>\n",
       "      <td>0.0</td>\n",
       "      <td>...</td>\n",
       "      <td>0.0</td>\n",
       "      <td>0.0</td>\n",
       "      <td>0.0</td>\n",
       "      <td>0.0</td>\n",
       "      <td>0.0</td>\n",
       "      <td>0.0</td>\n",
       "      <td>0.0</td>\n",
       "      <td>0.0</td>\n",
       "      <td>0.0</td>\n",
       "      <td>0.0</td>\n",
       "    </tr>\n",
       "    <tr>\n",
       "      <th>34997</th>\n",
       "      <td>0.0</td>\n",
       "      <td>0.0</td>\n",
       "      <td>0.0</td>\n",
       "      <td>0.0</td>\n",
       "      <td>0.0</td>\n",
       "      <td>0.0</td>\n",
       "      <td>0.0</td>\n",
       "      <td>0.0</td>\n",
       "      <td>0.0</td>\n",
       "      <td>0.0</td>\n",
       "      <td>...</td>\n",
       "      <td>0.0</td>\n",
       "      <td>0.0</td>\n",
       "      <td>0.0</td>\n",
       "      <td>0.0</td>\n",
       "      <td>0.0</td>\n",
       "      <td>0.0</td>\n",
       "      <td>0.0</td>\n",
       "      <td>0.0</td>\n",
       "      <td>0.0</td>\n",
       "      <td>0.0</td>\n",
       "    </tr>\n",
       "    <tr>\n",
       "      <th>34998</th>\n",
       "      <td>0.0</td>\n",
       "      <td>0.0</td>\n",
       "      <td>0.0</td>\n",
       "      <td>0.0</td>\n",
       "      <td>0.0</td>\n",
       "      <td>0.0</td>\n",
       "      <td>0.0</td>\n",
       "      <td>0.0</td>\n",
       "      <td>0.0</td>\n",
       "      <td>0.0</td>\n",
       "      <td>...</td>\n",
       "      <td>0.0</td>\n",
       "      <td>0.0</td>\n",
       "      <td>0.0</td>\n",
       "      <td>0.0</td>\n",
       "      <td>0.0</td>\n",
       "      <td>0.0</td>\n",
       "      <td>0.0</td>\n",
       "      <td>0.0</td>\n",
       "      <td>0.0</td>\n",
       "      <td>0.0</td>\n",
       "    </tr>\n",
       "    <tr>\n",
       "      <th>34999</th>\n",
       "      <td>0.0</td>\n",
       "      <td>0.0</td>\n",
       "      <td>0.0</td>\n",
       "      <td>0.0</td>\n",
       "      <td>0.0</td>\n",
       "      <td>0.0</td>\n",
       "      <td>0.0</td>\n",
       "      <td>0.0</td>\n",
       "      <td>0.0</td>\n",
       "      <td>0.0</td>\n",
       "      <td>...</td>\n",
       "      <td>0.0</td>\n",
       "      <td>0.0</td>\n",
       "      <td>0.0</td>\n",
       "      <td>0.0</td>\n",
       "      <td>0.0</td>\n",
       "      <td>0.0</td>\n",
       "      <td>0.0</td>\n",
       "      <td>0.0</td>\n",
       "      <td>0.0</td>\n",
       "      <td>0.0</td>\n",
       "    </tr>\n",
       "  </tbody>\n",
       "</table>\n",
       "<p>35000 rows × 784 columns</p>\n",
       "</div>"
      ],
      "text/plain": [
       "       pixel0  pixel1  pixel2  pixel3  pixel4  pixel5  pixel6  pixel7  pixel8  \\\n",
       "0         0.0     0.0     0.0     0.0     0.0     0.0     0.0     0.0     0.0   \n",
       "1         0.0     0.0     0.0     0.0     0.0     0.0     0.0     0.0     0.0   \n",
       "2         0.0     0.0     0.0     0.0     0.0     0.0     0.0     0.0     0.0   \n",
       "3         0.0     0.0     0.0     0.0     0.0     0.0     0.0     0.0     0.0   \n",
       "4         0.0     0.0     0.0     0.0     0.0     0.0     0.0     0.0     0.0   \n",
       "...       ...     ...     ...     ...     ...     ...     ...     ...     ...   \n",
       "34995     0.0     0.0     0.0     0.0     0.0     0.0     0.0     0.0     0.0   \n",
       "34996     0.0     0.0     0.0     0.0     0.0     0.0     0.0     0.0     0.0   \n",
       "34997     0.0     0.0     0.0     0.0     0.0     0.0     0.0     0.0     0.0   \n",
       "34998     0.0     0.0     0.0     0.0     0.0     0.0     0.0     0.0     0.0   \n",
       "34999     0.0     0.0     0.0     0.0     0.0     0.0     0.0     0.0     0.0   \n",
       "\n",
       "       pixel9  ...  pixel774  pixel775  pixel776  pixel777  pixel778  \\\n",
       "0         0.0  ...       0.0       0.0       0.0       0.0       0.0   \n",
       "1         0.0  ...       0.0       0.0       0.0       0.0       0.0   \n",
       "2         0.0  ...       0.0       0.0       0.0       0.0       0.0   \n",
       "3         0.0  ...       0.0       0.0       0.0       0.0       0.0   \n",
       "4         0.0  ...       0.0       0.0       0.0       0.0       0.0   \n",
       "...       ...  ...       ...       ...       ...       ...       ...   \n",
       "34995     0.0  ...       0.0       0.0       0.0       0.0       0.0   \n",
       "34996     0.0  ...       0.0       0.0       0.0       0.0       0.0   \n",
       "34997     0.0  ...       0.0       0.0       0.0       0.0       0.0   \n",
       "34998     0.0  ...       0.0       0.0       0.0       0.0       0.0   \n",
       "34999     0.0  ...       0.0       0.0       0.0       0.0       0.0   \n",
       "\n",
       "       pixel779  pixel780  pixel781  pixel782  pixel783  \n",
       "0           0.0       0.0       0.0       0.0       0.0  \n",
       "1           0.0       0.0       0.0       0.0       0.0  \n",
       "2           0.0       0.0       0.0       0.0       0.0  \n",
       "3           0.0       0.0       0.0       0.0       0.0  \n",
       "4           0.0       0.0       0.0       0.0       0.0  \n",
       "...         ...       ...       ...       ...       ...  \n",
       "34995       0.0       0.0       0.0       0.0       0.0  \n",
       "34996       0.0       0.0       0.0       0.0       0.0  \n",
       "34997       0.0       0.0       0.0       0.0       0.0  \n",
       "34998       0.0       0.0       0.0       0.0       0.0  \n",
       "34999       0.0       0.0       0.0       0.0       0.0  \n",
       "\n",
       "[35000 rows x 784 columns]"
      ]
     },
     "metadata": {},
     "execution_count": 53
    }
   ],
   "metadata": {}
  },
  {
   "cell_type": "code",
   "execution_count": 72,
   "source": [
    "dato = tf.data.Dataset.from_tensor_slices(df_train2).batch(1).take(100)\n",
    "print(dato)"
   ],
   "outputs": [
    {
     "output_type": "stream",
     "name": "stdout",
     "text": [
      "<TakeDataset shapes: (None, 784), types: tf.float32>\n"
     ]
    }
   ],
   "metadata": {}
  },
  {
   "cell_type": "code",
   "execution_count": 75,
   "source": [
    "def representative_data_gen():\n",
    "  for input_value in tf.data.Dataset.from_tensor_slices(df_train2).batch(1).take(1000):\n",
    "    yield [input_value]\n",
    "\n",
    "converter2 = tf.lite.TFLiteConverter.from_keras_model(model1)\n",
    "converter2.target_spec.supported_ops = [\n",
    "    tf.lite.OpsSet.TFLITE_BUILTINS,  # enable TensorFlow Lite ops.\n",
    "    tf.lite.OpsSet.SELECT_TF_OPS  # enable TensorFlow ops.\n",
    "]\n",
    "converter2.optimizations = [tf.lite.Optimize.DEFAULT]\n",
    "converter2.representative_dataset = representative_data_gen\n",
    "\n",
    "# Ensure that if any ops can't be quantized, the converter throws an error\n",
    "converter2.target_spec.supported_ops = [tf.lite.OpsSet.TFLITE_BUILTINS_INT8]\n",
    "# Set the input and output tensors to uint8 \n",
    "converter2.inference_input_type = tf.uint8\n",
    "converter2.inference_output_type = tf.uint8\n",
    "\n",
    "tflite_model_quant = converter2.convert()"
   ],
   "outputs": [
    {
     "output_type": "stream",
     "name": "stdout",
     "text": [
      "INFO:tensorflow:Assets written to: /var/folders/pj/_64wh_0d44z5f2y6mk2zml0w0000gn/T/tmpwdupgfqf/assets\n"
     ]
    },
    {
     "output_type": "stream",
     "name": "stderr",
     "text": [
      "INFO:tensorflow:Assets written to: /var/folders/pj/_64wh_0d44z5f2y6mk2zml0w0000gn/T/tmpwdupgfqf/assets\n",
      "WARNING:absl:For model inputs containing unsupported operations which cannot be quantized, the `inference_input_type` attribute will default to the original type.\n"
     ]
    }
   ],
   "metadata": {}
  },
  {
   "cell_type": "code",
   "execution_count": 76,
   "source": [
    "# Interpretre2\n",
    "interpreter2 = tf.lite.Interpreter(model_content=tflite_model_quant)\n",
    "input_type_q = interpreter2.get_input_details()[0]['dtype']\n",
    "print('input: ', input_type_q)\n",
    "output_type_q = interpreter2.get_output_details()[0]['dtype']\n",
    "print('output: ', output_type_q)"
   ],
   "outputs": [
    {
     "output_type": "stream",
     "name": "stdout",
     "text": [
      "input:  <class 'numpy.uint8'>\n",
      "output:  <class 'numpy.uint8'>\n"
     ]
    }
   ],
   "metadata": {}
  },
  {
   "cell_type": "code",
   "execution_count": 78,
   "source": [
    "signatures_q = interpreter2.get_signature_list()\n",
    "print(signatures_q)"
   ],
   "outputs": [
    {
     "output_type": "stream",
     "name": "stdout",
     "text": [
      "{}\n"
     ]
    }
   ],
   "metadata": {}
  },
  {
   "cell_type": "code",
   "execution_count": 80,
   "source": [
    "interpreter2.allocate_tensors()\n",
    "input_details_q = interpreter2.get_input_details()[0]\n",
    "output_details_q = interpreter2.get_output_details()[0]\n",
    "\n",
    "input_details_q # we can see the dtype changed to uint8 and the quantization parameters and settings\n",
    "output_details_q # ??? why is the index 14 "
   ],
   "outputs": [
    {
     "output_type": "execute_result",
     "data": {
      "text/plain": [
       "{'name': 'Identity',\n",
       " 'index': 14,\n",
       " 'shape': array([ 1, 10], dtype=int32),\n",
       " 'shape_signature': array([-1, 10], dtype=int32),\n",
       " 'dtype': numpy.uint8,\n",
       " 'quantization': (0.00390625, 0),\n",
       " 'quantization_parameters': {'scales': array([0.00390625], dtype=float32),\n",
       "  'zero_points': array([0], dtype=int32),\n",
       "  'quantized_dimension': 0},\n",
       " 'sparsity_parameters': {}}"
      ]
     },
     "metadata": {},
     "execution_count": 80
    }
   ],
   "metadata": {}
  },
  {
   "cell_type": "code",
   "execution_count": 81,
   "source": [
    "testarray2 = df_test.to_numpy()\n",
    "#np.shape(testarray)\n",
    "testarray2 = np.array(testarray2, dtype=np.uint8)"
   ],
   "outputs": [],
   "metadata": {}
  },
  {
   "cell_type": "code",
   "execution_count": 82,
   "source": [
    "#output_details_q"
   ],
   "outputs": [],
   "metadata": {}
  },
  {
   "cell_type": "code",
   "execution_count": 83,
   "source": [
    "np.shape(testarray2)\n",
    "#testarray2[0]\n",
    "#testarray[0]"
   ],
   "outputs": [
    {
     "output_type": "execute_result",
     "data": {
      "text/plain": [
       "(7000, 784)"
      ]
     },
     "metadata": {},
     "execution_count": 83
    }
   ],
   "metadata": {}
  },
  {
   "cell_type": "code",
   "execution_count": 84,
   "source": [
    "if input_details_q['dtype'] == np.uint8:\n",
    "    input_scale, input_zero_point = input_details_q[\"quantization\"]\n",
    "    test_img1 =  testarray2[5]\n",
    "    test_img1 = test_img1 / input_scale + input_zero_point\n",
    "testarray2 = testarray2 / input_scale\n",
    "testarray2 = testarray2 + input_zero_point"
   ],
   "outputs": [],
   "metadata": {}
  },
  {
   "cell_type": "code",
   "execution_count": 85,
   "source": [
    "#interpreter2.resize_tensor_input(input_index = input_details_q[0]['index'],tensor_size=(7000,784))\n",
    "interpreter2.allocate_tensors()\n",
    "\n",
    "test_img1 = test_img1.astype(input_details_q[\"dtype\"])\n",
    "interpreter2.set_tensor(0, test_img1.reshape(1,784))\n",
    "\n",
    "interpreter2.invoke()\n",
    "\n",
    "tflite_predictions_quant = interpreter2.get_tensor(14)"
   ],
   "outputs": [],
   "metadata": {}
  },
  {
   "cell_type": "code",
   "execution_count": 33,
   "source": [
    "#test_img1\n",
    "#testarray2[5]"
   ],
   "outputs": [],
   "metadata": {}
  },
  {
   "cell_type": "code",
   "execution_count": 86,
   "source": [
    "testarray0 = testarray2[5]\n",
    "testarray0 = testarray0.reshape(28,28)\n",
    "test_img1 = test_img1.reshape(28,28)\n",
    "plt.imshow(testarray0)\n",
    "#plt.imshow(test_img1)"
   ],
   "outputs": [
    {
     "output_type": "execute_result",
     "data": {
      "text/plain": [
       "<matplotlib.image.AxesImage at 0x7ff84a831250>"
      ]
     },
     "metadata": {},
     "execution_count": 86
    },
    {
     "output_type": "display_data",
     "data": {
      "image/png": "[encoded data removed]",
      "text/plain": [
       "<Figure size 432x288 with 1 Axes>"
      ]
     },
     "metadata": {
      "needs_background": "light"
     }
    }
   ],
   "metadata": {}
  },
  {
   "cell_type": "code",
   "execution_count": 87,
   "source": [
    "plt.imshow(test_img1)"
   ],
   "outputs": [
    {
     "output_type": "execute_result",
     "data": {
      "text/plain": [
       "<matplotlib.image.AxesImage at 0x7ff84a844e20>"
      ]
     },
     "metadata": {},
     "execution_count": 87
    },
    {
     "output_type": "display_data",
     "data": {
      "image/png": "[encoded data removed]",
      "text/plain": [
       "<Figure size 432x288 with 1 Axes>"
      ]
     },
     "metadata": {
      "needs_background": "light"
     }
    }
   ],
   "metadata": {}
  },
  {
   "cell_type": "code",
   "execution_count": 90,
   "source": [
    "print(np.shape(tflite_predictions_quant))\n",
    "tflite_predictions_quant"
   ],
   "outputs": [
    {
     "output_type": "stream",
     "name": "stdout",
     "text": [
      "(1, 10)\n"
     ]
    },
    {
     "output_type": "execute_result",
     "data": {
      "text/plain": [
       "array([[  6,  19, 124,  27,  13,  27,  37,   1,   2,   1]], dtype=uint8)"
      ]
     },
     "metadata": {},
     "execution_count": 90
    }
   ],
   "metadata": {}
  },
  {
   "cell_type": "code",
   "execution_count": 91,
   "source": [
    "pred = np.argmax(tflite_predictions_quant)\n",
    "pred"
   ],
   "outputs": [
    {
     "output_type": "execute_result",
     "data": {
      "text/plain": [
       "2"
      ]
     },
     "metadata": {},
     "execution_count": 91
    }
   ],
   "metadata": {}
  },
  {
   "cell_type": "code",
   "execution_count": 92,
   "source": [
    "# Whole test\n",
    "testarray2 = np.array(testarray2, dtype=np.uint8)\n",
    "interpreter2.resize_tensor_input(input_details[0]['index'],tensor_size=(7000,784))\n",
    "interpreter2.allocate_tensors()\n",
    "\n",
    "interpreter2.set_tensor(input_details[0]['index'], testarray2)\n",
    "\n",
    "interpreter2.invoke()\n",
    "\n",
    "tflite_predictions_quant2 = interpreter2.get_tensor(output_details[0]['index'])\n"
   ],
   "outputs": [],
   "metadata": {}
  },
  {
   "cell_type": "code",
   "execution_count": 93,
   "source": [
    "c = np.argmax(tflite_predictions_quant2, axis=1)\n",
    "assert np.shape(a) == np.shape(b) == (7000,) \n",
    "\n",
    "\n",
    "print('Quantized model accuracy :',(c==labels).mean() )\n",
    "print('Classic model accuracy:', (b==labels).mean() )"
   ],
   "outputs": [
    {
     "output_type": "stream",
     "name": "stdout",
     "text": [
      "Quantized model accuracy : 0.23157142857142857\n",
      "Classic model accuracy: 0.9694285714285714\n"
     ]
    }
   ],
   "metadata": {}
  },
  {
   "cell_type": "code",
   "execution_count": 50,
   "source": [
    "np.shape(tflite_predictions_quant2)"
   ],
   "outputs": [
    {
     "output_type": "execute_result",
     "data": {
      "text/plain": [
       "(7000, 10)"
      ]
     },
     "metadata": {},
     "execution_count": 50
    }
   ],
   "metadata": {}
  },
  {
   "cell_type": "markdown",
   "source": [],
   "metadata": {}
  }
 ],
 "metadata": {
  "kernelspec": {
   "name": "python3",
   "display_name": "Python 3.8.8 64-bit ('base': conda)"
  },
  "language_info": {
   "codemirror_mode": {
    "name": "ipython",
    "version": 3
   },
   "file_extension": ".py",
   "mimetype": "text/x-python",
   "name": "python",
   "nbconvert_exporter": "python",
   "pygments_lexer": "ipython3",
   "version": "3.8.8"
  },
  "interpreter": {
   "hash": "dca0ade3e726a953b501b15e8e990130d2b7799f14cfd9f4271676035ebe5511"
  }
 },
 "nbformat": 4,
 "nbformat_minor": 5
}