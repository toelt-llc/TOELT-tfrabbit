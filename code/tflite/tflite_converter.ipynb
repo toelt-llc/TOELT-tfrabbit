{
 "cells": [
  {
   "cell_type": "markdown",
   "source": [
    "# Tensorflow to Tensorflow Lite"
   ],
   "metadata": {}
  },
  {
   "cell_type": "markdown",
   "source": [
    "In this notebook, I try to create a simple image recognition network in order to then covert it to TF Lite to compare results.\n",
    "The original network is tested and saved, with tf.saved_model.save. It is recommended to use this rather than the Keras API when trying to convert the model to TF Lite.\n",
    "So far, the model is very accurate in the classical version, it works and predicts with the Lite version too. \n",
    "\n",
    "\n",
    "Currently it uses a loop to predict the every img of the test set 1 by 1, there must be a more efficient way to do so."
   ],
   "metadata": {}
  },
  {
   "cell_type": "markdown",
   "source": [
    "## 1. Tensorflow normal model"
   ],
   "metadata": {}
  },
  {
   "cell_type": "code",
   "execution_count": 109,
   "source": [
    "import pandas as pd\n",
    "import matplotlib.pyplot as plt\n",
    "import tensorflow as tf\n",
    "import numpy as np\n",
    "import time\n",
    "\n",
    "from keras.models import Sequential\n",
    "from keras.layers import Dense, Flatten"
   ],
   "outputs": [],
   "metadata": {}
  },
  {
   "cell_type": "markdown",
   "source": [
    "#### Model definition"
   ],
   "metadata": {}
  },
  {
   "cell_type": "code",
   "execution_count": 110,
   "source": [
    "model1 = Sequential([\n",
    "    Flatten(input_shape=(784,)),\n",
    "    Dense(320, activation='relu'),\n",
    "    Dense(160, activation='relu'),\n",
    "    Dense(10, activation='softmax')\n",
    "])\n",
    "\n",
    "optimizer = tf.keras.optimizers.Adam()\n",
    "model1.compile(loss = 'sparse_categorical_crossentropy',\n",
    "                optimizer = 'sgd',\n",
    "                metrics = 'acc')\n",
    "\n"
   ],
   "outputs": [],
   "metadata": {}
  },
  {
   "cell_type": "markdown",
   "source": [
    "#### Data "
   ],
   "metadata": {}
  },
  {
   "cell_type": "code",
   "execution_count": 111,
   "source": [
    "df = pd.read_csv('./mnist_data/train.csv')\n",
    "df_train = df.iloc[:35000] # 35000/42000\n",
    "df_test2 = df.iloc[35000:] # the 7000 left\n",
    "df_test= df_test2.drop('label', axis = 1)\n",
    "\n",
    "# Has the label column\n",
    "print('test shape : ', df_test.shape)\n",
    "\n",
    "\n",
    "X = df_train.drop('label', axis = 1)\n",
    "X /= 255.0 # Normalize\n",
    "#print(X.loc[0].shape)\n",
    "\n",
    "# Label of all the images\n",
    "y = df_train['label']"
   ],
   "outputs": [
    {
     "output_type": "stream",
     "name": "stdout",
     "text": [
      "test shape :  (7000, 784)\n"
     ]
    }
   ],
   "metadata": {}
  },
  {
   "cell_type": "markdown",
   "source": [
    "#### Model fit"
   ],
   "metadata": {}
  },
  {
   "cell_type": "code",
   "execution_count": 112,
   "source": [
    "# The nb of epochs doesn't matter much at the moment, at 30 accuracy is at 99% \n",
    "model1.fit(X, y, epochs=30)\n"
   ],
   "outputs": [
    {
     "output_type": "stream",
     "name": "stdout",
     "text": [
      "Epoch 1/30\n",
      "1094/1094 [==============================] - 2s 2ms/step - loss: 0.7285 - acc: 0.8231\n",
      "Epoch 2/30\n",
      "1094/1094 [==============================] - 2s 1ms/step - loss: 0.3280 - acc: 0.9067\n",
      "Epoch 3/30\n",
      "1094/1094 [==============================] - 2s 1ms/step - loss: 0.2738 - acc: 0.9215\n",
      "Epoch 4/30\n",
      "1094/1094 [==============================] - 2s 1ms/step - loss: 0.2400 - acc: 0.9324\n",
      "Epoch 5/30\n",
      "1094/1094 [==============================] - 2s 1ms/step - loss: 0.2142 - acc: 0.9389\n",
      "Epoch 6/30\n",
      "1094/1094 [==============================] - 2s 1ms/step - loss: 0.1933 - acc: 0.9452\n",
      "Epoch 7/30\n",
      "1094/1094 [==============================] - 2s 1ms/step - loss: 0.1755 - acc: 0.9495\n",
      "Epoch 8/30\n",
      "1094/1094 [==============================] - 2s 1ms/step - loss: 0.1609 - acc: 0.9541\n",
      "Epoch 9/30\n",
      "1094/1094 [==============================] - 2s 2ms/step - loss: 0.1480 - acc: 0.9591\n",
      "Epoch 10/30\n",
      "1094/1094 [==============================] - 2s 2ms/step - loss: 0.1363 - acc: 0.9619\n",
      "Epoch 11/30\n",
      "1094/1094 [==============================] - 2s 2ms/step - loss: 0.1266 - acc: 0.9654\n",
      "Epoch 12/30\n",
      "1094/1094 [==============================] - 2s 2ms/step - loss: 0.1180 - acc: 0.9674\n",
      "Epoch 13/30\n",
      "1094/1094 [==============================] - 2s 2ms/step - loss: 0.1098 - acc: 0.9702\n",
      "Epoch 14/30\n",
      "1094/1094 [==============================] - 3s 2ms/step - loss: 0.1029 - acc: 0.9724\n",
      "Epoch 15/30\n",
      "1094/1094 [==============================] - 2s 2ms/step - loss: 0.0964 - acc: 0.9746\n",
      "Epoch 16/30\n",
      "1094/1094 [==============================] - 2s 2ms/step - loss: 0.0901 - acc: 0.9764\n",
      "Epoch 17/30\n",
      "1094/1094 [==============================] - 2s 2ms/step - loss: 0.0843 - acc: 0.9783\n",
      "Epoch 18/30\n",
      "1094/1094 [==============================] - 2s 2ms/step - loss: 0.0798 - acc: 0.9787\n",
      "Epoch 19/30\n",
      "1094/1094 [==============================] - 2s 2ms/step - loss: 0.0751 - acc: 0.9809\n",
      "Epoch 20/30\n",
      "1094/1094 [==============================] - 2s 2ms/step - loss: 0.0708 - acc: 0.9809\n",
      "Epoch 21/30\n",
      "1094/1094 [==============================] - 2s 2ms/step - loss: 0.0668 - acc: 0.9824\n",
      "Epoch 22/30\n",
      "1094/1094 [==============================] - 2s 2ms/step - loss: 0.0633 - acc: 0.9833\n",
      "Epoch 23/30\n",
      "1094/1094 [==============================] - 2s 1ms/step - loss: 0.0594 - acc: 0.9848\n",
      "Epoch 24/30\n",
      "1094/1094 [==============================] - 2s 2ms/step - loss: 0.0567 - acc: 0.9858\n",
      "Epoch 25/30\n",
      "1094/1094 [==============================] - 2s 2ms/step - loss: 0.0535 - acc: 0.9866\n",
      "Epoch 26/30\n",
      "1094/1094 [==============================] - 2s 2ms/step - loss: 0.0508 - acc: 0.9871\n",
      "Epoch 27/30\n",
      "1094/1094 [==============================] - 2s 2ms/step - loss: 0.0480 - acc: 0.9884\n",
      "Epoch 28/30\n",
      "1094/1094 [==============================] - 2s 2ms/step - loss: 0.0456 - acc: 0.9889\n",
      "Epoch 29/30\n",
      "1094/1094 [==============================] - 2s 2ms/step - loss: 0.0430 - acc: 0.9896\n",
      "Epoch 30/30\n",
      "1094/1094 [==============================] - 2s 2ms/step - loss: 0.0412 - acc: 0.9904\n"
     ]
    },
    {
     "output_type": "execute_result",
     "data": {
      "text/plain": [
       "<keras.callbacks.History at 0x7f8a19412730>"
      ]
     },
     "metadata": {},
     "execution_count": 112
    }
   ],
   "metadata": {}
  },
  {
   "cell_type": "code",
   "execution_count": 113,
   "source": [
    "ypreds = model1.predict(df_test)\n",
    "print('ypreds shape :', ypreds.shape)\n",
    "# ypreds is the prediction result over the test set, using the model1 (normal TF)\n",
    "# in one-hot format\n",
    "ypreds"
   ],
   "outputs": [
    {
     "output_type": "stream",
     "name": "stdout",
     "text": [
      "ypreds shape : (7000, 10)\n"
     ]
    },
    {
     "output_type": "execute_result",
     "data": {
      "text/plain": [
       "array([[0., 0., 1., ..., 0., 0., 0.],\n",
       "       [0., 0., 1., ..., 0., 0., 0.],\n",
       "       [0., 0., 0., ..., 0., 0., 0.],\n",
       "       ...,\n",
       "       [0., 0., 0., ..., 1., 0., 0.],\n",
       "       [0., 0., 0., ..., 0., 0., 0.],\n",
       "       [0., 0., 0., ..., 0., 0., 1.]], dtype=float32)"
      ]
     },
     "metadata": {},
     "execution_count": 113
    }
   ],
   "metadata": {}
  },
  {
   "cell_type": "markdown",
   "source": [
    "#### Example plot/verification"
   ],
   "metadata": {}
  },
  {
   "cell_type": "code",
   "execution_count": 114,
   "source": [
    "number = df_test.loc[35002].values\n",
    "number = number.reshape(28,28)\n",
    "plt.imshow(number)\n",
    "# a way of returning the only 1 in the 0s array : np.argsort(ypreds[2])[9]\n",
    "# a much better way\n",
    "np.argmax(ypreds[2])\n",
    "# the prediction is correct"
   ],
   "outputs": [
    {
     "output_type": "execute_result",
     "data": {
      "text/plain": [
       "5"
      ]
     },
     "metadata": {},
     "execution_count": 114
    },
    {
     "output_type": "display_data",
     "data": {
      "image/png": "[encoded data removed]",
      "image/svg+xml": "<?xml version=\"1.0\" encoding=\"utf-8\" standalone=\"no\"?>\n<!DOCTYPE svg PUBLIC \"-//W3C//DTD SVG 1.1//EN\"\n  \"http://www.w3.org/Graphics/SVG/1.1/DTD/svg11.dtd\">\n<!-- Created with matplotlib (https://matplotlib.org/) -->\n<svg height=\"248.518125pt\" version=\"1.1\" viewBox=\"0 0 251.565 248.518125\" width=\"251.565pt\" xmlns=\"http://www.w3.org/2000/svg\" xmlns:xlink=\"http://www.w3.org/1999/xlink\">\n <metadata>\n  <rdf:RDF xmlns:cc=\"http://creativecommons.org/ns#\" xmlns:dc=\"http://purl.org/dc/elements/1.1/\" xmlns:rdf=\"http://www.w3.org/1999/02/22-rdf-syntax-ns#\">\n   <cc:Work>\n    <dc:type rdf:resource=\"http://purl.org/dc/dcmitype/StillImage\"/>\n    <dc:date>2021-09-03T15:04:42.881944</dc:date>\n    <dc:format>image/svg+xml</dc:format>\n    <dc:creator>\n     <cc:Agent>\n      <dc:title>Matplotlib v3.3.4, https://matplotlib.org/</dc:title>\n     </cc:Agent>\n    </dc:creator>\n   </cc:Work>\n  </rdf:RDF>\n </metadata>\n <defs>\n  <style type=\"text/css\">*{stroke-linecap:butt;stroke-linejoin:round;}</style>\n </defs>\n <g id=\"figure_1\">\n  <g id=\"patch_1\">\n   <path d=\"M 0 248.518125 \nL 251.565 248.518125 \nL 251.565 0 \nL 0 0 \nz\n\" style=\"fill:none;\"/>\n  </g>\n  <g id=\"axes_1\">\n   <g id=\"patch_2\">\n    <path d=\"M 26.925 224.64 \nL 244.365 224.64 \nL 244.365 7.2 \nL 26.925 7.2 \nz\n\" style=\"fill:#ffffff;\"/>\n   </g>\n   <g clip-path=\"url(#pcd98064436)\">\n    <image height=\"218\" id=\"image61db5670a6\" transform=\"scale(1 -1)translate(0 -218)\" width=\"218\" x=\"26.925\" xlink:href=\"data:image/png;base64,\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\" y=\"-6.64\"/>\n   </g>\n   <g id=\"matplotlib.axis_1\">\n    <g id=\"xtick_1\">\n     <g id=\"line2d_1\">\n      <defs>\n       <path d=\"M 0 0 \nL 0 3.5 \n\" id=\"m577e7df8b4\" style=\"stroke:#000000;stroke-width:0.8;\"/>\n      </defs>\n      <g>\n       <use style=\"stroke:#000000;stroke-width:0.8;\" x=\"30.807857\" xlink:href=\"#m577e7df8b4\" y=\"224.64\"/>\n      </g>\n     </g>\n     <g id=\"text_1\">\n      <!-- 0 -->\n      <g transform=\"translate(27.626607 239.238437)scale(0.1 -0.1)\">\n       <defs>\n        <path d=\"M 31.78125 66.40625 \nQ 24.171875 66.40625 20.328125 58.90625 \nQ 16.5 51.421875 16.5 36.375 \nQ 16.5 21.390625 20.328125 13.890625 \nQ 24.171875 6.390625 31.78125 6.390625 \nQ 39.453125 6.390625 43.28125 13.890625 \nQ 47.125 21.390625 47.125 36.375 \nQ 47.125 51.421875 43.28125 58.90625 \nQ 39.453125 66.40625 31.78125 66.40625 \nz\nM 31.78125 74.21875 \nQ 44.046875 74.21875 50.515625 64.515625 \nQ 56.984375 54.828125 56.984375 36.375 \nQ 56.984375 17.96875 50.515625 8.265625 \nQ 44.046875 -1.421875 31.78125 -1.421875 \nQ 19.53125 -1.421875 13.0625 8.265625 \nQ 6.59375 17.96875 6.59375 36.375 \nQ 6.59375 54.828125 13.0625 64.515625 \nQ 19.53125 74.21875 31.78125 74.21875 \nz\n\" id=\"DejaVuSans-48\"/>\n       </defs>\n       <use xlink:href=\"#DejaVuSans-48\"/>\n      </g>\n     </g>\n    </g>\n    <g id=\"xtick_2\">\n     <g id=\"line2d_2\">\n      <g>\n       <use style=\"stroke:#000000;stroke-width:0.8;\" x=\"69.636429\" xlink:href=\"#m577e7df8b4\" y=\"224.64\"/>\n      </g>\n     </g>\n     <g id=\"text_2\">\n      <!-- 5 -->\n      <g transform=\"translate(66.455179 239.238437)scale(0.1 -0.1)\">\n       <defs>\n        <path d=\"M 10.796875 72.90625 \nL 49.515625 72.90625 \nL 49.515625 64.59375 \nL 19.828125 64.59375 \nL 19.828125 46.734375 \nQ 21.96875 47.46875 24.109375 47.828125 \nQ 26.265625 48.1875 28.421875 48.1875 \nQ 40.625 48.1875 47.75 41.5 \nQ 54.890625 34.8125 54.890625 23.390625 \nQ 54.890625 11.625 47.5625 5.09375 \nQ 40.234375 -1.421875 26.90625 -1.421875 \nQ 22.3125 -1.421875 17.546875 -0.640625 \nQ 12.796875 0.140625 7.71875 1.703125 \nL 7.71875 11.625 \nQ 12.109375 9.234375 16.796875 8.0625 \nQ 21.484375 6.890625 26.703125 6.890625 \nQ 35.15625 6.890625 40.078125 11.328125 \nQ 45.015625 15.765625 45.015625 23.390625 \nQ 45.015625 31 40.078125 35.4375 \nQ 35.15625 39.890625 26.703125 39.890625 \nQ 22.75 39.890625 18.8125 39.015625 \nQ 14.890625 38.140625 10.796875 36.28125 \nz\n\" id=\"DejaVuSans-53\"/>\n       </defs>\n       <use xlink:href=\"#DejaVuSans-53\"/>\n      </g>\n     </g>\n    </g>\n    <g id=\"xtick_3\">\n     <g id=\"line2d_3\">\n      <g>\n       <use style=\"stroke:#000000;stroke-width:0.8;\" x=\"108.465\" xlink:href=\"#m577e7df8b4\" y=\"224.64\"/>\n      </g>\n     </g>\n     <g id=\"text_3\">\n      <!-- 10 -->\n      <g transform=\"translate(102.1025 239.238437)scale(0.1 -0.1)\">\n       <defs>\n        <path d=\"M 12.40625 8.296875 \nL 28.515625 8.296875 \nL 28.515625 63.921875 \nL 10.984375 60.40625 \nL 10.984375 69.390625 \nL 28.421875 72.90625 \nL 38.28125 72.90625 \nL 38.28125 8.296875 \nL 54.390625 8.296875 \nL 54.390625 0 \nL 12.40625 0 \nz\n\" id=\"DejaVuSans-49\"/>\n       </defs>\n       <use xlink:href=\"#DejaVuSans-49\"/>\n       <use x=\"63.623047\" xlink:href=\"#DejaVuSans-48\"/>\n      </g>\n     </g>\n    </g>\n    <g id=\"xtick_4\">\n     <g id=\"line2d_4\">\n      <g>\n       <use style=\"stroke:#000000;stroke-width:0.8;\" x=\"147.293571\" xlink:href=\"#m577e7df8b4\" y=\"224.64\"/>\n      </g>\n     </g>\n     <g id=\"text_4\">\n      <!-- 15 -->\n      <g transform=\"translate(140.931071 239.238437)scale(0.1 -0.1)\">\n       <use xlink:href=\"#DejaVuSans-49\"/>\n       <use x=\"63.623047\" xlink:href=\"#DejaVuSans-53\"/>\n      </g>\n     </g>\n    </g>\n    <g id=\"xtick_5\">\n     <g id=\"line2d_5\">\n      <g>\n       <use style=\"stroke:#000000;stroke-width:0.8;\" x=\"186.122143\" xlink:href=\"#m577e7df8b4\" y=\"224.64\"/>\n      </g>\n     </g>\n     <g id=\"text_5\">\n      <!-- 20 -->\n      <g transform=\"translate(179.759643 239.238437)scale(0.1 -0.1)\">\n       <defs>\n        <path d=\"M 19.1875 8.296875 \nL 53.609375 8.296875 \nL 53.609375 0 \nL 7.328125 0 \nL 7.328125 8.296875 \nQ 12.9375 14.109375 22.625 23.890625 \nQ 32.328125 33.6875 34.8125 36.53125 \nQ 39.546875 41.84375 41.421875 45.53125 \nQ 43.3125 49.21875 43.3125 52.78125 \nQ 43.3125 58.59375 39.234375 62.25 \nQ 35.15625 65.921875 28.609375 65.921875 \nQ 23.96875 65.921875 18.8125 64.3125 \nQ 13.671875 62.703125 7.8125 59.421875 \nL 7.8125 69.390625 \nQ 13.765625 71.78125 18.9375 73 \nQ 24.125 74.21875 28.421875 74.21875 \nQ 39.75 74.21875 46.484375 68.546875 \nQ 53.21875 62.890625 53.21875 53.421875 \nQ 53.21875 48.921875 51.53125 44.890625 \nQ 49.859375 40.875 45.40625 35.40625 \nQ 44.1875 33.984375 37.640625 27.21875 \nQ 31.109375 20.453125 19.1875 8.296875 \nz\n\" id=\"DejaVuSans-50\"/>\n       </defs>\n       <use xlink:href=\"#DejaVuSans-50\"/>\n       <use x=\"63.623047\" xlink:href=\"#DejaVuSans-48\"/>\n      </g>\n     </g>\n    </g>\n    <g id=\"xtick_6\">\n     <g id=\"line2d_6\">\n      <g>\n       <use style=\"stroke:#000000;stroke-width:0.8;\" x=\"224.950714\" xlink:href=\"#m577e7df8b4\" y=\"224.64\"/>\n      </g>\n     </g>\n     <g id=\"text_6\">\n      <!-- 25 -->\n      <g transform=\"translate(218.588214 239.238437)scale(0.1 -0.1)\">\n       <use xlink:href=\"#DejaVuSans-50\"/>\n       <use x=\"63.623047\" xlink:href=\"#DejaVuSans-53\"/>\n      </g>\n     </g>\n    </g>\n   </g>\n   <g id=\"matplotlib.axis_2\">\n    <g id=\"ytick_1\">\n     <g id=\"line2d_7\">\n      <defs>\n       <path d=\"M 0 0 \nL -3.5 0 \n\" id=\"m42cc048d74\" style=\"stroke:#000000;stroke-width:0.8;\"/>\n      </defs>\n      <g>\n       <use style=\"stroke:#000000;stroke-width:0.8;\" x=\"26.925\" xlink:href=\"#m42cc048d74\" y=\"11.082857\"/>\n      </g>\n     </g>\n     <g id=\"text_7\">\n      <!-- 0 -->\n      <g transform=\"translate(13.5625 14.882076)scale(0.1 -0.1)\">\n       <use xlink:href=\"#DejaVuSans-48\"/>\n      </g>\n     </g>\n    </g>\n    <g id=\"ytick_2\">\n     <g id=\"line2d_8\">\n      <g>\n       <use style=\"stroke:#000000;stroke-width:0.8;\" x=\"26.925\" xlink:href=\"#m42cc048d74\" y=\"49.911429\"/>\n      </g>\n     </g>\n     <g id=\"text_8\">\n      <!-- 5 -->\n      <g transform=\"translate(13.5625 53.710647)scale(0.1 -0.1)\">\n       <use xlink:href=\"#DejaVuSans-53\"/>\n      </g>\n     </g>\n    </g>\n    <g id=\"ytick_3\">\n     <g id=\"line2d_9\">\n      <g>\n       <use style=\"stroke:#000000;stroke-width:0.8;\" x=\"26.925\" xlink:href=\"#m42cc048d74\" y=\"88.74\"/>\n      </g>\n     </g>\n     <g id=\"text_9\">\n      <!-- 10 -->\n      <g transform=\"translate(7.2 92.539219)scale(0.1 -0.1)\">\n       <use xlink:href=\"#DejaVuSans-49\"/>\n       <use x=\"63.623047\" xlink:href=\"#DejaVuSans-48\"/>\n      </g>\n     </g>\n    </g>\n    <g id=\"ytick_4\">\n     <g id=\"line2d_10\">\n      <g>\n       <use style=\"stroke:#000000;stroke-width:0.8;\" x=\"26.925\" xlink:href=\"#m42cc048d74\" y=\"127.568571\"/>\n      </g>\n     </g>\n     <g id=\"text_10\">\n      <!-- 15 -->\n      <g transform=\"translate(7.2 131.36779)scale(0.1 -0.1)\">\n       <use xlink:href=\"#DejaVuSans-49\"/>\n       <use x=\"63.623047\" xlink:href=\"#DejaVuSans-53\"/>\n      </g>\n     </g>\n    </g>\n    <g id=\"ytick_5\">\n     <g id=\"line2d_11\">\n      <g>\n       <use style=\"stroke:#000000;stroke-width:0.8;\" x=\"26.925\" xlink:href=\"#m42cc048d74\" y=\"166.397143\"/>\n      </g>\n     </g>\n     <g id=\"text_11\">\n      <!-- 20 -->\n      <g transform=\"translate(7.2 170.196362)scale(0.1 -0.1)\">\n       <use xlink:href=\"#DejaVuSans-50\"/>\n       <use x=\"63.623047\" xlink:href=\"#DejaVuSans-48\"/>\n      </g>\n     </g>\n    </g>\n    <g id=\"ytick_6\">\n     <g id=\"line2d_12\">\n      <g>\n       <use style=\"stroke:#000000;stroke-width:0.8;\" x=\"26.925\" xlink:href=\"#m42cc048d74\" y=\"205.225714\"/>\n      </g>\n     </g>\n     <g id=\"text_12\">\n      <!-- 25 -->\n      <g transform=\"translate(7.2 209.024933)scale(0.1 -0.1)\">\n       <use xlink:href=\"#DejaVuSans-50\"/>\n       <use x=\"63.623047\" xlink:href=\"#DejaVuSans-53\"/>\n      </g>\n     </g>\n    </g>\n   </g>\n   <g id=\"patch_3\">\n    <path d=\"M 26.925 224.64 \nL 26.925 7.2 \n\" style=\"fill:none;stroke:#000000;stroke-linecap:square;stroke-linejoin:miter;stroke-width:0.8;\"/>\n   </g>\n   <g id=\"patch_4\">\n    <path d=\"M 244.365 224.64 \nL 244.365 7.2 \n\" style=\"fill:none;stroke:#000000;stroke-linecap:square;stroke-linejoin:miter;stroke-width:0.8;\"/>\n   </g>\n   <g id=\"patch_5\">\n    <path d=\"M 26.925 224.64 \nL 244.365 224.64 \n\" style=\"fill:none;stroke:#000000;stroke-linecap:square;stroke-linejoin:miter;stroke-width:0.8;\"/>\n   </g>\n   <g id=\"patch_6\">\n    <path d=\"M 26.925 7.2 \nL 244.365 7.2 \n\" style=\"fill:none;stroke:#000000;stroke-linecap:square;stroke-linejoin:miter;stroke-width:0.8;\"/>\n   </g>\n  </g>\n </g>\n <defs>\n  <clipPath id=\"pcd98064436\">\n   <rect height=\"217.44\" width=\"217.44\" x=\"26.925\" y=\"7.2\"/>\n  </clipPath>\n </defs>\n</svg>\n",
      "text/plain": [
       "<Figure size 432x288 with 1 Axes>"
      ]
     },
     "metadata": {
      "needs_background": "light"
     }
    }
   ],
   "metadata": {}
  },
  {
   "cell_type": "markdown",
   "source": [
    "### Saving the model\n",
    "It is saved here because it then easier to see how it re-usable for tflite use, and because the first conversion attempt is with tf.lite.TFLiteConverter.from_saved_model"
   ],
   "metadata": {}
  },
  {
   "cell_type": "code",
   "execution_count": 115,
   "source": [
    "path = './model1_mnist/'\n",
    "tf.saved_model.save(model1, path)"
   ],
   "outputs": [
    {
     "output_type": "stream",
     "name": "stdout",
     "text": [
      "INFO:tensorflow:Assets written to: ./model1_mnist/assets\n"
     ]
    },
    {
     "output_type": "stream",
     "name": "stderr",
     "text": [
      "INFO:tensorflow:Assets written to: ./model1_mnist/assets\n"
     ]
    }
   ],
   "metadata": {}
  },
  {
   "cell_type": "markdown",
   "source": [
    "## 2. TFLite model"
   ],
   "metadata": {}
  },
  {
   "cell_type": "markdown",
   "source": [
    "### First we convert it "
   ],
   "metadata": {}
  },
  {
   "cell_type": "code",
   "execution_count": 116,
   "source": [
    "# could use from_keras_model, may not be so much differences\n",
    "converter = tf.lite.TFLiteConverter.from_saved_model(path)\n",
    "converter.target_spec.supported_ops = [\n",
    "    tf.lite.OpsSet.TFLITE_BUILTINS,  # enable TensorFlow Lite ops.\n",
    "    tf.lite.OpsSet.SELECT_TF_OPS  # enable TensorFlow ops.\n",
    "]\n",
    "tflite_model = converter.convert()\n",
    "\n",
    "interpreter = tf.lite.Interpreter(model_content=tflite_model)\n",
    "signatures = interpreter.get_signature_list()\n",
    "print(signatures)"
   ],
   "outputs": [
    {
     "output_type": "stream",
     "name": "stdout",
     "text": [
      "{'serving_default': {'inputs': ['flatten_1_input'], 'outputs': ['dense_5']}}\n"
     ]
    }
   ],
   "metadata": {}
  },
  {
   "cell_type": "markdown",
   "source": [
    "### Then we set up the interpreter\n",
    "(See TFLite site)"
   ],
   "metadata": {}
  },
  {
   "cell_type": "code",
   "execution_count": 117,
   "source": [
    "interpreter.allocate_tensors()\n",
    "\n",
    "# Get input and output tensors.\n",
    "input_details = interpreter.get_input_details()\n",
    "output_details = interpreter.get_output_details()"
   ],
   "outputs": [],
   "metadata": {}
  },
  {
   "cell_type": "markdown",
   "source": [
    "#### Attempt to test with the same image as tested with the model network, to compare predictions.\n",
    "\n",
    "Careful on the input/output shape. As I didn't specify the model signatures, the converter understood the input shape as [1, 784]\n",
    "\n",
    "Note : the data type 'float32' also come from the signature, and could possibly be changed for optimization. "
   ],
   "metadata": {}
  },
  {
   "cell_type": "code",
   "execution_count": 118,
   "source": [
    "print(input_details)\n",
    "signatures = interpreter.get_signature_list()\n",
    "print('Signatures =>', signatures)"
   ],
   "outputs": [
    {
     "output_type": "stream",
     "name": "stdout",
     "text": [
      "[{'name': 'serving_default_flatten_1_input:0', 'index': 0, 'shape': array([  1, 784], dtype=int32), 'shape_signature': array([ -1, 784], dtype=int32), 'dtype': <class 'numpy.float32'>, 'quantization': (0.0, 0), 'quantization_parameters': {'scales': array([], dtype=float32), 'zero_points': array([], dtype=int32), 'quantized_dimension': 0}, 'sparsity_parameters': {}}]\n",
      "Signatures => {'serving_default': {'inputs': ['flatten_1_input'], 'outputs': ['dense_5']}}\n"
     ]
    }
   ],
   "metadata": {}
  },
  {
   "cell_type": "code",
   "execution_count": 119,
   "source": [
    "input_shape = input_details[0]['shape']\n",
    "print(input_shape)\n",
    "\n",
    "# Is set to 0 at the beginning\n",
    "print(interpreter.get_tensor(output_details[0]['index']))\n",
    "\n",
    "test_img = df_test.loc[35008].values # is a 9 \n",
    "input_data = np.array(test_img, dtype=np.float32)\n",
    "interpreter.set_tensor(input_details[0]['index'], input_data.reshape(1,784))\n",
    "\n",
    "interpreter.invoke()\n",
    "\n",
    "output_data = interpreter.get_tensor(output_details[0]['index'])\n",
    "print(output_data) # predicts a 9 too \n"
   ],
   "outputs": [
    {
     "output_type": "stream",
     "name": "stdout",
     "text": [
      "[  1 784]\n",
      "[[ 0.0000000e+00  0.0000000e+00  0.0000000e+00  0.0000000e+00\n",
      "   0.0000000e+00  0.0000000e+00  0.0000000e+00  0.0000000e+00\n",
      "  -4.2664945e-19  4.5749592e-41]]\n",
      "[[0. 0. 0. 0. 0. 0. 0. 0. 0. 1.]]\n"
     ]
    }
   ],
   "metadata": {}
  },
  {
   "cell_type": "markdown",
   "source": [
    "#### Optional : "
   ],
   "metadata": {}
  },
  {
   "cell_type": "code",
   "execution_count": 120,
   "source": [
    "# Deprecated \n",
    "# Is a 'slow' way to invoke the interpreter on every test image and then create a new result list. \n",
    "# Was needed when I didn't know how to change the input shape of the input tensor.\n",
    "litepreds = []\n",
    "for j in range(df_test.shape[0]):\n",
    "    row = df_test.loc[35000+j].values\n",
    "    inputimg = np.array(row, dtype=np.float32)\n",
    "    interpreter.set_tensor(input_details[0]['index'], inputimg.reshape(1,784))\n",
    "    interpreter.invoke()\n",
    "    output_data = interpreter.get_tensor(output_details[0]['index'])\n",
    "    litepreds.append(output_data)\n",
    "\n",
    "print(litepreds[5])\n",
    "print(ypreds[5])\n",
    "truth = np.array(litepreds == ypreds)"
   ],
   "outputs": [
    {
     "output_type": "stream",
     "name": "stdout",
     "text": [
      "[[0. 0. 0. 0. 0. 0. 1. 0. 0. 0.]]\n",
      "[0. 0. 0. 0. 0. 0. 1. 0. 0. 0.]\n"
     ]
    }
   ],
   "metadata": {}
  },
  {
   "cell_type": "code",
   "execution_count": 155,
   "source": [
    "input_details[0]['index']"
   ],
   "outputs": [
    {
     "output_type": "execute_result",
     "data": {
      "text/plain": [
       "0"
      ]
     },
     "metadata": {},
     "execution_count": 155
    }
   ],
   "metadata": {}
  },
  {
   "cell_type": "markdown",
   "source": [
    "#### Now I want to run the inference on the whole trainining set and not just one image at each interpreter 'invoke'.\n",
    "The first step is converting the df to an array of the right data type in order to input it to the tensor"
   ],
   "metadata": {}
  },
  {
   "cell_type": "code",
   "execution_count": 122,
   "source": [
    "testarray = df_test.to_numpy()\n",
    "#np.shape(testarray)\n",
    "testarray = np.array(testarray, dtype=np.float32)"
   ],
   "outputs": [],
   "metadata": {}
  },
  {
   "cell_type": "markdown",
   "source": [
    "Then I run the predictions on the whole set, efter resizing the input tensor, allocating and loading the new 'testarray' into the the input tensor"
   ],
   "metadata": {}
  },
  {
   "cell_type": "code",
   "execution_count": 123,
   "source": [
    "interpreter.resize_tensor_input(input_index = input_details[0]['index'],tensor_size=(7000,784))\n",
    "interpreter.allocate_tensors()\n",
    "\n",
    "interpreter.set_tensor(input_details[0]['index'], testarray)\n",
    "\n",
    "interpreter.invoke()\n",
    "\n",
    "tflite_predictions = interpreter.get_tensor(output_details[0]['index'])"
   ],
   "outputs": [],
   "metadata": {}
  },
  {
   "cell_type": "markdown",
   "source": [
    "#### Results obtained"
   ],
   "metadata": {}
  },
  {
   "cell_type": "code",
   "execution_count": 124,
   "source": [
    "#check\n",
    "np.shape(tflite_predictions)"
   ],
   "outputs": [
    {
     "output_type": "execute_result",
     "data": {
      "text/plain": [
       "(7000, 10)"
      ]
     },
     "metadata": {},
     "execution_count": 124
    }
   ],
   "metadata": {}
  },
  {
   "cell_type": "code",
   "execution_count": 125,
   "source": [
    "a = np.argmax(tflite_predictions, axis=1)\n",
    "b = np.argmax(ypreds, axis=1)\n",
    "\n",
    "# correct labels are on the last column from the df_test2 set, df_test had it dropped for size issues\n",
    "labels = df_test2.iloc[:,0].values"
   ],
   "outputs": [],
   "metadata": {}
  },
  {
   "cell_type": "code",
   "execution_count": 126,
   "source": [
    "assert np.shape(a) == np.shape(b) == (7000,) "
   ],
   "outputs": [],
   "metadata": {}
  },
  {
   "cell_type": "markdown",
   "source": [
    "Accuracy"
   ],
   "metadata": {}
  },
  {
   "cell_type": "code",
   "execution_count": 127,
   "source": [
    "(b==labels).mean()"
   ],
   "outputs": [
    {
     "output_type": "execute_result",
     "data": {
      "text/plain": [
       "0.9672857142857143"
      ]
     },
     "metadata": {},
     "execution_count": 127
    }
   ],
   "metadata": {}
  },
  {
   "cell_type": "markdown",
   "source": [
    "Classical vs lite accuracy, will be 1 if no changes to the data type, meaning we juste have the same model"
   ],
   "metadata": {}
  },
  {
   "cell_type": "code",
   "execution_count": 128,
   "source": [
    "(a==b).mean()"
   ],
   "outputs": [
    {
     "output_type": "execute_result",
     "data": {
      "text/plain": [
       "1.0"
      ]
     },
     "metadata": {},
     "execution_count": 128
    }
   ],
   "metadata": {}
  },
  {
   "cell_type": "code",
   "execution_count": 129,
   "source": [
    "interpreter.tensor(output_details[0]['index'])"
   ],
   "outputs": [
    {
     "output_type": "execute_result",
     "data": {
      "text/plain": [
       "<function tensorflow.lite.python.interpreter.Interpreter.tensor.<locals>.<lambda>()>"
      ]
     },
     "metadata": {},
     "execution_count": 129
    }
   ],
   "metadata": {}
  },
  {
   "cell_type": "markdown",
   "source": [
    "## 3. Quantization\n",
    "Starting with Post-training integer quantization"
   ],
   "metadata": {}
  },
  {
   "cell_type": "code",
   "execution_count": 130,
   "source": [
    "# converter2 = tf.lite.TFLiteConverter.from_keras_model(model1)\n",
    "# converter2.optimizations = [tf.lite.Optimize.DEFAULT]\n",
    "\n",
    "# tflite_model_quant = converter2.convert()"
   ],
   "outputs": [],
   "metadata": {}
  },
  {
   "cell_type": "markdown",
   "source": [
    "The model is now a bit smaller with quantized weights, but other variable data is still in float format.\n",
    "To quantize the variable data (such as model input/output and intermediates between layers), you need to provide a RepresentativeDatase, a generator function that provides a set of input data that's large enough to represent typical values. It allows the converter to estimate a dynamic range for all the variable data. (The dataset does not need to be unique compared to the training or evaluation dataset.) To support multiple inputs, each representative data point is a list and elements in the list are fed to the model according to their indices."
   ],
   "metadata": {}
  },
  {
   "cell_type": "code",
   "execution_count": 134,
   "source": [
    "# Normalize the input image so that each pixel value is between 0 to 1. (was done earlier in the first model fit)\n",
    "df_train2 = df_train.astype(np.float32) / 255.0\n",
    "df_train2 = df_train2.drop('label', axis = 1, errors='ignore')\n",
    "df_train2 = df_train2.astype(np.float32)\n",
    "df_test2 = df_test2.astype(np.float32) / 255.0\n",
    "df_train2.dtypes"
   ],
   "outputs": [
    {
     "output_type": "execute_result",
     "data": {
      "text/plain": [
       "pixel0      float32\n",
       "pixel1      float32\n",
       "pixel2      float32\n",
       "pixel3      float32\n",
       "pixel4      float32\n",
       "             ...   \n",
       "pixel779    float32\n",
       "pixel780    float32\n",
       "pixel781    float32\n",
       "pixel782    float32\n",
       "pixel783    float32\n",
       "Length: 784, dtype: object"
      ]
     },
     "metadata": {},
     "execution_count": 134
    }
   ],
   "metadata": {}
  },
  {
   "cell_type": "code",
   "execution_count": 135,
   "source": [
    "def representative_data_gen():\n",
    "  for input_value in tf.data.Dataset.from_tensor_slices(df_train2).batch(1).take(100):\n",
    "    yield [input_value]\n",
    "\n",
    "converter2 = tf.lite.TFLiteConverter.from_saved_model(path)\n",
    "converter2.target_spec.supported_ops = [\n",
    "    tf.lite.OpsSet.TFLITE_BUILTINS,  # enable TensorFlow Lite ops.\n",
    "    tf.lite.OpsSet.SELECT_TF_OPS  # enable TensorFlow ops.\n",
    "]\n",
    "converter2.optimizations = [tf.lite.Optimize.DEFAULT]\n",
    "converter2.representative_dataset = representative_data_gen\n",
    "\n",
    "# Ensure that if any ops can't be quantized, the converter throws an error\n",
    "converter2.target_spec.supported_ops = [tf.lite.OpsSet.TFLITE_BUILTINS_INT8]\n",
    "# Set the input and output tensors to uint8 \n",
    "converter2.inference_input_type = tf.uint8\n",
    "converter2.inference_output_type = tf.uint8\n",
    "\n",
    "tflite_model_quant = converter2.convert()"
   ],
   "outputs": [
    {
     "output_type": "stream",
     "name": "stderr",
     "text": [
      "WARNING:absl:For model inputs containing unsupported operations which cannot be quantized, the `inference_input_type` attribute will default to the original type.\n"
     ]
    }
   ],
   "metadata": {}
  },
  {
   "cell_type": "code",
   "execution_count": 136,
   "source": [
    "## Quant results : \n",
    "interpreter2 = tf.lite.Interpreter(model_content=tflite_model_quant)\n",
    "input_type_q = interpreter2.get_input_details()[0]['dtype']\n",
    "print('input: ', input_type_q)\n",
    "output_type_q = interpreter2.get_output_details()[0]['dtype']\n",
    "print('output: ', output_type_q)"
   ],
   "outputs": [
    {
     "output_type": "stream",
     "name": "stdout",
     "text": [
      "input:  <class 'numpy.uint8'>\n",
      "output:  <class 'numpy.uint8'>\n"
     ]
    }
   ],
   "metadata": {}
  },
  {
   "cell_type": "code",
   "execution_count": 137,
   "source": [
    "\n",
    "signatures_q = interpreter2.get_signature_list()\n",
    "print(signatures_q)"
   ],
   "outputs": [
    {
     "output_type": "stream",
     "name": "stdout",
     "text": [
      "{'serving_default': {'inputs': ['flatten_1_input'], 'outputs': ['dense_5']}}\n"
     ]
    }
   ],
   "metadata": {}
  },
  {
   "cell_type": "code",
   "execution_count": 152,
   "source": [
    "interpreter2.allocate_tensors()\n",
    "input_details_q = interpreter2.get_input_details()[0]\n",
    "output_details_q = interpreter2.get_output_details()[0]\n",
    "\n",
    "input_details_q # we can see the dtype changed to uint8 and the quantization parameters and settings"
   ],
   "outputs": [
    {
     "output_type": "execute_result",
     "data": {
      "text/plain": [
       "{'name': 'serving_default_flatten_1_input:0',\n",
       " 'index': 0,\n",
       " 'shape': array([  1, 784], dtype=int32),\n",
       " 'shape_signature': array([ -1, 784], dtype=int32),\n",
       " 'dtype': numpy.uint8,\n",
       " 'quantization': (0.003921568859368563, 0),\n",
       " 'quantization_parameters': {'scales': array([0.00392157], dtype=float32),\n",
       "  'zero_points': array([0], dtype=int32),\n",
       "  'quantized_dimension': 0},\n",
       " 'sparsity_parameters': {}}"
      ]
     },
     "metadata": {},
     "execution_count": 152
    }
   ],
   "metadata": {}
  },
  {
   "cell_type": "code",
   "execution_count": 140,
   "source": [
    "testarray2 = df_test.to_numpy()\n",
    "#np.shape(testarray)\n",
    "testarray2 = np.array(testarray2, dtype=np.uint8)"
   ],
   "outputs": [],
   "metadata": {}
  },
  {
   "cell_type": "code",
   "execution_count": 153,
   "source": [
    "output_details_q"
   ],
   "outputs": [
    {
     "output_type": "execute_result",
     "data": {
      "text/plain": [
       "{'name': 'StatefulPartitionedCall:0',\n",
       " 'index': 14,\n",
       " 'shape': array([ 1, 10], dtype=int32),\n",
       " 'shape_signature': array([-1, 10], dtype=int32),\n",
       " 'dtype': numpy.uint8,\n",
       " 'quantization': (0.00390625, 0),\n",
       " 'quantization_parameters': {'scales': array([0.00390625], dtype=float32),\n",
       "  'zero_points': array([0], dtype=int32),\n",
       "  'quantized_dimension': 0},\n",
       " 'sparsity_parameters': {}}"
      ]
     },
     "metadata": {},
     "execution_count": 153
    }
   ],
   "metadata": {}
  },
  {
   "cell_type": "code",
   "execution_count": 148,
   "source": [
    "np.shape(testarray2)\n",
    "#testarray2[0]"
   ],
   "outputs": [
    {
     "output_type": "execute_result",
     "data": {
      "text/plain": [
       "(7000, 784)"
      ]
     },
     "metadata": {},
     "execution_count": 148
    }
   ],
   "metadata": {}
  },
  {
   "cell_type": "code",
   "execution_count": 181,
   "source": [
    "if input_details_q['dtype'] == np.uint8:\n",
    "    input_scale, input_zero_point = input_details_q[\"quantization\"]\n",
    "    test_img1 =  testarray2[5]\n",
    "    test_img1 = test_img1 / input_scale + input_zero_point"
   ],
   "outputs": [],
   "metadata": {}
  },
  {
   "cell_type": "code",
   "execution_count": 185,
   "source": [
    "#interpreter2.resize_tensor_input(input_index = input_details_q[0]['index'],tensor_size=(7000,784))\n",
    "interpreter2.allocate_tensors()\n",
    "\n",
    "test_img1 = test_img1.astype(input_details_q[\"dtype\"])\n",
    "interpreter2.set_tensor(0, test_img1.reshape(1,784))\n",
    "\n",
    "interpreter2.invoke()\n",
    "\n",
    "tflite_predictions_quant = interpreter2.get_tensor(14)"
   ],
   "outputs": [],
   "metadata": {}
  },
  {
   "cell_type": "code",
   "execution_count": 170,
   "source": [
    "input_details_q"
   ],
   "outputs": [
    {
     "output_type": "execute_result",
     "data": {
      "text/plain": [
       "{'name': 'serving_default_flatten_1_input:0',\n",
       " 'index': 0,\n",
       " 'shape': array([  1, 784], dtype=int32),\n",
       " 'shape_signature': array([ -1, 784], dtype=int32),\n",
       " 'dtype': numpy.uint8,\n",
       " 'quantization': (0.003921568859368563, 0),\n",
       " 'quantization_parameters': {'scales': array([0.00392157], dtype=float32),\n",
       "  'zero_points': array([0], dtype=int32),\n",
       "  'quantized_dimension': 0},\n",
       " 'sparsity_parameters': {}}"
      ]
     },
     "metadata": {},
     "execution_count": 170
    }
   ],
   "metadata": {}
  },
  {
   "cell_type": "code",
   "execution_count": 183,
   "source": [
    "test_img1\n",
    "testarray[5]\n",
    "\n",
    "testarray0 = testarray[5]\n",
    "testarray0 = testarray0.reshape(28,28)\n",
    "test_img1 = test_img1.reshape(28,28)\n",
    "#plt.imshow(testarray0)\n",
    "plt.imshow(test_img1)"
   ],
   "outputs": [
    {
     "output_type": "execute_result",
     "data": {
      "text/plain": [
       "<matplotlib.image.AxesImage at 0x7f8a09e16100>"
      ]
     },
     "metadata": {},
     "execution_count": 183
    },
    {
     "output_type": "display_data",
     "data": {
      "image/png": "[encoded data removed]",
      "image/svg+xml": "<?xml version=\"1.0\" encoding=\"utf-8\" standalone=\"no\"?>\n<!DOCTYPE svg PUBLIC \"-//W3C//DTD SVG 1.1//EN\"\n  \"http://www.w3.org/Graphics/SVG/1.1/DTD/svg11.dtd\">\n<!-- Created with matplotlib (https://matplotlib.org/) -->\n<svg height=\"248.518125pt\" version=\"1.1\" viewBox=\"0 0 251.565 248.518125\" width=\"251.565pt\" xmlns=\"http://www.w3.org/2000/svg\" xmlns:xlink=\"http://www.w3.org/1999/xlink\">\n <metadata>\n  <rdf:RDF xmlns:cc=\"http://creativecommons.org/ns#\" xmlns:dc=\"http://purl.org/dc/elements/1.1/\" xmlns:rdf=\"http://www.w3.org/1999/02/22-rdf-syntax-ns#\">\n   <cc:Work>\n    <dc:type rdf:resource=\"http://purl.org/dc/dcmitype/StillImage\"/>\n    <dc:date>2021-09-03T15:45:29.201398</dc:date>\n    <dc:format>image/svg+xml</dc:format>\n    <dc:creator>\n     <cc:Agent>\n      <dc:title>Matplotlib v3.3.4, https://matplotlib.org/</dc:title>\n     </cc:Agent>\n    </dc:creator>\n   </cc:Work>\n  </rdf:RDF>\n </metadata>\n <defs>\n  <style type=\"text/css\">*{stroke-linecap:butt;stroke-linejoin:round;}</style>\n </defs>\n <g id=\"figure_1\">\n  <g id=\"patch_1\">\n   <path d=\"M 0 248.518125 \nL 251.565 248.518125 \nL 251.565 0 \nL 0 0 \nz\n\" style=\"fill:none;\"/>\n  </g>\n  <g id=\"axes_1\">\n   <g id=\"patch_2\">\n    <path d=\"M 26.925 224.64 \nL 244.365 224.64 \nL 244.365 7.2 \nL 26.925 7.2 \nz\n\" style=\"fill:#ffffff;\"/>\n   </g>\n   <g clip-path=\"url(#p2ab157f4aa)\">\n    <image height=\"218\" id=\"image86258bd75c\" transform=\"scale(1 -1)translate(0 -218)\" width=\"218\" x=\"26.925\" xlink:href=\"data:image/png;base64,\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\" y=\"-6.64\"/>\n   </g>\n   <g id=\"matplotlib.axis_1\">\n    <g id=\"xtick_1\">\n     <g id=\"line2d_1\">\n      <defs>\n       <path d=\"M 0 0 \nL 0 3.5 \n\" id=\"mcbce90daff\" style=\"stroke:#000000;stroke-width:0.8;\"/>\n      </defs>\n      <g>\n       <use style=\"stroke:#000000;stroke-width:0.8;\" x=\"30.807857\" xlink:href=\"#mcbce90daff\" y=\"224.64\"/>\n      </g>\n     </g>\n     <g id=\"text_1\">\n      <!-- 0 -->\n      <g transform=\"translate(27.626607 239.238437)scale(0.1 -0.1)\">\n       <defs>\n        <path d=\"M 31.78125 66.40625 \nQ 24.171875 66.40625 20.328125 58.90625 \nQ 16.5 51.421875 16.5 36.375 \nQ 16.5 21.390625 20.328125 13.890625 \nQ 24.171875 6.390625 31.78125 6.390625 \nQ 39.453125 6.390625 43.28125 13.890625 \nQ 47.125 21.390625 47.125 36.375 \nQ 47.125 51.421875 43.28125 58.90625 \nQ 39.453125 66.40625 31.78125 66.40625 \nz\nM 31.78125 74.21875 \nQ 44.046875 74.21875 50.515625 64.515625 \nQ 56.984375 54.828125 56.984375 36.375 \nQ 56.984375 17.96875 50.515625 8.265625 \nQ 44.046875 -1.421875 31.78125 -1.421875 \nQ 19.53125 -1.421875 13.0625 8.265625 \nQ 6.59375 17.96875 6.59375 36.375 \nQ 6.59375 54.828125 13.0625 64.515625 \nQ 19.53125 74.21875 31.78125 74.21875 \nz\n\" id=\"DejaVuSans-48\"/>\n       </defs>\n       <use xlink:href=\"#DejaVuSans-48\"/>\n      </g>\n     </g>\n    </g>\n    <g id=\"xtick_2\">\n     <g id=\"line2d_2\">\n      <g>\n       <use style=\"stroke:#000000;stroke-width:0.8;\" x=\"69.636429\" xlink:href=\"#mcbce90daff\" y=\"224.64\"/>\n      </g>\n     </g>\n     <g id=\"text_2\">\n      <!-- 5 -->\n      <g transform=\"translate(66.455179 239.238437)scale(0.1 -0.1)\">\n       <defs>\n        <path d=\"M 10.796875 72.90625 \nL 49.515625 72.90625 \nL 49.515625 64.59375 \nL 19.828125 64.59375 \nL 19.828125 46.734375 \nQ 21.96875 47.46875 24.109375 47.828125 \nQ 26.265625 48.1875 28.421875 48.1875 \nQ 40.625 48.1875 47.75 41.5 \nQ 54.890625 34.8125 54.890625 23.390625 \nQ 54.890625 11.625 47.5625 5.09375 \nQ 40.234375 -1.421875 26.90625 -1.421875 \nQ 22.3125 -1.421875 17.546875 -0.640625 \nQ 12.796875 0.140625 7.71875 1.703125 \nL 7.71875 11.625 \nQ 12.109375 9.234375 16.796875 8.0625 \nQ 21.484375 6.890625 26.703125 6.890625 \nQ 35.15625 6.890625 40.078125 11.328125 \nQ 45.015625 15.765625 45.015625 23.390625 \nQ 45.015625 31 40.078125 35.4375 \nQ 35.15625 39.890625 26.703125 39.890625 \nQ 22.75 39.890625 18.8125 39.015625 \nQ 14.890625 38.140625 10.796875 36.28125 \nz\n\" id=\"DejaVuSans-53\"/>\n       </defs>\n       <use xlink:href=\"#DejaVuSans-53\"/>\n      </g>\n     </g>\n    </g>\n    <g id=\"xtick_3\">\n     <g id=\"line2d_3\">\n      <g>\n       <use style=\"stroke:#000000;stroke-width:0.8;\" x=\"108.465\" xlink:href=\"#mcbce90daff\" y=\"224.64\"/>\n      </g>\n     </g>\n     <g id=\"text_3\">\n      <!-- 10 -->\n      <g transform=\"translate(102.1025 239.238437)scale(0.1 -0.1)\">\n       <defs>\n        <path d=\"M 12.40625 8.296875 \nL 28.515625 8.296875 \nL 28.515625 63.921875 \nL 10.984375 60.40625 \nL 10.984375 69.390625 \nL 28.421875 72.90625 \nL 38.28125 72.90625 \nL 38.28125 8.296875 \nL 54.390625 8.296875 \nL 54.390625 0 \nL 12.40625 0 \nz\n\" id=\"DejaVuSans-49\"/>\n       </defs>\n       <use xlink:href=\"#DejaVuSans-49\"/>\n       <use x=\"63.623047\" xlink:href=\"#DejaVuSans-48\"/>\n      </g>\n     </g>\n    </g>\n    <g id=\"xtick_4\">\n     <g id=\"line2d_4\">\n      <g>\n       <use style=\"stroke:#000000;stroke-width:0.8;\" x=\"147.293571\" xlink:href=\"#mcbce90daff\" y=\"224.64\"/>\n      </g>\n     </g>\n     <g id=\"text_4\">\n      <!-- 15 -->\n      <g transform=\"translate(140.931071 239.238437)scale(0.1 -0.1)\">\n       <use xlink:href=\"#DejaVuSans-49\"/>\n       <use x=\"63.623047\" xlink:href=\"#DejaVuSans-53\"/>\n      </g>\n     </g>\n    </g>\n    <g id=\"xtick_5\">\n     <g id=\"line2d_5\">\n      <g>\n       <use style=\"stroke:#000000;stroke-width:0.8;\" x=\"186.122143\" xlink:href=\"#mcbce90daff\" y=\"224.64\"/>\n      </g>\n     </g>\n     <g id=\"text_5\">\n      <!-- 20 -->\n      <g transform=\"translate(179.759643 239.238437)scale(0.1 -0.1)\">\n       <defs>\n        <path d=\"M 19.1875 8.296875 \nL 53.609375 8.296875 \nL 53.609375 0 \nL 7.328125 0 \nL 7.328125 8.296875 \nQ 12.9375 14.109375 22.625 23.890625 \nQ 32.328125 33.6875 34.8125 36.53125 \nQ 39.546875 41.84375 41.421875 45.53125 \nQ 43.3125 49.21875 43.3125 52.78125 \nQ 43.3125 58.59375 39.234375 62.25 \nQ 35.15625 65.921875 28.609375 65.921875 \nQ 23.96875 65.921875 18.8125 64.3125 \nQ 13.671875 62.703125 7.8125 59.421875 \nL 7.8125 69.390625 \nQ 13.765625 71.78125 18.9375 73 \nQ 24.125 74.21875 28.421875 74.21875 \nQ 39.75 74.21875 46.484375 68.546875 \nQ 53.21875 62.890625 53.21875 53.421875 \nQ 53.21875 48.921875 51.53125 44.890625 \nQ 49.859375 40.875 45.40625 35.40625 \nQ 44.1875 33.984375 37.640625 27.21875 \nQ 31.109375 20.453125 19.1875 8.296875 \nz\n\" id=\"DejaVuSans-50\"/>\n       </defs>\n       <use xlink:href=\"#DejaVuSans-50\"/>\n       <use x=\"63.623047\" xlink:href=\"#DejaVuSans-48\"/>\n      </g>\n     </g>\n    </g>\n    <g id=\"xtick_6\">\n     <g id=\"line2d_6\">\n      <g>\n       <use style=\"stroke:#000000;stroke-width:0.8;\" x=\"224.950714\" xlink:href=\"#mcbce90daff\" y=\"224.64\"/>\n      </g>\n     </g>\n     <g id=\"text_6\">\n      <!-- 25 -->\n      <g transform=\"translate(218.588214 239.238437)scale(0.1 -0.1)\">\n       <use xlink:href=\"#DejaVuSans-50\"/>\n       <use x=\"63.623047\" xlink:href=\"#DejaVuSans-53\"/>\n      </g>\n     </g>\n    </g>\n   </g>\n   <g id=\"matplotlib.axis_2\">\n    <g id=\"ytick_1\">\n     <g id=\"line2d_7\">\n      <defs>\n       <path d=\"M 0 0 \nL -3.5 0 \n\" id=\"macae65b057\" style=\"stroke:#000000;stroke-width:0.8;\"/>\n      </defs>\n      <g>\n       <use style=\"stroke:#000000;stroke-width:0.8;\" x=\"26.925\" xlink:href=\"#macae65b057\" y=\"11.082857\"/>\n      </g>\n     </g>\n     <g id=\"text_7\">\n      <!-- 0 -->\n      <g transform=\"translate(13.5625 14.882076)scale(0.1 -0.1)\">\n       <use xlink:href=\"#DejaVuSans-48\"/>\n      </g>\n     </g>\n    </g>\n    <g id=\"ytick_2\">\n     <g id=\"line2d_8\">\n      <g>\n       <use style=\"stroke:#000000;stroke-width:0.8;\" x=\"26.925\" xlink:href=\"#macae65b057\" y=\"49.911429\"/>\n      </g>\n     </g>\n     <g id=\"text_8\">\n      <!-- 5 -->\n      <g transform=\"translate(13.5625 53.710647)scale(0.1 -0.1)\">\n       <use xlink:href=\"#DejaVuSans-53\"/>\n      </g>\n     </g>\n    </g>\n    <g id=\"ytick_3\">\n     <g id=\"line2d_9\">\n      <g>\n       <use style=\"stroke:#000000;stroke-width:0.8;\" x=\"26.925\" xlink:href=\"#macae65b057\" y=\"88.74\"/>\n      </g>\n     </g>\n     <g id=\"text_9\">\n      <!-- 10 -->\n      <g transform=\"translate(7.2 92.539219)scale(0.1 -0.1)\">\n       <use xlink:href=\"#DejaVuSans-49\"/>\n       <use x=\"63.623047\" xlink:href=\"#DejaVuSans-48\"/>\n      </g>\n     </g>\n    </g>\n    <g id=\"ytick_4\">\n     <g id=\"line2d_10\">\n      <g>\n       <use style=\"stroke:#000000;stroke-width:0.8;\" x=\"26.925\" xlink:href=\"#macae65b057\" y=\"127.568571\"/>\n      </g>\n     </g>\n     <g id=\"text_10\">\n      <!-- 15 -->\n      <g transform=\"translate(7.2 131.36779)scale(0.1 -0.1)\">\n       <use xlink:href=\"#DejaVuSans-49\"/>\n       <use x=\"63.623047\" xlink:href=\"#DejaVuSans-53\"/>\n      </g>\n     </g>\n    </g>\n    <g id=\"ytick_5\">\n     <g id=\"line2d_11\">\n      <g>\n       <use style=\"stroke:#000000;stroke-width:0.8;\" x=\"26.925\" xlink:href=\"#macae65b057\" y=\"166.397143\"/>\n      </g>\n     </g>\n     <g id=\"text_11\">\n      <!-- 20 -->\n      <g transform=\"translate(7.2 170.196362)scale(0.1 -0.1)\">\n       <use xlink:href=\"#DejaVuSans-50\"/>\n       <use x=\"63.623047\" xlink:href=\"#DejaVuSans-48\"/>\n      </g>\n     </g>\n    </g>\n    <g id=\"ytick_6\">\n     <g id=\"line2d_12\">\n      <g>\n       <use style=\"stroke:#000000;stroke-width:0.8;\" x=\"26.925\" xlink:href=\"#macae65b057\" y=\"205.225714\"/>\n      </g>\n     </g>\n     <g id=\"text_12\">\n      <!-- 25 -->\n      <g transform=\"translate(7.2 209.024933)scale(0.1 -0.1)\">\n       <use xlink:href=\"#DejaVuSans-50\"/>\n       <use x=\"63.623047\" xlink:href=\"#DejaVuSans-53\"/>\n      </g>\n     </g>\n    </g>\n   </g>\n   <g id=\"patch_3\">\n    <path d=\"M 26.925 224.64 \nL 26.925 7.2 \n\" style=\"fill:none;stroke:#000000;stroke-linecap:square;stroke-linejoin:miter;stroke-width:0.8;\"/>\n   </g>\n   <g id=\"patch_4\">\n    <path d=\"M 244.365 224.64 \nL 244.365 7.2 \n\" style=\"fill:none;stroke:#000000;stroke-linecap:square;stroke-linejoin:miter;stroke-width:0.8;\"/>\n   </g>\n   <g id=\"patch_5\">\n    <path d=\"M 26.925 224.64 \nL 244.365 224.64 \n\" style=\"fill:none;stroke:#000000;stroke-linecap:square;stroke-linejoin:miter;stroke-width:0.8;\"/>\n   </g>\n   <g id=\"patch_6\">\n    <path d=\"M 26.925 7.2 \nL 244.365 7.2 \n\" style=\"fill:none;stroke:#000000;stroke-linecap:square;stroke-linejoin:miter;stroke-width:0.8;\"/>\n   </g>\n  </g>\n </g>\n <defs>\n  <clipPath id=\"p2ab157f4aa\">\n   <rect height=\"217.44\" width=\"217.44\" x=\"26.925\" y=\"7.2\"/>\n  </clipPath>\n </defs>\n</svg>\n",
      "text/plain": [
       "<Figure size 432x288 with 1 Axes>"
      ]
     },
     "metadata": {
      "needs_background": "light"
     }
    }
   ],
   "metadata": {}
  },
  {
   "cell_type": "code",
   "execution_count": 184,
   "source": [
    "np.shape(tflite_predictions_quant)"
   ],
   "outputs": [
    {
     "output_type": "execute_result",
     "data": {
      "text/plain": [
       "(1, 10)"
      ]
     },
     "metadata": {},
     "execution_count": 184
    }
   ],
   "metadata": {}
  },
  {
   "cell_type": "code",
   "execution_count": 186,
   "source": [
    "pred = np.argmax(tflite_predictions_quant)\n",
    "pred"
   ],
   "outputs": [
    {
     "output_type": "execute_result",
     "data": {
      "text/plain": [
       "6"
      ]
     },
     "metadata": {},
     "execution_count": 186
    }
   ],
   "metadata": {}
  },
  {
   "cell_type": "code",
   "execution_count": null,
   "source": [
    "c = np.argmax(tflite_predictions_quant, axis=1)\n",
    "assert np.shape(a) == np.shape(b) == (7000,) \n",
    "\n",
    "\n",
    "(c==labels).mean()"
   ],
   "outputs": [
    {
     "output_type": "execute_result",
     "data": {
      "text/plain": [
       "0.10228571428571429"
      ]
     },
     "metadata": {},
     "execution_count": 86
    }
   ],
   "metadata": {}
  },
  {
   "cell_type": "markdown",
   "source": [],
   "metadata": {}
  }
 ],
 "metadata": {
  "kernelspec": {
   "name": "python3",
   "display_name": "Python 3.8.8 64-bit ('base': conda)"
  },
  "language_info": {
   "codemirror_mode": {
    "name": "ipython",
    "version": 3
   },
   "file_extension": ".py",
   "mimetype": "text/x-python",
   "name": "python",
   "nbconvert_exporter": "python",
   "pygments_lexer": "ipython3",
   "version": "3.8.8"
  },
  "interpreter": {
   "hash": "dca0ade3e726a953b501b15e8e990130d2b7799f14cfd9f4271676035ebe5511"
  }
 },
 "nbformat": 4,
 "nbformat_minor": 5
}