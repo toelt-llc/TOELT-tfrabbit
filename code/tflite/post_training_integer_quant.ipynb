{
  "nbformat": 4,
  "nbformat_minor": 2,
  "metadata": {
    "colab": {
      "name": "post_training_integer_quant.ipynb",
      "provenance": [],
      "collapsed_sections": [],
      "toc_visible": true
    },
    "kernelspec": {
      "name": "python3",
      "display_name": "Python 3.8.8 64-bit ('base': conda)"
    },
    "language_info": {
      "name": "python",
      "version": "3.8.8",
      "mimetype": "text/x-python",
      "codemirror_mode": {
        "name": "ipython",
        "version": 3
      },
      "pygments_lexer": "ipython3",
      "nbconvert_exporter": "python",
      "file_extension": ".py"
    },
    "interpreter": {
      "hash": "dca0ade3e726a953b501b15e8e990130d2b7799f14cfd9f4271676035ebe5511"
    }
  },
  "cells": [
    {
      "cell_type": "markdown",
      "source": [
        "##### Copyright 2019 The TensorFlow Authors."
      ],
      "metadata": {
        "id": "_DDaAex5Q7u-"
      }
    },
    {
      "cell_type": "markdown",
      "source": [
        "# Post-training integer quantization"
      ],
      "metadata": {
        "id": "6Y8E0lw5eYWm"
      }
    },
    {
      "cell_type": "markdown",
      "source": [
        "## Overview\n",
        "\n",
        "Integer quantization is an optimization strategy that converts 32-bit floating-point numbers (such as weights and activation outputs) to the nearest 8-bit fixed-point numbers. This results in a smaller model and increased inferencing speed, which is valuable for low-power devices such as [microcontrollers](https://www.tensorflow.org/lite/microcontrollers). This data format is also required by integer-only accelerators such as the [Edge TPU](https://coral.ai/).\n",
        "\n",
        "In this tutorial, you'll train an MNIST model from scratch, convert it into a Tensorflow Lite file, and quantize it using [post-training quantization](https://www.tensorflow.org/lite/performance/post_training_quantization). Finally, you'll check the accuracy of the converted model and compare it to the original float model.\n",
        "\n",
        "You actually have several options as to how much you want to quantize a model. In this tutorial, you'll perform \"full integer quantization,\" which converts all weights and activation outputs into 8-bit integer data—whereas other strategies may leave some amount of data in floating-point.\n",
        "\n",
        "To learn more about the various quantization strategies, read about [TensorFlow Lite model optimization](https://www.tensorflow.org/lite/performance/model_optimization).\n"
      ],
      "metadata": {
        "id": "BTC1rDAuei_1"
      }
    },
    {
      "cell_type": "markdown",
      "source": [
        "## Setup"
      ],
      "metadata": {
        "id": "dDqqUIZjZjac"
      }
    },
    {
      "cell_type": "markdown",
      "source": [
        "In order to quantize both the input and output tensors, we need to use APIs added in TensorFlow r2.3:"
      ],
      "metadata": {
        "id": "I0nR5AMEWq0H"
      }
    },
    {
      "cell_type": "code",
      "execution_count": 2,
      "source": [
        "import logging\n",
        "logging.getLogger(\"tensorflow\").setLevel(logging.DEBUG)\n",
        "\n",
        "import tensorflow as tf\n",
        "import numpy as np\n",
        "assert float(tf.__version__[:3]) >= 2.3"
      ],
      "outputs": [],
      "metadata": {
        "id": "WsN6s5L1ieNl"
      }
    },
    {
      "cell_type": "markdown",
      "source": [
        "## Generate a TensorFlow Model"
      ],
      "metadata": {
        "id": "2XsEP17Zelz9"
      }
    },
    {
      "cell_type": "markdown",
      "source": [
        "We'll build a simple model to classify numbers from the [MNIST dataset](https://www.tensorflow.org/datasets/catalog/mnist).\n",
        "\n",
        "This training won't take long because you're training the model for just a 5 epochs, which trains to about ~98% accuracy."
      ],
      "metadata": {
        "id": "5NMaNZQCkW9X"
      }
    },
    {
      "cell_type": "code",
      "execution_count": 3,
      "source": [
        "# Load MNIST dataset\n",
        "mnist = tf.keras.datasets.mnist\n",
        "(train_images, train_labels), (test_images, test_labels) = mnist.load_data()\n",
        "\n",
        "# Normalize the input image so that each pixel value is between 0 to 1.\n",
        "train_images = train_images.astype(np.float32) / 255.0\n",
        "test_images = test_images.astype(np.float32) / 255.0\n",
        "\n",
        "# Define the model architecture\n",
        "model2 = tf.keras.Sequential([\n",
        "  tf.keras.layers.InputLayer(input_shape=(28, 28)),\n",
        "  tf.keras.layers.Reshape(target_shape=(28, 28, 1)),\n",
        "  tf.keras.layers.Conv2D(filters=12, kernel_size=(3, 3), activation='relu'),\n",
        "  tf.keras.layers.MaxPooling2D(pool_size=(2, 2)),\n",
        "  tf.keras.layers.Flatten(),\n",
        "  tf.keras.layers.Dense(10)\n",
        "])\n",
        "\n",
        "# Train the digit classification model\n",
        "model2.compile(optimizer='adam',\n",
        "              loss=tf.keras.losses.SparseCategoricalCrossentropy(\n",
        "                  from_logits=True),\n",
        "              metrics=['accuracy'])\n",
        "model2.fit(\n",
        "  train_images,\n",
        "  train_labels,\n",
        "  epochs=5,\n",
        "  validation_data=(test_images, test_labels)\n",
        ")"
      ],
      "outputs": [
        {
          "output_type": "stream",
          "name": "stdout",
          "text": [
            "Epoch 1/5\n",
            "1875/1875 [==============================] - 11s 6ms/step - loss: 0.2586 - accuracy: 0.9298 - val_loss: 0.1041 - val_accuracy: 0.9691\n",
            "Epoch 2/5\n",
            "1875/1875 [==============================] - 8s 4ms/step - loss: 0.0921 - accuracy: 0.9736 - val_loss: 0.0782 - val_accuracy: 0.9746\n",
            "Epoch 3/5\n",
            "1875/1875 [==============================] - 9s 5ms/step - loss: 0.0699 - accuracy: 0.9793 - val_loss: 0.0644 - val_accuracy: 0.9784\n",
            "Epoch 4/5\n",
            "1875/1875 [==============================] - 9s 5ms/step - loss: 0.0587 - accuracy: 0.9825 - val_loss: 0.0574 - val_accuracy: 0.9809\n",
            "Epoch 5/5\n",
            "1875/1875 [==============================] - 9s 5ms/step - loss: 0.0513 - accuracy: 0.9848 - val_loss: 0.0557 - val_accuracy: 0.9809\n"
          ]
        },
        {
          "output_type": "execute_result",
          "data": {
            "text/plain": [
              "<keras.callbacks.History at 0x7ff278d86ac0>"
            ]
          },
          "metadata": {},
          "execution_count": 3
        }
      ],
      "metadata": {
        "id": "eMsw_6HujaqM"
      }
    },
    {
      "cell_type": "markdown",
      "source": [
        "## Convert to a TensorFlow Lite model"
      ],
      "metadata": {
        "id": "KuTEoGFYd8aM"
      }
    },
    {
      "cell_type": "markdown",
      "source": [
        "Now you can convert the trained model to TensorFlow Lite format using the [`TFLiteConverter`](https://www.tensorflow.org/lite/convert/python_api) API, and apply varying degrees of quantization.\n",
        "\n",
        "Beware that some versions of quantization leave some of the data in float format. So the following sections show each option with increasing amounts of quantization, until we get a model that's entirely int8 or uint8 data. (Notice we duplicate some code in each section so you can see all the quantization steps for each option.)\n",
        "\n",
        "First, here's a converted model with no quantization:"
      ],
      "metadata": {
        "id": "xl8_fzVAZwOh"
      }
    },
    {
      "cell_type": "code",
      "execution_count": 4,
      "source": [
        "converter = tf.lite.TFLiteConverter.from_keras_model(model)\n",
        "\n",
        "tflite_model = converter.convert()"
      ],
      "outputs": [
        {
          "output_type": "stream",
          "name": "stdout",
          "text": [
            "INFO:tensorflow:Assets written to: /var/folders/pj/_64wh_0d44z5f2y6mk2zml0w0000gn/T/tmp62_933hy/assets\n"
          ]
        }
      ],
      "metadata": {
        "id": "_i8B2nDZmAgQ"
      }
    },
    {
      "cell_type": "markdown",
      "source": [
        "It's now a TensorFlow Lite model, but it's still using 32-bit float values for all parameter data."
      ],
      "metadata": {
        "id": "7BONhYtYocQY"
      }
    },
    {
      "cell_type": "markdown",
      "source": [
        "### Convert using dynamic range quantization\n"
      ],
      "metadata": {
        "id": "jPYZwgZTwJMT"
      }
    },
    {
      "cell_type": "markdown",
      "source": [
        "Now let's enable the default `optimizations` flag to quantize all fixed parameters (such as weights):"
      ],
      "metadata": {
        "id": "Hjvq1vpJd4U_"
      }
    },
    {
      "cell_type": "code",
      "execution_count": null,
      "source": [
        "converter = tf.lite.TFLiteConverter.from_keras_model(model)\n",
        "converter.optimizations = [tf.lite.Optimize.DEFAULT]\n",
        "\n",
        "tflite_model_quant = converter.convert()"
      ],
      "outputs": [],
      "metadata": {
        "id": "HEZ6ET1AHAS3"
      }
    },
    {
      "cell_type": "markdown",
      "source": [
        "The model is now a bit smaller with quantized weights, but other variable data is still in float format."
      ],
      "metadata": {
        "id": "o5wuE-RcdX_3"
      }
    },
    {
      "cell_type": "markdown",
      "source": [
        "### Convert using float fallback quantization"
      ],
      "metadata": {
        "id": "UgKDdnHQEhpb"
      }
    },
    {
      "cell_type": "markdown",
      "source": [
        "To quantize the variable data (such as model input/output and intermediates between layers), you need to provide a [`RepresentativeDataset`](https://www.tensorflow.org/api_docs/python/tf/lite/RepresentativeDataset). This is a generator function that provides a set of input data that's large enough to represent typical values. It allows the converter to estimate a dynamic range for all the variable data. (The dataset does not need to be unique compared to the training or evaluation dataset.)\n",
        "To support multiple inputs, each representative data point is a list and elements in the list are fed to the model according to their indices.\n"
      ],
      "metadata": {
        "id": "rTe8avZJHMDO"
      }
    },
    {
      "cell_type": "code",
      "execution_count": 5,
      "source": [
        "def representative_data_gen():\n",
        "  for input_value in tf.data.Dataset.from_tensor_slices(train_images).batch(1).take(100):\n",
        "    # Model has only one input so each data point has one element.\n",
        "    yield [input_value]\n",
        "\n",
        "converter = tf.lite.TFLiteConverter.from_keras_model(model)\n",
        "converter.optimizations = [tf.lite.Optimize.DEFAULT]\n",
        "converter.representative_dataset = representative_data_gen\n",
        "\n",
        "tflite_model_quant = converter.convert()"
      ],
      "outputs": [
        {
          "output_type": "stream",
          "name": "stdout",
          "text": [
            "INFO:tensorflow:Assets written to: /var/folders/pj/_64wh_0d44z5f2y6mk2zml0w0000gn/T/tmp4_99ryk_/assets\n"
          ]
        },
        {
          "output_type": "stream",
          "name": "stderr",
          "text": [
            "INFO:tensorflow:Assets written to: /var/folders/pj/_64wh_0d44z5f2y6mk2zml0w0000gn/T/tmp4_99ryk_/assets\n"
          ]
        }
      ],
      "metadata": {
        "id": "FiwiWU3gHdkW"
      }
    },
    {
      "cell_type": "markdown",
      "source": [
        "Now all weights and variable data are quantized, and the model is significantly smaller compared to the original TensorFlow Lite model.\n",
        "\n",
        "However, to maintain compatibility with applications that traditionally use float model input and output tensors, the TensorFlow Lite Converter leaves the model input and output tensors in float:"
      ],
      "metadata": {
        "id": "_GC3HFlptf7x"
      }
    },
    {
      "cell_type": "code",
      "execution_count": 6,
      "source": [
        "interpreter = tf.lite.Interpreter(model_content=tflite_model_quant)\n",
        "input_type = interpreter.get_input_details()[0]['dtype']\n",
        "print('input: ', input_type)\n",
        "output_type = interpreter.get_output_details()[0]['dtype']\n",
        "print('output: ', output_type)"
      ],
      "outputs": [
        {
          "output_type": "stream",
          "name": "stdout",
          "text": [
            "input:  <class 'numpy.float32'>\n",
            "output:  <class 'numpy.float32'>\n"
          ]
        }
      ],
      "metadata": {
        "id": "id1OEKFELQwp"
      }
    },
    {
      "cell_type": "markdown",
      "source": [
        "That's usually good for compatibility, but it won't be compatible with devices that perform only integer-based operations, such as the Edge TPU.\n",
        "\n",
        "Additionally, the above process may leave an operation in float format if TensorFlow Lite doesn't include a quantized implementation for that operation. This strategy allows conversion to complete so you have a smaller and more efficient model, but again, it won't be compatible with integer-only hardware. (All ops in this MNIST model have a quantized implementation.)\n",
        "\n",
        "So to ensure an end-to-end integer-only model, you need a couple more parameters..."
      ],
      "metadata": {
        "id": "RACBJuj2XO8x"
      }
    },
    {
      "cell_type": "markdown",
      "source": [
        "### Convert using integer-only quantization"
      ],
      "metadata": {
        "id": "FQgTqbvPvxGJ"
      }
    },
    {
      "cell_type": "markdown",
      "source": [
        "To quantize the input and output tensors, and make the converter throw an error if it encounters an operation it cannot quantize, convert the model again with some additional parameters:"
      ],
      "metadata": {
        "id": "mwR9keYAwArA"
      }
    },
    {
      "cell_type": "code",
      "execution_count": 7,
      "source": [
        "def representative_data_gen():\n",
        "  for input_value in tf.data.Dataset.from_tensor_slices(train_images).batch(1).take(100):\n",
        "    yield [input_value]\n",
        "\n",
        "converter = tf.lite.TFLiteConverter.from_keras_model(model)\n",
        "converter.optimizations = [tf.lite.Optimize.DEFAULT]\n",
        "converter.representative_dataset = representative_data_gen\n",
        "# Ensure that if any ops can't be quantized, the converter throws an error\n",
        "converter.target_spec.supported_ops = [tf.lite.OpsSet.TFLITE_BUILTINS_INT8]\n",
        "# Set the input and output tensors to uint8 (APIs added in r2.3)\n",
        "converter.inference_input_type = tf.uint8\n",
        "converter.inference_output_type = tf.uint8\n",
        "\n",
        "tflite_model_quant = converter.convert()"
      ],
      "outputs": [
        {
          "output_type": "stream",
          "name": "stdout",
          "text": [
            "INFO:tensorflow:Assets written to: /var/folders/pj/_64wh_0d44z5f2y6mk2zml0w0000gn/T/tmp9n7hgui3/assets\n"
          ]
        },
        {
          "output_type": "stream",
          "name": "stderr",
          "text": [
            "INFO:tensorflow:Assets written to: /var/folders/pj/_64wh_0d44z5f2y6mk2zml0w0000gn/T/tmp9n7hgui3/assets\n",
            "WARNING:absl:For model inputs containing unsupported operations which cannot be quantized, the `inference_input_type` attribute will default to the original type.\n"
          ]
        }
      ],
      "metadata": {
        "id": "kzjEjcDs3BHa"
      }
    },
    {
      "cell_type": "markdown",
      "source": [
        "The internal quantization remains the same as above, but you can see the input and output tensors are now integer format:\n"
      ],
      "metadata": {
        "id": "wYd6NxD03yjB"
      }
    },
    {
      "cell_type": "code",
      "execution_count": 8,
      "source": [
        "interpreter = tf.lite.Interpreter(model_content=tflite_model_quant)\n",
        "input_type = interpreter.get_input_details()[0]['dtype']\n",
        "print('input: ', input_type)\n",
        "output_type = interpreter.get_output_details()[0]['dtype']\n",
        "print('output: ', output_type)"
      ],
      "outputs": [
        {
          "output_type": "stream",
          "name": "stdout",
          "text": [
            "input:  <class 'numpy.uint8'>\n",
            "output:  <class 'numpy.uint8'>\n"
          ]
        }
      ],
      "metadata": {
        "id": "PaNkOS-twz4k"
      }
    },
    {
      "cell_type": "markdown",
      "source": [
        "Now you have an integer quantized model that uses integer data for the model's input and output tensors, so it's compatible with integer-only hardware such as the [Edge TPU](https://coral.ai)."
      ],
      "metadata": {
        "id": "TO17AP84wzBb"
      }
    },
    {
      "cell_type": "markdown",
      "source": [
        "### Save the models as files"
      ],
      "metadata": {
        "id": "sse224YJ4KMm"
      }
    },
    {
      "cell_type": "markdown",
      "source": [
        "You'll need a `.tflite` file to deploy your model on other devices. So let's save the converted models to files and then load them when we run inferences below."
      ],
      "metadata": {
        "id": "4_9nZ4nv4b9P"
      }
    },
    {
      "cell_type": "code",
      "execution_count": 9,
      "source": [
        "import pathlib\n",
        "\n",
        "tflite_models_dir = pathlib.Path(\"/tmp/mnist_tflite_models/\")\n",
        "tflite_models_dir.mkdir(exist_ok=True, parents=True)\n",
        "\n",
        "# Save the unquantized/float model:\n",
        "tflite_model_file = tflite_models_dir/\"mnist_model.tflite\"\n",
        "tflite_model_file.write_bytes(tflite_model)\n",
        "# Save the quantized model:\n",
        "tflite_model_quant_file = tflite_models_dir/\"mnist_model_quant.tflite\"\n",
        "tflite_model_quant_file.write_bytes(tflite_model_quant)"
      ],
      "outputs": [
        {
          "output_type": "execute_result",
          "data": {
            "text/plain": [
              "24280"
            ]
          },
          "metadata": {},
          "execution_count": 9
        }
      ],
      "metadata": {
        "id": "BEY59dC14uRv"
      }
    },
    {
      "cell_type": "markdown",
      "source": [
        "## Run the TensorFlow Lite models"
      ],
      "metadata": {
        "id": "9t9yaTeF9fyM"
      }
    },
    {
      "cell_type": "markdown",
      "source": [
        "Now we'll run inferences using the TensorFlow Lite [`Interpreter`](https://www.tensorflow.org/api_docs/python/tf/lite/Interpreter) to compare the model accuracies.\n",
        "\n",
        "First, we need a function that runs inference with a given model and images, and then returns the predictions:\n"
      ],
      "metadata": {
        "id": "L8lQHMp_asCq"
      }
    },
    {
      "cell_type": "code",
      "execution_count": 10,
      "source": [
        "# Helper function to run inference on a TFLite model\n",
        "def run_tflite_model(tflite_file, test_image_indices):\n",
        "  global test_images\n",
        "\n",
        "  # Initialize the interpreter\n",
        "  interpreter = tf.lite.Interpreter(model_path=str(tflite_file))\n",
        "  interpreter.allocate_tensors()\n",
        "\n",
        "  input_details = interpreter.get_input_details()[0]\n",
        "  output_details = interpreter.get_output_details()[0]\n",
        "\n",
        "  predictions = np.zeros((len(test_image_indices),), dtype=int)\n",
        "  for i, test_image_index in enumerate(test_image_indices):\n",
        "    test_image = test_images[test_image_index]\n",
        "    test_label = test_labels[test_image_index]\n",
        "\n",
        "    # Check if the input type is quantized, then rescale input data to uint8\n",
        "    if input_details['dtype'] == np.uint8:\n",
        "      input_scale, input_zero_point = input_details[\"quantization\"]\n",
        "      test_image = test_image / input_scale + input_zero_point\n",
        "\n",
        "    test_image = np.expand_dims(test_image, axis=0).astype(input_details[\"dtype\"])\n",
        "    interpreter.set_tensor(input_details[\"index\"], test_image)\n",
        "    interpreter.invoke()\n",
        "    output = interpreter.get_tensor(output_details[\"index\"])[0]\n",
        "\n",
        "    predictions[i] = output.argmax()\n",
        "\n",
        "  return predictions\n"
      ],
      "outputs": [],
      "metadata": {
        "id": "X092SbeWfd1A"
      }
    },
    {
      "cell_type": "markdown",
      "source": [
        "### Test the models on one image\n"
      ],
      "metadata": {
        "id": "2opUt_JTdyEu"
      }
    },
    {
      "cell_type": "markdown",
      "source": [
        "Now we'll compare the performance of the float model and quantized model:\n",
        "+ `tflite_model_file` is the original TensorFlow Lite model with floating-point data.\n",
        "+ `tflite_model_quant_file` is the last model we converted using integer-only quantization (it uses uint8 data for input and output).\n",
        "\n",
        "Let's create another function to print our predictions:"
      ],
      "metadata": {
        "id": "QpPpFPaz7eEM"
      }
    },
    {
      "cell_type": "code",
      "execution_count": 11,
      "source": [
        "import matplotlib.pylab as plt\n",
        "\n",
        "# Change this to test a different image\n",
        "test_image_index = 1\n",
        "\n",
        "## Helper function to test the models on one image\n",
        "def test_model(tflite_file, test_image_index, model_type):\n",
        "  global test_labels\n",
        "\n",
        "  predictions = run_tflite_model(tflite_file, [test_image_index])\n",
        "\n",
        "  plt.imshow(test_images[test_image_index])\n",
        "  template = model_type + \" Model \\n True:{true}, Predicted:{predict}\"\n",
        "  _ = plt.title(template.format(true= str(test_labels[test_image_index]), predict=str(predictions[0])))\n",
        "  plt.grid(False)"
      ],
      "outputs": [],
      "metadata": {
        "id": "zR2cHRUcUZ6e"
      }
    },
    {
      "cell_type": "markdown",
      "source": [
        "Now test the float model:"
      ],
      "metadata": {
        "id": "A5OTJ_6Vcslt"
      }
    },
    {
      "cell_type": "code",
      "execution_count": 12,
      "source": [
        "test_model(tflite_model_file, test_image_index, model_type=\"Float\")"
      ],
      "outputs": [
        {
          "output_type": "display_data",
          "data": {
            "image/png": "[encoded data removed]",
            "text/plain": [
              "<Figure size 432x288 with 1 Axes>"
            ]
          },
          "metadata": {
            "needs_background": "light"
          }
        }
      ],
      "metadata": {
        "id": "iTK0x980coto"
      }
    },
    {
      "cell_type": "markdown",
      "source": [
        "And test the quantized model:"
      ],
      "metadata": {
        "id": "o3N6-UGl1dfE"
      }
    },
    {
      "cell_type": "code",
      "execution_count": 13,
      "source": [
        "test_model(tflite_model_quant_file, test_image_index, model_type=\"Quantized\")"
      ],
      "outputs": [
        {
          "output_type": "display_data",
          "data": {
            "image/png": "[encoded data removed]",
            "text/plain": [
              "<Figure size 432x288 with 1 Axes>"
            ]
          },
          "metadata": {
            "needs_background": "light"
          }
        }
      ],
      "metadata": {
        "id": "rc1i9umMcp0t"
      }
    },
    {
      "cell_type": "markdown",
      "source": [
        "### Evaluate the models on all images"
      ],
      "metadata": {
        "id": "LwN7uIdCd8Gw"
      }
    },
    {
      "cell_type": "markdown",
      "source": [
        "Now let's run both models using all the test images we loaded at the beginning of this tutorial:"
      ],
      "metadata": {
        "id": "RFKOD4DG8XmU"
      }
    },
    {
      "cell_type": "code",
      "execution_count": 14,
      "source": [
        "# Helper function to evaluate a TFLite model on all images\n",
        "def evaluate_model(tflite_file, model_type):\n",
        "  global test_images\n",
        "  global test_labels\n",
        "\n",
        "  test_image_indices = range(test_images.shape[0])\n",
        "  predictions = run_tflite_model(tflite_file, test_image_indices)\n",
        "\n",
        "  accuracy = (np.sum(test_labels== predictions) * 100) / len(test_images)\n",
        "\n",
        "  print('%s model accuracy is %.4f%% (Number of test samples=%d)' % (\n",
        "      model_type, accuracy, len(test_images)))"
      ],
      "outputs": [],
      "metadata": {
        "id": "05aeAuWjvjPx"
      }
    },
    {
      "cell_type": "markdown",
      "source": [
        "Evaluate the float model:"
      ],
      "metadata": {
        "id": "xnFilQpBuMh5"
      }
    },
    {
      "cell_type": "code",
      "execution_count": 15,
      "source": [
        "evaluate_model(tflite_model_file, model_type=\"Float\")"
      ],
      "outputs": [
        {
          "output_type": "stream",
          "name": "stdout",
          "text": [
            "Float model accuracy is 98.0900% (Number of test samples=10000)\n"
          ]
        }
      ],
      "metadata": {
        "id": "T5mWkSbMcU5z"
      }
    },
    {
      "cell_type": "markdown",
      "source": [
        "Evaluate the quantized model:"
      ],
      "metadata": {
        "id": "Km3cY9ry8ZlG"
      }
    },
    {
      "cell_type": "code",
      "execution_count": 16,
      "source": [
        "evaluate_model(tflite_model_quant_file, model_type=\"Quantized\")"
      ],
      "outputs": [
        {
          "output_type": "stream",
          "name": "stdout",
          "text": [
            "Quantized model accuracy is 98.0200% (Number of test samples=10000)\n"
          ]
        }
      ],
      "metadata": {
        "id": "-9cnwiPp6EGm"
      }
    },
    {
      "cell_type": "markdown",
      "source": [
        "So you now have an integer quantized a model with almost no difference in the accuracy, compared to the float model.\n",
        "\n",
        "To learn more about other quantization strategies, read about [TensorFlow Lite model optimization](https://www.tensorflow.org/lite/performance/model_optimization)."
      ],
      "metadata": {
        "id": "L7lfxkor8pgv"
      }
    }
  ]
}