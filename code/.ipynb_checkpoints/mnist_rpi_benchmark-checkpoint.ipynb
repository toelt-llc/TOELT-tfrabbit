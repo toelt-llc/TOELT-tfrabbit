{
 "cells": [
  {
   "cell_type": "code",
   "execution_count": 2,
   "id": "eab6ee96-74f7-49da-83de-de66f41c66db",
   "metadata": {},
   "outputs": [
    {
     "name": "stdout",
     "output_type": "stream",
     "text": [
      "Sizes...\n",
      "((60000, 28, 28), (60000,))\n",
      "((10000, 28, 28), (10000,))\n"
     ]
    }
   ],
   "source": [
    "import numpy as np\n",
    "import keras\n",
    "import keras.datasets.mnist\n",
    "import time\n",
    "\n",
    "from tensorflow.keras.datasets import mnist\n",
    "from tensorflow.keras.utils import to_categorical\n",
    "from tensorflow.keras import Sequential\n",
    "from keras.layers import Dense, Flatten\n",
    "\n",
    "\n",
    "(x_train, y_train), (x_test, y_test) = keras.datasets.mnist.load_data()\n",
    "assert x_train.shape == (60000, 28, 28)\n",
    "assert x_test.shape == (10000, 28, 28)\n",
    "assert y_train.shape == (60000,)\n",
    "assert y_test.shape == (10000,) \n",
    "\n",
    "print(\"Sizes...\")\n",
    "print((x_train.shape,y_train.shape))\n",
    "print((x_test.shape,y_test.shape))"
   ]
  },
  {
   "cell_type": "code",
   "execution_count": 3,
   "id": "55a31054-ce66-41ac-bab0-dcc4b9bc4e19",
   "metadata": {},
   "outputs": [],
   "source": [
    "# Convert y_train into one-hot format\n",
    "# !!! Run only once\n",
    "temp = []\n",
    "for i in range(len(y_train)):\n",
    "    temp.append(to_categorical(y_train[i], num_classes=10))\n",
    "y_train = np.array(temp)\n",
    "# Convert y_test into one-hot format\n",
    "temp = []\n",
    "for i in range(len(y_test)):    \n",
    "    temp.append(to_categorical(y_test[i], num_classes=10))\n",
    "y_test = np.array(temp)"
   ]
  },
  {
   "cell_type": "code",
   "execution_count": 4,
   "id": "ce259c7e-71e3-495a-b8b0-c9808aad2d87",
   "metadata": {},
   "outputs": [
    {
     "name": "stdout",
     "output_type": "stream",
     "text": [
      "Sizes...\n",
      "((60000, 28, 28), (60000, 10))\n",
      "((10000, 28, 28), (10000, 10))\n"
     ]
    }
   ],
   "source": [
    "print(\"Sizes...\")\n",
    "print((x_train.shape,y_train.shape))\n",
    "print((x_test.shape,y_test.shape))"
   ]
  },
  {
   "cell_type": "code",
   "execution_count": 5,
   "id": "78eda0ea-09a0-4679-92a3-d8e0461f4320",
   "metadata": {},
   "outputs": [
    {
     "name": "stderr",
     "output_type": "stream",
     "text": [
      "2021-08-11 13:55:17.240251: I tensorflow/core/platform/cpu_feature_guard.cc:142] This TensorFlow binary is optimized with oneAPI Deep Neural Network Library (oneDNN) to use the following CPU instructions in performance-critical operations:  AVX2 FMA\n",
      "To enable them in other operations, rebuild TensorFlow with the appropriate compiler flags.\n"
     ]
    }
   ],
   "source": [
    "model4 = Sequential()\n",
    "model4.add(Flatten(input_shape=(28,28)))\n",
    "model4.add(Dense(5, activation='sigmoid'))\n",
    "model4.add(Dense(10, activation='softmax'))\n",
    "\n",
    "model4.compile(loss='categorical_crossentropy', \n",
    "              optimizer='adam',\n",
    "              metrics=['acc'])"
   ]
  },
  {
   "cell_type": "code",
   "execution_count": 6,
   "id": "2d751310-f1db-40f2-9456-6bdc8fd8f256",
   "metadata": {},
   "outputs": [
    {
     "name": "stderr",
     "output_type": "stream",
     "text": [
      "2021-08-11 13:55:17.514832: I tensorflow/compiler/mlir/mlir_graph_optimization_pass.cc:176] None of the MLIR Optimization Passes are enabled (registered 2)\n"
     ]
    },
    {
     "name": "stdout",
     "output_type": "stream",
     "text": [
      "Epoch 1/10\n",
      "1875/1875 [==============================] - 2s 723us/step - loss: 1.6829 - acc: 0.4848 - val_loss: 1.2527 - val_acc: 0.6734\n",
      "Epoch 2/10\n",
      "1875/1875 [==============================] - 1s 656us/step - loss: 1.1087 - acc: 0.6710 - val_loss: 0.9853 - val_acc: 0.7004\n",
      "Epoch 3/10\n",
      "1875/1875 [==============================] - 1s 658us/step - loss: 0.9361 - acc: 0.7037 - val_loss: 0.8843 - val_acc: 0.7273\n",
      "Epoch 4/10\n",
      "1875/1875 [==============================] - 1s 632us/step - loss: 0.8719 - acc: 0.7303 - val_loss: 0.9025 - val_acc: 0.6904\n",
      "Epoch 5/10\n",
      "1875/1875 [==============================] - 1s 651us/step - loss: 0.8214 - acc: 0.7459 - val_loss: 0.8370 - val_acc: 0.7486\n",
      "Epoch 6/10\n",
      "1875/1875 [==============================] - 1s 659us/step - loss: 0.8126 - acc: 0.7513 - val_loss: 0.7652 - val_acc: 0.7791\n",
      "Epoch 7/10\n",
      "1875/1875 [==============================] - 1s 656us/step - loss: 0.7727 - acc: 0.7721 - val_loss: 0.7678 - val_acc: 0.7741\n",
      "Epoch 8/10\n",
      "1875/1875 [==============================] - 1s 661us/step - loss: 0.7610 - acc: 0.7747 - val_loss: 0.7226 - val_acc: 0.7976\n",
      "Epoch 9/10\n",
      "1875/1875 [==============================] - 1s 665us/step - loss: 0.7662 - acc: 0.7707 - val_loss: 0.7341 - val_acc: 0.7728\n",
      "Epoch 10/10\n",
      "1875/1875 [==============================] - 1s 683us/step - loss: 0.7444 - acc: 0.7716 - val_loss: 0.7304 - val_acc: 0.7906\n"
     ]
    }
   ],
   "source": [
    "start = time.time()\n",
    "model4.fit(x_train, y_train, epochs=10,validation_data=(x_test,y_test))\n",
    "end = time.time()"
   ]
  },
  {
   "cell_type": "code",
   "execution_count": 7,
   "id": "d18c2c86-36aa-41bd-a05d-d112a9a0186e",
   "metadata": {},
   "outputs": [
    {
     "name": "stdout",
     "output_type": "stream",
     "text": [
      "Model: \"sequential\"\n",
      "_________________________________________________________________\n",
      "Layer (type)                 Output Shape              Param #   \n",
      "=================================================================\n",
      "module_wrapper (ModuleWrappe (None, 784)               0         \n",
      "_________________________________________________________________\n",
      "module_wrapper_1 (ModuleWrap (None, 5)                 3925      \n",
      "_________________________________________________________________\n",
      "module_wrapper_2 (ModuleWrap (None, 10)                60        \n",
      "=================================================================\n",
      "Total params: 3,985\n",
      "Trainable params: 3,985\n",
      "Non-trainable params: 0\n",
      "_________________________________________________________________\n"
     ]
    }
   ],
   "source": [
    "model4.summary()"
   ]
  },
  {
   "cell_type": "code",
   "execution_count": 8,
   "id": "3dd195a0-da9d-4d23-8b4c-1ec9ba3f4f0f",
   "metadata": {},
   "outputs": [
    {
     "name": "stdout",
     "output_type": "stream",
     "text": [
      "-------------------------------------------------\n",
      "Benachmark Results for this test\n",
      "\n",
      "Elapsed Time (min): 0.21965181827545166\n",
      "13.1791090965271 seconds\n",
      "-------------------------------------------------\n"
     ]
    }
   ],
   "source": [
    "print(\"-------------------------------------------------\")\n",
    "print(\"Benachmark Results for this test\")\n",
    "print()\n",
    "print(\"Elapsed Time (min):\",(end - start)/60.0)\n",
    "print(end-start, \"seconds\")\n",
    "print(\"-------------------------------------------------\")\n"
   ]
  },
  {
   "cell_type": "markdown",
   "id": "af24c0fa-c2d0-4b79-a740-90468a4d3e85",
   "metadata": {},
   "source": [
    "## Predictions"
   ]
  },
  {
   "cell_type": "code",
   "execution_count": 20,
   "id": "754d1d49-1844-4f4d-ae56-e485c4894a5b",
   "metadata": {},
   "outputs": [
    {
     "name": "stdout",
     "output_type": "stream",
     "text": [
      "[[0.95 0.   0.03 0.01 0.   0.01 0.   0.   0.   0.  ]\n",
      " [0.   0.01 0.02 0.   0.21 0.   0.03 0.59 0.   0.12]\n",
      " [0.   0.87 0.01 0.04 0.   0.01 0.   0.   0.07 0.  ]\n",
      " [0.   0.   0.   0.   0.42 0.01 0.   0.01 0.04 0.51]\n",
      " [0.16 0.   0.7  0.   0.   0.   0.13 0.   0.01 0.  ]\n",
      " [0.   0.87 0.01 0.04 0.   0.01 0.   0.   0.07 0.  ]\n",
      " [0.03 0.   0.04 0.9  0.   0.03 0.   0.   0.01 0.  ]\n",
      " [0.   0.87 0.01 0.04 0.   0.01 0.   0.   0.07 0.  ]\n",
      " [0.   0.   0.   0.   0.65 0.   0.05 0.05 0.   0.25]]\n",
      "[[1. 0. 0. 0. 0. 0. 0. 0. 0. 0.]\n",
      " [0. 0. 0. 0. 1. 0. 0. 0. 0. 0.]\n",
      " [0. 1. 0. 0. 0. 0. 0. 0. 0. 0.]\n",
      " [0. 0. 0. 0. 0. 0. 0. 0. 0. 1.]\n",
      " [0. 0. 1. 0. 0. 0. 0. 0. 0. 0.]\n",
      " [0. 1. 0. 0. 0. 0. 0. 0. 0. 0.]\n",
      " [0. 0. 0. 1. 0. 0. 0. 0. 0. 0.]\n",
      " [0. 1. 0. 0. 0. 0. 0. 0. 0. 0.]\n",
      " [0. 0. 0. 0. 1. 0. 0. 0. 0. 0.]]\n",
      "<class 'numpy.ndarray'>\n"
     ]
    }
   ],
   "source": [
    "train_sample = x_train[1:1000]\n",
    "test_sample = y_train[1:1000]\n",
    "\n",
    "start = time.time()\n",
    "preds = model4.predict(train_sample)\n",
    "end = time.time()\n",
    "\n",
    "print(np.around(preds,2))\n",
    "print(test_sample)\n",
    "print(type(train_sample))"
   ]
  },
  {
   "cell_type": "code",
   "execution_count": 10,
   "id": "afd857eb-096e-4acf-88ad-a653ae84191a",
   "metadata": {},
   "outputs": [
    {
     "name": "stdout",
     "output_type": "stream",
     "text": [
      "<tensorflow.python.keras.engine.sequential.Sequential object at 0x18429ef10>\n"
     ]
    },
    {
     "data": {
      "text/plain": [
       "48"
      ]
     },
     "execution_count": 10,
     "metadata": {},
     "output_type": "execute_result"
    }
   ],
   "source": [
    "import sys\n",
    "print(model4)\n",
    "sys.getsizeof(model4)"
   ]
  },
  {
   "cell_type": "code",
   "execution_count": 11,
   "id": "ffc9c05d-80f1-4cf3-a181-1e0277ec0e4e",
   "metadata": {},
   "outputs": [
    {
     "name": "stdout",
     "output_type": "stream",
     "text": [
      "1\n"
     ]
    }
   ],
   "source": [
    "import tensorflow as tf\n",
    "physical_devices = tf.config.list_physical_devices('CPU')\n",
    "print(len(physical_devices))"
   ]
  },
  {
   "cell_type": "code",
   "execution_count": null,
   "id": "d454e808-cf0b-4635-90a7-8e7c95734ee5",
   "metadata": {},
   "outputs": [],
   "source": []
  }
 ],
 "metadata": {
  "kernelspec": {
   "display_name": "Python 3 (ipykernel)",
   "language": "python",
   "name": "python3"
  },
  "language_info": {
   "codemirror_mode": {
    "name": "ipython",
    "version": 3
   },
   "file_extension": ".py",
   "mimetype": "text/x-python",
   "name": "python",
   "nbconvert_exporter": "python",
   "pygments_lexer": "ipython3",
   "version": "3.8.2"
  }
 },
 "nbformat": 4,
 "nbformat_minor": 5
}
