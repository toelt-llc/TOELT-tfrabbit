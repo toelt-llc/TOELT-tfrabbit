{
 "cells": [
  {
   "cell_type": "code",
   "execution_count": 1,
   "id": "eab6ee96-74f7-49da-83de-de66f41c66db",
   "metadata": {},
   "outputs": [
    {
     "name": "stdout",
     "output_type": "stream",
     "text": [
      "Sizes...\n",
      "((60000, 28, 28), (60000,))\n",
      "((10000, 28, 28), (10000,))\n"
     ]
    }
   ],
   "source": [
    "import numpy as np\n",
    "import keras\n",
    "import keras.datasets.mnist\n",
    "import time\n",
    "\n",
    "from tensorflow.keras.datasets import mnist\n",
    "from tensorflow.keras.utils import to_categorical\n",
    "from tensorflow.keras import Sequential\n",
    "from keras.layers import Dense, Flatten\n",
    "\n",
    "\n",
    "(x_train, y_train), (x_test, y_test) = keras.datasets.mnist.load_data()\n",
    "assert x_train.shape == (60000, 28, 28)\n",
    "assert x_test.shape == (10000, 28, 28)\n",
    "assert y_train.shape == (60000,)\n",
    "assert y_test.shape == (10000,) \n",
    "\n",
    "print(\"Sizes...\")\n",
    "print((x_train.shape,y_train.shape))\n",
    "print((x_test.shape,y_test.shape))"
   ]
  },
  {
   "cell_type": "code",
   "execution_count": 2,
   "id": "55a31054-ce66-41ac-bab0-dcc4b9bc4e19",
   "metadata": {},
   "outputs": [],
   "source": [
    "# Convert y_train into one-hot format\n",
    "# !!! Run only once\n",
    "temp = []\n",
    "for i in range(len(y_train)):\n",
    "    temp.append(to_categorical(y_train[i], num_classes=10))\n",
    "y_train = np.array(temp)\n",
    "# Convert y_test into one-hot format\n",
    "temp = []\n",
    "for i in range(len(y_test)):    \n",
    "    temp.append(to_categorical(y_test[i], num_classes=10))\n",
    "y_test = np.array(temp)"
   ]
  },
  {
   "cell_type": "code",
   "execution_count": 3,
   "id": "ce259c7e-71e3-495a-b8b0-c9808aad2d87",
   "metadata": {},
   "outputs": [
    {
     "name": "stdout",
     "output_type": "stream",
     "text": [
      "Sizes...\n",
      "((60000, 28, 28), (60000, 10))\n",
      "((10000, 28, 28), (10000, 10))\n"
     ]
    }
   ],
   "source": [
    "print(\"Sizes...\")\n",
    "print((x_train.shape,y_train.shape))\n",
    "print((x_test.shape,y_test.shape))"
   ]
  },
  {
   "cell_type": "code",
   "execution_count": 4,
   "id": "78eda0ea-09a0-4679-92a3-d8e0461f4320",
   "metadata": {},
   "outputs": [
    {
     "name": "stderr",
     "output_type": "stream",
     "text": [
      "2021-08-10 09:40:09.818182: I tensorflow/core/platform/cpu_feature_guard.cc:142] This TensorFlow binary is optimized with oneAPI Deep Neural Network Library (oneDNN) to use the following CPU instructions in performance-critical operations:  AVX2 FMA\n",
      "To enable them in other operations, rebuild TensorFlow with the appropriate compiler flags.\n"
     ]
    }
   ],
   "source": [
    "model4 = Sequential()\n",
    "model4.add(Flatten(input_shape=(28,28)))\n",
    "model4.add(Dense(5, activation='sigmoid'))\n",
    "model4.add(Dense(10, activation='softmax'))\n",
    "\n",
    "model4.compile(loss='categorical_crossentropy', \n",
    "              optimizer='adam',\n",
    "              metrics=['acc'])"
   ]
  },
  {
   "cell_type": "code",
   "execution_count": 5,
   "id": "2d751310-f1db-40f2-9456-6bdc8fd8f256",
   "metadata": {},
   "outputs": [
    {
     "name": "stderr",
     "output_type": "stream",
     "text": [
      "2021-08-10 09:40:16.867979: I tensorflow/compiler/mlir/mlir_graph_optimization_pass.cc:176] None of the MLIR Optimization Passes are enabled (registered 2)\n"
     ]
    },
    {
     "name": "stdout",
     "output_type": "stream",
     "text": [
      "Epoch 1/10\n",
      "1875/1875 [==============================] - 2s 729us/step - loss: 1.5960 - acc: 0.5207 - val_loss: 1.1734 - val_acc: 0.6818\n",
      "Epoch 2/10\n",
      "1875/1875 [==============================] - 1s 610us/step - loss: 1.0451 - acc: 0.6955 - val_loss: 0.9386 - val_acc: 0.7039\n",
      "Epoch 3/10\n",
      "1875/1875 [==============================] - 1s 604us/step - loss: 0.8810 - acc: 0.7291 - val_loss: 0.7849 - val_acc: 0.7488\n",
      "Epoch 4/10\n",
      "1875/1875 [==============================] - 1s 602us/step - loss: 0.7962 - acc: 0.7584 - val_loss: 0.7483 - val_acc: 0.7718\n",
      "Epoch 5/10\n",
      "1875/1875 [==============================] - 1s 606us/step - loss: 0.7532 - acc: 0.7765 - val_loss: 0.7640 - val_acc: 0.7847\n",
      "Epoch 6/10\n",
      "1875/1875 [==============================] - 1s 610us/step - loss: 0.7403 - acc: 0.7820 - val_loss: 0.6997 - val_acc: 0.7972\n",
      "Epoch 7/10\n",
      "1875/1875 [==============================] - 1s 634us/step - loss: 0.7368 - acc: 0.7765 - val_loss: 0.7101 - val_acc: 0.7910\n",
      "Epoch 8/10\n",
      "1875/1875 [==============================] - 1s 619us/step - loss: 0.7273 - acc: 0.7842 - val_loss: 0.7154 - val_acc: 0.7842\n",
      "Epoch 9/10\n",
      "1875/1875 [==============================] - 1s 636us/step - loss: 0.6925 - acc: 0.8076 - val_loss: 0.6654 - val_acc: 0.8150\n",
      "Epoch 10/10\n",
      "1875/1875 [==============================] - 1s 629us/step - loss: 0.6740 - acc: 0.8175 - val_loss: 0.6411 - val_acc: 0.8268\n"
     ]
    }
   ],
   "source": [
    "start = time.time()\n",
    "model4.fit(x_train, y_train, epochs=10,validation_data=(x_test,y_test))\n",
    "end = time.time()"
   ]
  },
  {
   "cell_type": "code",
   "execution_count": 6,
   "id": "d18c2c86-36aa-41bd-a05d-d112a9a0186e",
   "metadata": {},
   "outputs": [
    {
     "name": "stdout",
     "output_type": "stream",
     "text": [
      "Model: \"sequential\"\n",
      "_________________________________________________________________\n",
      "Layer (type)                 Output Shape              Param #   \n",
      "=================================================================\n",
      "module_wrapper (ModuleWrappe (None, 784)               0         \n",
      "_________________________________________________________________\n",
      "module_wrapper_1 (ModuleWrap (None, 5)                 3925      \n",
      "_________________________________________________________________\n",
      "module_wrapper_2 (ModuleWrap (None, 10)                60        \n",
      "=================================================================\n",
      "Total params: 3,985\n",
      "Trainable params: 3,985\n",
      "Non-trainable params: 0\n",
      "_________________________________________________________________\n"
     ]
    }
   ],
   "source": [
    "model4.summary()"
   ]
  },
  {
   "cell_type": "code",
   "execution_count": 7,
   "id": "3dd195a0-da9d-4d23-8b4c-1ec9ba3f4f0f",
   "metadata": {},
   "outputs": [
    {
     "name": "stdout",
     "output_type": "stream",
     "text": [
      "-------------------------------------------------\n",
      "Benachmark Results for this test\n",
      "\n",
      "Elapsed Time (min): 0.20707271496454874\n",
      "-------------------------------------------------\n"
     ]
    }
   ],
   "source": [
    "print(\"-------------------------------------------------\")\n",
    "print(\"Benachmark Results for this test\")\n",
    "print()\n",
    "print(\"Elapsed Time (min):\",(end - start)/60.0)\n",
    "print()\n",
    "print(\"-------------------------------------------------\")\n"
   ]
  },
  {
   "cell_type": "code",
   "execution_count": null,
   "id": "afd857eb-096e-4acf-88ad-a653ae84191a",
   "metadata": {},
   "outputs": [],
   "source": []
  }
 ],
 "metadata": {
  "kernelspec": {
   "display_name": "Python 3 (ipykernel)",
   "language": "python",
   "name": "python3"
  },
  "language_info": {
   "codemirror_mode": {
    "name": "ipython",
    "version": 3
   },
   "file_extension": ".py",
   "mimetype": "text/x-python",
   "name": "python",
   "nbconvert_exporter": "python",
   "pygments_lexer": "ipython3",
   "version": "3.8.2"
  }
 },
 "nbformat": 4,
 "nbformat_minor": 5
}
