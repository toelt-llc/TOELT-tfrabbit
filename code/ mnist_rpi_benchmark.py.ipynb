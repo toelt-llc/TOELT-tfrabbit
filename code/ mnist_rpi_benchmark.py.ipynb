{
 "cells": [
  {
   "cell_type": "code",
   "execution_count": 1,
   "id": "eab6ee96-74f7-49da-83de-de66f41c66db",
   "metadata": {},
   "outputs": [
    {
     "name": "stdout",
     "output_type": "stream",
     "text": [
      "Sizes...\n",
      "((60000, 28, 28), (60000,))\n",
      "((10000, 28, 28), (10000,))\n"
     ]
    }
   ],
   "source": [
    "import numpy as np\n",
    "import keras\n",
    "import keras.datasets.mnist\n",
    "import time\n",
    "\n",
    "from tensorflow.keras.datasets import mnist\n",
    "from tensorflow.keras.utils import to_categorical\n",
    "from tensorflow.keras import Sequential\n",
    "from keras.layers import Dense, Flatten\n",
    "\n",
    "\n",
    "(x_train, y_train), (x_test, y_test) = keras.datasets.mnist.load_data()\n",
    "assert x_train.shape == (60000, 28, 28)\n",
    "assert x_test.shape == (10000, 28, 28)\n",
    "assert y_train.shape == (60000,)\n",
    "assert y_test.shape == (10000,) \n",
    "\n",
    "print(\"Sizes...\")\n",
    "print((x_train.shape,y_train.shape))\n",
    "print((x_test.shape,y_test.shape))"
   ]
  },
  {
   "cell_type": "code",
   "execution_count": 2,
   "id": "55a31054-ce66-41ac-bab0-dcc4b9bc4e19",
   "metadata": {},
   "outputs": [],
   "source": [
    "# Convert y_train into one-hot format\n",
    "# !!! Run only once\n",
    "temp = []\n",
    "for i in range(len(y_train)):\n",
    "    temp.append(to_categorical(y_train[i], num_classes=10))\n",
    "y_train = np.array(temp)\n",
    "# Convert y_test into one-hot format\n",
    "temp = []\n",
    "for i in range(len(y_test)):    \n",
    "    temp.append(to_categorical(y_test[i], num_classes=10))\n",
    "y_test = np.array(temp)"
   ]
  },
  {
   "cell_type": "code",
   "execution_count": 3,
   "id": "ce259c7e-71e3-495a-b8b0-c9808aad2d87",
   "metadata": {},
   "outputs": [
    {
     "name": "stdout",
     "output_type": "stream",
     "text": [
      "Sizes...\n",
      "((60000, 28, 28), (60000, 10))\n",
      "((10000, 28, 28), (10000, 10))\n"
     ]
    }
   ],
   "source": [
    "print(\"Sizes...\")\n",
    "print((x_train.shape,y_train.shape))\n",
    "print((x_test.shape,y_test.shape))"
   ]
  },
  {
   "cell_type": "code",
   "execution_count": 11,
   "id": "78eda0ea-09a0-4679-92a3-d8e0461f4320",
   "metadata": {},
   "outputs": [],
   "source": [
    "model4 = Sequential()\n",
    "model4.add(Flatten(input_shape=(28,28)))\n",
    "model4.add(Dense(5, activation='sigmoid'))\n",
    "model4.add(Dense(10, activation='softmax'))\n",
    "\n",
    "model4.compile(loss='categorical_crossentropy', \n",
    "              optimizer='adam',\n",
    "              metrics=['acc'])"
   ]
  },
  {
   "cell_type": "code",
   "execution_count": 12,
   "id": "2d751310-f1db-40f2-9456-6bdc8fd8f256",
   "metadata": {},
   "outputs": [
    {
     "name": "stdout",
     "output_type": "stream",
     "text": [
      "Epoch 1/10\n",
      "1875/1875 [==============================] - 2s 668us/step - loss: 1.7073 - acc: 0.4756 - val_loss: 1.4069 - val_acc: 0.5642\n",
      "Epoch 2/10\n",
      "1875/1875 [==============================] - 1s 608us/step - loss: 1.2086 - acc: 0.6401 - val_loss: 1.0245 - val_acc: 0.7130\n",
      "Epoch 3/10\n",
      "1875/1875 [==============================] - 1s 611us/step - loss: 0.9725 - acc: 0.6974 - val_loss: 0.8891 - val_acc: 0.7302\n",
      "Epoch 4/10\n",
      "1875/1875 [==============================] - 1s 645us/step - loss: 0.8828 - acc: 0.7290 - val_loss: 0.8286 - val_acc: 0.7514\n",
      "Epoch 5/10\n",
      "1875/1875 [==============================] - 1s 621us/step - loss: 0.8412 - acc: 0.7441 - val_loss: 0.7759 - val_acc: 0.7689\n",
      "Epoch 6/10\n",
      "1875/1875 [==============================] - 1s 624us/step - loss: 0.8307 - acc: 0.7479 - val_loss: 0.9577 - val_acc: 0.6803\n",
      "Epoch 7/10\n",
      "1875/1875 [==============================] - 1s 619us/step - loss: 0.8193 - acc: 0.7521 - val_loss: 0.7625 - val_acc: 0.7748\n",
      "Epoch 8/10\n",
      "1875/1875 [==============================] - 1s 614us/step - loss: 0.7821 - acc: 0.7702 - val_loss: 0.7357 - val_acc: 0.7866\n",
      "Epoch 9/10\n",
      "1875/1875 [==============================] - 1s 614us/step - loss: 0.7745 - acc: 0.7751 - val_loss: 0.7298 - val_acc: 0.7872\n",
      "Epoch 10/10\n",
      "1875/1875 [==============================] - 1s 614us/step - loss: 0.7617 - acc: 0.7764 - val_loss: 0.7176 - val_acc: 0.7881\n"
     ]
    }
   ],
   "source": [
    "start = time.time()\n",
    "model4.fit(x_train, y_train, epochs=10,validation_data=(x_test,y_test))\n",
    "end = time.time()"
   ]
  },
  {
   "cell_type": "code",
   "execution_count": 6,
   "id": "d18c2c86-36aa-41bd-a05d-d112a9a0186e",
   "metadata": {},
   "outputs": [
    {
     "name": "stdout",
     "output_type": "stream",
     "text": [
      "Model: \"sequential\"\n",
      "_________________________________________________________________\n",
      "Layer (type)                 Output Shape              Param #   \n",
      "=================================================================\n",
      "module_wrapper (ModuleWrappe (None, 784)               0         \n",
      "_________________________________________________________________\n",
      "module_wrapper_1 (ModuleWrap (None, 5)                 3925      \n",
      "_________________________________________________________________\n",
      "module_wrapper_2 (ModuleWrap (None, 10)                60        \n",
      "=================================================================\n",
      "Total params: 3,985\n",
      "Trainable params: 3,985\n",
      "Non-trainable params: 0\n",
      "_________________________________________________________________\n"
     ]
    }
   ],
   "source": [
    "model4.summary()"
   ]
  },
  {
   "cell_type": "code",
   "execution_count": 8,
   "id": "3dd195a0-da9d-4d23-8b4c-1ec9ba3f4f0f",
   "metadata": {},
   "outputs": [
    {
     "name": "stdout",
     "output_type": "stream",
     "text": [
      "-------------------------------------------------\n",
      "Benachmark Results for this test\n",
      "\n",
      "Elapsed Time (min): 0.20707271496454874\n",
      "12.424362897872925 seconds\n",
      "-------------------------------------------------\n"
     ]
    }
   ],
   "source": [
    "print(\"-------------------------------------------------\")\n",
    "print(\"Benachmark Results for this test\")\n",
    "print()\n",
    "print(\"Elapsed Time (min):\",(end - start)/60.0)\n",
    "print(end-start, \"seconds\")\n",
    "print(\"-------------------------------------------------\")\n"
   ]
  },
  {
   "cell_type": "code",
   "execution_count": null,
   "id": "afd857eb-096e-4acf-88ad-a653ae84191a",
   "metadata": {},
   "outputs": [],
   "source": []
  }
 ],
 "metadata": {
  "kernelspec": {
   "display_name": "Python 3 (ipykernel)",
   "language": "python",
   "name": "python3"
  },
  "language_info": {
   "codemirror_mode": {
    "name": "ipython",
    "version": 3
   },
   "file_extension": ".py",
   "mimetype": "text/x-python",
   "name": "python",
   "nbconvert_exporter": "python",
   "pygments_lexer": "ipython3",
   "version": "3.8.2"
  }
 },
 "nbformat": 4,
 "nbformat_minor": 5
}
